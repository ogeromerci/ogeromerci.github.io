{
 "cells": [
  {
   "cell_type": "markdown",
   "id": "d0a7edba-28a0-4b44-a674-a5e1faaf920c",
   "metadata": {},
   "source": [
    "# PYTHON STATSMODEL"
   ]
  },
  {
   "cell_type": "code",
   "execution_count": 17,
   "id": "4126cf00-e72a-403f-abef-e8e3d12ee5f2",
   "metadata": {},
   "outputs": [],
   "source": [
    "#***Groups - total representation - The Whole\n",
    "\n",
    "#** Samples ** Representation of the whole"
   ]
  },
  {
   "cell_type": "code",
   "execution_count": 66,
   "id": "81ef2459-4708-47cd-afa2-4fdc28957c06",
   "metadata": {},
   "outputs": [],
   "source": [
    "# libs\n",
    "import numpy as np\n",
    "import statsmodels\n",
    "import pandas as pd\n",
    "import statistics as st\n",
    "\n",
    "\n"
   ]
  },
  {
   "cell_type": "code",
   "execution_count": 19,
   "id": "0cc82979-d6c8-4265-8641-69e6b36b8897",
   "metadata": {},
   "outputs": [],
   "source": [
    "\n",
    "# read the public debt file\n",
    "data_source = \"C:\\\\Users\\\\Lenovo\\\\OneDrive\\\\Documents\\\\UADSL\\\\PYTHON\\\\DATA\\\\Public Debt (Ksh Million).csv\"\n",
    "df = pd.read_csv(data_source)\n"
   ]
  },
  {
   "cell_type": "code",
   "execution_count": 12,
   "id": "1a56ec35-5d0c-4db4-8c14-c591bb057205",
   "metadata": {},
   "outputs": [
    {
     "data": {
      "text/html": [
       "<div>\n",
       "<style scoped>\n",
       "    .dataframe tbody tr th:only-of-type {\n",
       "        vertical-align: middle;\n",
       "    }\n",
       "\n",
       "    .dataframe tbody tr th {\n",
       "        vertical-align: top;\n",
       "    }\n",
       "\n",
       "    .dataframe thead th {\n",
       "        text-align: right;\n",
       "    }\n",
       "</style>\n",
       "<table border=\"1\" class=\"dataframe\">\n",
       "  <thead>\n",
       "    <tr style=\"text-align: right;\">\n",
       "      <th></th>\n",
       "      <th>Year</th>\n",
       "      <th>Month</th>\n",
       "      <th>Domestic Debt</th>\n",
       "      <th>External Debt</th>\n",
       "      <th>Total</th>\n",
       "    </tr>\n",
       "  </thead>\n",
       "  <tbody>\n",
       "    <tr>\n",
       "      <th>0</th>\n",
       "      <td>2021</td>\n",
       "      <td>December</td>\n",
       "      <td>4,032,368.18</td>\n",
       "      <td>4,174,371.53</td>\n",
       "      <td>8,206,739.71</td>\n",
       "    </tr>\n",
       "    <tr>\n",
       "      <th>1</th>\n",
       "      <td>2021</td>\n",
       "      <td>November</td>\n",
       "      <td>4,008,077.30</td>\n",
       "      <td>4,109,282.85</td>\n",
       "      <td>8,117,360.15</td>\n",
       "    </tr>\n",
       "    <tr>\n",
       "      <th>2</th>\n",
       "      <td>2021</td>\n",
       "      <td>October</td>\n",
       "      <td>3,959,523.30</td>\n",
       "      <td>4,083,124.54</td>\n",
       "      <td>8,042,647.84</td>\n",
       "    </tr>\n",
       "    <tr>\n",
       "      <th>3</th>\n",
       "      <td>2021</td>\n",
       "      <td>September</td>\n",
       "      <td>3,937,777.45</td>\n",
       "      <td>4,062,504.78</td>\n",
       "      <td>8,000,282.23</td>\n",
       "    </tr>\n",
       "    <tr>\n",
       "      <th>4</th>\n",
       "      <td>2021</td>\n",
       "      <td>August</td>\n",
       "      <td>3,864,875.78</td>\n",
       "      <td>4,054,862.85</td>\n",
       "      <td>7,919,738.63</td>\n",
       "    </tr>\n",
       "    <tr>\n",
       "      <th>...</th>\n",
       "      <td>...</td>\n",
       "      <td>...</td>\n",
       "      <td>...</td>\n",
       "      <td>...</td>\n",
       "      <td>...</td>\n",
       "    </tr>\n",
       "    <tr>\n",
       "      <th>257</th>\n",
       "      <td>2000</td>\n",
       "      <td>July</td>\n",
       "      <td>202,362.00</td>\n",
       "      <td>394,667.37</td>\n",
       "      <td>597,029.37</td>\n",
       "    </tr>\n",
       "    <tr>\n",
       "      <th>258</th>\n",
       "      <td>2000</td>\n",
       "      <td>June</td>\n",
       "      <td>206,127.00</td>\n",
       "      <td>395,694.00</td>\n",
       "      <td>601,821.00</td>\n",
       "    </tr>\n",
       "    <tr>\n",
       "      <th>259</th>\n",
       "      <td>2000</td>\n",
       "      <td>March</td>\n",
       "      <td>201,463.22</td>\n",
       "      <td>396,800.00</td>\n",
       "      <td>598,263.22</td>\n",
       "    </tr>\n",
       "    <tr>\n",
       "      <th>260</th>\n",
       "      <td>1999</td>\n",
       "      <td>December</td>\n",
       "      <td>190,300.00</td>\n",
       "      <td>311,953.00</td>\n",
       "      <td>502,253.00</td>\n",
       "    </tr>\n",
       "    <tr>\n",
       "      <th>261</th>\n",
       "      <td>1999</td>\n",
       "      <td>September</td>\n",
       "      <td>183,417.00</td>\n",
       "      <td>320,137.00</td>\n",
       "      <td>503,554.00</td>\n",
       "    </tr>\n",
       "  </tbody>\n",
       "</table>\n",
       "<p>262 rows × 5 columns</p>\n",
       "</div>"
      ],
      "text/plain": [
       "     Year      Month Domestic Debt External Debt         Total\n",
       "0    2021   December  4,032,368.18  4,174,371.53  8,206,739.71\n",
       "1    2021   November  4,008,077.30  4,109,282.85  8,117,360.15\n",
       "2    2021    October  3,959,523.30  4,083,124.54  8,042,647.84\n",
       "3    2021  September  3,937,777.45  4,062,504.78  8,000,282.23\n",
       "4    2021     August  3,864,875.78  4,054,862.85  7,919,738.63\n",
       "..    ...        ...           ...           ...           ...\n",
       "257  2000       July    202,362.00    394,667.37    597,029.37\n",
       "258  2000       June    206,127.00    395,694.00    601,821.00\n",
       "259  2000      March    201,463.22    396,800.00    598,263.22\n",
       "260  1999   December    190,300.00    311,953.00    502,253.00\n",
       "261  1999  September    183,417.00    320,137.00    503,554.00\n",
       "\n",
       "[262 rows x 5 columns]"
      ]
     },
     "execution_count": 12,
     "metadata": {},
     "output_type": "execute_result"
    }
   ],
   "source": [
    "df"
   ]
  },
  {
   "cell_type": "code",
   "execution_count": 23,
   "id": "8819c74a-a08d-4d98-be94-fa4cd67997e8",
   "metadata": {},
   "outputs": [],
   "source": [
    "# Domestic Debt\n",
    "df['Domestic Debt'] = df['Domestic Debt'].apply(lambda x : x.replace(',',''))\n",
    "df['Domestic Debt'] = df['Domestic Debt'].apply(lambda x : float(x))\n",
    "\n",
    "# External debt\n",
    "df['External Debt'] = df['External Debt'].apply(lambda x : x.replace(',',''))\n",
    "df['External Debt'] = df['External Debt'].apply(lambda x : float(x))\n",
    "\n",
    "# Total\n",
    "df['Total'] = df['Total'].apply(lambda x : x.replace(',',''))\n",
    "df['Total'] = df['Total'].apply(lambda x : float(x))"
   ]
  },
  {
   "cell_type": "code",
   "execution_count": 14,
   "id": "78983733-ed21-499e-bf3e-409890b1e810",
   "metadata": {},
   "outputs": [
    {
     "data": {
      "text/plain": [
       "0      4032368.18\n",
       "1      4008077.30\n",
       "2      3959523.30\n",
       "3      3937777.45\n",
       "4      3864875.78\n",
       "          ...    \n",
       "257     202362.00\n",
       "258     206127.00\n",
       "259     201463.22\n",
       "260     190300.00\n",
       "261     183417.00\n",
       "Name: Domestic Debt, Length: 262, dtype: float64"
      ]
     },
     "execution_count": 14,
     "metadata": {},
     "output_type": "execute_result"
    }
   ],
   "source": [
    "df[\"Domestic Debt\"]"
   ]
  },
  {
   "cell_type": "code",
   "execution_count": 15,
   "id": "cba08991-0758-428c-b42d-9f1ddfc44247",
   "metadata": {},
   "outputs": [
    {
     "data": {
      "text/plain": [
       "0      4174371.53\n",
       "1      4109282.85\n",
       "2      4083124.54\n",
       "3      4062504.78\n",
       "4      4054862.85\n",
       "          ...    \n",
       "257     394667.37\n",
       "258     395694.00\n",
       "259     396800.00\n",
       "260     311953.00\n",
       "261     320137.00\n",
       "Name: External Debt, Length: 262, dtype: float64"
      ]
     },
     "execution_count": 15,
     "metadata": {},
     "output_type": "execute_result"
    }
   ],
   "source": [
    "df[\"External Debt\"]"
   ]
  },
  {
   "cell_type": "code",
   "execution_count": 16,
   "id": "dfcc657b-4e5d-44f1-adf4-b551efbf0550",
   "metadata": {},
   "outputs": [
    {
     "data": {
      "text/plain": [
       "0      8206739.71\n",
       "1      8117360.15\n",
       "2      8042647.84\n",
       "3      8000282.23\n",
       "4      7919738.63\n",
       "          ...    \n",
       "257     597029.37\n",
       "258     601821.00\n",
       "259     598263.22\n",
       "260     502253.00\n",
       "261     503554.00\n",
       "Name: Total, Length: 262, dtype: float64"
      ]
     },
     "execution_count": 16,
     "metadata": {},
     "output_type": "execute_result"
    }
   ],
   "source": [
    "df[\"Total\"]"
   ]
  },
  {
   "cell_type": "code",
   "execution_count": 24,
   "id": "7b4df8b4-0f1e-489f-b872-8808345dab16",
   "metadata": {},
   "outputs": [
    {
     "name": "stdout",
     "output_type": "stream",
     "text": [
      "<class 'pandas.core.frame.DataFrame'>\n",
      "RangeIndex: 262 entries, 0 to 261\n",
      "Data columns (total 5 columns):\n",
      " #   Column         Non-Null Count  Dtype  \n",
      "---  ------         --------------  -----  \n",
      " 0   Year           262 non-null    int64  \n",
      " 1   Month          262 non-null    object \n",
      " 2   Domestic Debt  262 non-null    float64\n",
      " 3   External Debt  262 non-null    float64\n",
      " 4   Total          262 non-null    float64\n",
      "dtypes: float64(3), int64(1), object(1)\n",
      "memory usage: 10.4+ KB\n"
     ]
    }
   ],
   "source": [
    "df.info()"
   ]
  },
  {
   "cell_type": "code",
   "execution_count": 25,
   "id": "1956420b-31b2-414c-974c-3502012ba714",
   "metadata": {},
   "outputs": [
    {
     "data": {
      "text/html": [
       "<div>\n",
       "<style scoped>\n",
       "    .dataframe tbody tr th:only-of-type {\n",
       "        vertical-align: middle;\n",
       "    }\n",
       "\n",
       "    .dataframe tbody tr th {\n",
       "        vertical-align: top;\n",
       "    }\n",
       "\n",
       "    .dataframe thead th {\n",
       "        text-align: right;\n",
       "    }\n",
       "</style>\n",
       "<table border=\"1\" class=\"dataframe\">\n",
       "  <thead>\n",
       "    <tr style=\"text-align: right;\">\n",
       "      <th></th>\n",
       "      <th>Year</th>\n",
       "      <th>Domestic Debt</th>\n",
       "      <th>External Debt</th>\n",
       "      <th>Total</th>\n",
       "    </tr>\n",
       "  </thead>\n",
       "  <tbody>\n",
       "    <tr>\n",
       "      <th>count</th>\n",
       "      <td>262.000000</td>\n",
       "      <td>2.620000e+02</td>\n",
       "      <td>2.620000e+02</td>\n",
       "      <td>2.620000e+02</td>\n",
       "    </tr>\n",
       "    <tr>\n",
       "      <th>mean</th>\n",
       "      <td>2010.572519</td>\n",
       "      <td>1.166927e+06</td>\n",
       "      <td>1.213153e+06</td>\n",
       "      <td>2.380080e+06</td>\n",
       "    </tr>\n",
       "    <tr>\n",
       "      <th>std</th>\n",
       "      <td>6.327015</td>\n",
       "      <td>1.058535e+06</td>\n",
       "      <td>1.104623e+06</td>\n",
       "      <td>2.159117e+06</td>\n",
       "    </tr>\n",
       "    <tr>\n",
       "      <th>min</th>\n",
       "      <td>1999.000000</td>\n",
       "      <td>1.834170e+05</td>\n",
       "      <td>3.119530e+05</td>\n",
       "      <td>5.022530e+05</td>\n",
       "    </tr>\n",
       "    <tr>\n",
       "      <th>25%</th>\n",
       "      <td>2005.000000</td>\n",
       "      <td>3.262354e+05</td>\n",
       "      <td>4.175753e+05</td>\n",
       "      <td>7.512072e+05</td>\n",
       "    </tr>\n",
       "    <tr>\n",
       "      <th>50%</th>\n",
       "      <td>2011.000000</td>\n",
       "      <td>7.328289e+05</td>\n",
       "      <td>6.230025e+05</td>\n",
       "      <td>1.361437e+06</td>\n",
       "    </tr>\n",
       "    <tr>\n",
       "      <th>75%</th>\n",
       "      <td>2016.000000</td>\n",
       "      <td>1.813763e+06</td>\n",
       "      <td>1.801866e+06</td>\n",
       "      <td>3.615630e+06</td>\n",
       "    </tr>\n",
       "    <tr>\n",
       "      <th>max</th>\n",
       "      <td>2021.000000</td>\n",
       "      <td>4.032368e+06</td>\n",
       "      <td>4.174372e+06</td>\n",
       "      <td>8.206740e+06</td>\n",
       "    </tr>\n",
       "  </tbody>\n",
       "</table>\n",
       "</div>"
      ],
      "text/plain": [
       "              Year  Domestic Debt  External Debt         Total\n",
       "count   262.000000   2.620000e+02   2.620000e+02  2.620000e+02\n",
       "mean   2010.572519   1.166927e+06   1.213153e+06  2.380080e+06\n",
       "std       6.327015   1.058535e+06   1.104623e+06  2.159117e+06\n",
       "min    1999.000000   1.834170e+05   3.119530e+05  5.022530e+05\n",
       "25%    2005.000000   3.262354e+05   4.175753e+05  7.512072e+05\n",
       "50%    2011.000000   7.328289e+05   6.230025e+05  1.361437e+06\n",
       "75%    2016.000000   1.813763e+06   1.801866e+06  3.615630e+06\n",
       "max    2021.000000   4.032368e+06   4.174372e+06  8.206740e+06"
      ]
     },
     "execution_count": 25,
     "metadata": {},
     "output_type": "execute_result"
    }
   ],
   "source": [
    "df.describe()"
   ]
  },
  {
   "cell_type": "code",
   "execution_count": 29,
   "id": "6f183f0c-f0c6-45fe-a30c-480a58f5bcb5",
   "metadata": {},
   "outputs": [
    {
     "data": {
      "text/plain": [
       "1104622.8207068825"
      ]
     },
     "execution_count": 29,
     "metadata": {},
     "output_type": "execute_result"
    }
   ],
   "source": [
    "# STATISTICAL SUMMARIES\n",
    "# maximum\n",
    "df[\"External Debt\"].max()\n",
    "\n",
    "# mean\n",
    "df[\"External Debt\"].mean()\n",
    "\n",
    "# Standard deviation\n",
    "df['External Debt'].std()"
   ]
  },
  {
   "cell_type": "code",
   "execution_count": 30,
   "id": "a848949d-4428-4841-a864-245f3bd9bd14",
   "metadata": {},
   "outputs": [
    {
     "data": {
      "text/plain": [
       "1213152.6395419845"
      ]
     },
     "execution_count": 30,
     "metadata": {},
     "output_type": "execute_result"
    }
   ],
   "source": [
    "# using numpy\n",
    "# using numpy is much better than using dataframe\n",
    "np.mean(df[\"External Debt\"])"
   ]
  },
  {
   "cell_type": "code",
   "execution_count": 31,
   "id": "7ff0794e-3e21-4545-89b9-2ee87c5bfbbd",
   "metadata": {},
   "outputs": [
    {
     "data": {
      "text/plain": [
       "1102512.7465342989"
      ]
     },
     "execution_count": 31,
     "metadata": {},
     "output_type": "execute_result"
    }
   ],
   "source": [
    "np.std(df[\"External Debt\"])"
   ]
  },
  {
   "cell_type": "code",
   "execution_count": 67,
   "id": "ef603da1-da05-4e3f-884a-3dafb88e9c09",
   "metadata": {},
   "outputs": [
    {
     "data": {
      "text/plain": [
       "623002.505"
      ]
     },
     "execution_count": 67,
     "metadata": {},
     "output_type": "execute_result"
    }
   ],
   "source": [
    "# mean\n",
    "np.mean(df[\"External Debt\"])\n",
    "\n",
    "# median\n",
    "np.median(df[\"External Debt\"])\n",
    "\n",
    "\n",
    "\n"
   ]
  },
  {
   "cell_type": "code",
   "execution_count": null,
   "id": "b00d5bba-8776-4acf-98e0-f905963114ff",
   "metadata": {},
   "outputs": [],
   "source": []
  },
  {
   "cell_type": "code",
   "execution_count": 56,
   "id": "83a78e22-e049-449c-96cd-8919f7663f37",
   "metadata": {},
   "outputs": [
    {
     "data": {
      "text/plain": [
       "262"
      ]
     },
     "execution_count": 56,
     "metadata": {},
     "output_type": "execute_result"
    }
   ],
   "source": [
    "# count \n",
    "len(df[\"External Debt\"])"
   ]
  },
  {
   "cell_type": "code",
   "execution_count": 48,
   "id": "d373e677-6cfb-46bf-ab7a-3fdc29e7526e",
   "metadata": {},
   "outputs": [
    {
     "data": {
      "text/plain": [
       "4174371.53"
      ]
     },
     "execution_count": 48,
     "metadata": {},
     "output_type": "execute_result"
    }
   ],
   "source": [
    "# mode\n",
    "statistics.mode(df[\"External Debt\"])"
   ]
  },
  {
   "cell_type": "code",
   "execution_count": 58,
   "id": "19cf05ef-17ad-4f85-ba9b-d6e6e088b0df",
   "metadata": {},
   "outputs": [
    {
     "data": {
      "text/plain": [
       "1801866.32"
      ]
     },
     "execution_count": 58,
     "metadata": {},
     "output_type": "execute_result"
    }
   ],
   "source": [
    "# first quartile\n",
    "np.percentile(df[\"External Debt\"], 25)"
   ]
  },
  {
   "cell_type": "code",
   "execution_count": 57,
   "id": "86c4899b-1a16-45a3-9df8-d3d35058d25a",
   "metadata": {},
   "outputs": [
    {
     "data": {
      "text/plain": [
       "623002.505"
      ]
     },
     "execution_count": 57,
     "metadata": {},
     "output_type": "execute_result"
    }
   ],
   "source": [
    "# median or second quartile\n",
    "np.percentile(df[\"External Debt\"], 50)"
   ]
  },
  {
   "cell_type": "code",
   "execution_count": 59,
   "id": "06c84964-f814-488e-9726-2027c416e372",
   "metadata": {},
   "outputs": [
    {
     "data": {
      "text/plain": [
       "1801866.32"
      ]
     },
     "execution_count": 59,
     "metadata": {},
     "output_type": "execute_result"
    }
   ],
   "source": [
    "# third quartile\n",
    "np.percentile(df[\"External Debt\"], 75)"
   ]
  },
  {
   "cell_type": "code",
   "execution_count": 60,
   "id": "599c5edc-0755-4cfb-96c8-57c0db7298e5",
   "metadata": {},
   "outputs": [
    {
     "data": {
      "text/plain": [
       "394770.033"
      ]
     },
     "execution_count": 60,
     "metadata": {},
     "output_type": "execute_result"
    }
   ],
   "source": [
    "# 10th percentile \n",
    "np.percentile(df[\"External Debt\"], 10)"
   ]
  },
  {
   "cell_type": "code",
   "execution_count": null,
   "id": "72ef63ad-29b5-4d12-bf56-a8765fe73572",
   "metadata": {},
   "outputs": [],
   "source": []
  }
 ],
 "metadata": {
  "kernelspec": {
   "display_name": "Python 3 (ipykernel)",
   "language": "python",
   "name": "python3"
  },
  "language_info": {
   "codemirror_mode": {
    "name": "ipython",
    "version": 3
   },
   "file_extension": ".py",
   "mimetype": "text/x-python",
   "name": "python",
   "nbconvert_exporter": "python",
   "pygments_lexer": "ipython3",
   "version": "3.11.7"
  }
 },
 "nbformat": 4,
 "nbformat_minor": 5
}
