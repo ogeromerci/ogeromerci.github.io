{
 "cells": [
  {
   "cell_type": "markdown",
   "id": "84745669-f549-488e-91cc-071c8184c631",
   "metadata": {},
   "source": [
    "### Analysis of Kenya`s Public Debt Dataset (2021)"
   ]
  },
  {
   "cell_type": "code",
   "execution_count": 1,
   "id": "3b69890f-c174-403f-9ef7-8360e9fc28c0",
   "metadata": {},
   "outputs": [],
   "source": [
    "# get the pandas library \n",
    "import pandas as pd"
   ]
  },
  {
   "cell_type": "code",
   "execution_count": 2,
   "id": "311416ee-65ed-443d-a0ab-ce66b375abff",
   "metadata": {},
   "outputs": [],
   "source": [
    "# create a data frame object and read the downloaded dataset \n",
    "kenya_debt = pd.read_csv(\"Public Debt (Ksh Million).csv\")"
   ]
  },
  {
   "cell_type": "code",
   "execution_count": 3,
   "id": "4fbd2be3-e4b0-47f4-b508-60a895f31158",
   "metadata": {},
   "outputs": [
    {
     "data": {
      "text/html": [
       "<div>\n",
       "<style scoped>\n",
       "    .dataframe tbody tr th:only-of-type {\n",
       "        vertical-align: middle;\n",
       "    }\n",
       "\n",
       "    .dataframe tbody tr th {\n",
       "        vertical-align: top;\n",
       "    }\n",
       "\n",
       "    .dataframe thead th {\n",
       "        text-align: right;\n",
       "    }\n",
       "</style>\n",
       "<table border=\"1\" class=\"dataframe\">\n",
       "  <thead>\n",
       "    <tr style=\"text-align: right;\">\n",
       "      <th></th>\n",
       "      <th>Year</th>\n",
       "      <th>Month</th>\n",
       "      <th>Domestic Debt</th>\n",
       "      <th>External Debt</th>\n",
       "      <th>Total</th>\n",
       "    </tr>\n",
       "  </thead>\n",
       "  <tbody>\n",
       "    <tr>\n",
       "      <th>0</th>\n",
       "      <td>2021</td>\n",
       "      <td>December</td>\n",
       "      <td>4,032,368.18</td>\n",
       "      <td>4,174,371.53</td>\n",
       "      <td>8,206,739.71</td>\n",
       "    </tr>\n",
       "    <tr>\n",
       "      <th>1</th>\n",
       "      <td>2021</td>\n",
       "      <td>November</td>\n",
       "      <td>4,008,077.30</td>\n",
       "      <td>4,109,282.85</td>\n",
       "      <td>8,117,360.15</td>\n",
       "    </tr>\n",
       "    <tr>\n",
       "      <th>2</th>\n",
       "      <td>2021</td>\n",
       "      <td>October</td>\n",
       "      <td>3,959,523.30</td>\n",
       "      <td>4,083,124.54</td>\n",
       "      <td>8,042,647.84</td>\n",
       "    </tr>\n",
       "    <tr>\n",
       "      <th>3</th>\n",
       "      <td>2021</td>\n",
       "      <td>September</td>\n",
       "      <td>3,937,777.45</td>\n",
       "      <td>4,062,504.78</td>\n",
       "      <td>8,000,282.23</td>\n",
       "    </tr>\n",
       "    <tr>\n",
       "      <th>4</th>\n",
       "      <td>2021</td>\n",
       "      <td>August</td>\n",
       "      <td>3,864,875.78</td>\n",
       "      <td>4,054,862.85</td>\n",
       "      <td>7,919,738.63</td>\n",
       "    </tr>\n",
       "    <tr>\n",
       "      <th>...</th>\n",
       "      <td>...</td>\n",
       "      <td>...</td>\n",
       "      <td>...</td>\n",
       "      <td>...</td>\n",
       "      <td>...</td>\n",
       "    </tr>\n",
       "    <tr>\n",
       "      <th>257</th>\n",
       "      <td>2000</td>\n",
       "      <td>July</td>\n",
       "      <td>202,362.00</td>\n",
       "      <td>394,667.37</td>\n",
       "      <td>597,029.37</td>\n",
       "    </tr>\n",
       "    <tr>\n",
       "      <th>258</th>\n",
       "      <td>2000</td>\n",
       "      <td>June</td>\n",
       "      <td>206,127.00</td>\n",
       "      <td>395,694.00</td>\n",
       "      <td>601,821.00</td>\n",
       "    </tr>\n",
       "    <tr>\n",
       "      <th>259</th>\n",
       "      <td>2000</td>\n",
       "      <td>March</td>\n",
       "      <td>201,463.22</td>\n",
       "      <td>396,800.00</td>\n",
       "      <td>598,263.22</td>\n",
       "    </tr>\n",
       "    <tr>\n",
       "      <th>260</th>\n",
       "      <td>1999</td>\n",
       "      <td>December</td>\n",
       "      <td>190,300.00</td>\n",
       "      <td>311,953.00</td>\n",
       "      <td>502,253.00</td>\n",
       "    </tr>\n",
       "    <tr>\n",
       "      <th>261</th>\n",
       "      <td>1999</td>\n",
       "      <td>September</td>\n",
       "      <td>183,417.00</td>\n",
       "      <td>320,137.00</td>\n",
       "      <td>503,554.00</td>\n",
       "    </tr>\n",
       "  </tbody>\n",
       "</table>\n",
       "<p>262 rows × 5 columns</p>\n",
       "</div>"
      ],
      "text/plain": [
       "     Year      Month Domestic Debt External Debt         Total\n",
       "0    2021   December  4,032,368.18  4,174,371.53  8,206,739.71\n",
       "1    2021   November  4,008,077.30  4,109,282.85  8,117,360.15\n",
       "2    2021    October  3,959,523.30  4,083,124.54  8,042,647.84\n",
       "3    2021  September  3,937,777.45  4,062,504.78  8,000,282.23\n",
       "4    2021     August  3,864,875.78  4,054,862.85  7,919,738.63\n",
       "..    ...        ...           ...           ...           ...\n",
       "257  2000       July    202,362.00    394,667.37    597,029.37\n",
       "258  2000       June    206,127.00    395,694.00    601,821.00\n",
       "259  2000      March    201,463.22    396,800.00    598,263.22\n",
       "260  1999   December    190,300.00    311,953.00    502,253.00\n",
       "261  1999  September    183,417.00    320,137.00    503,554.00\n",
       "\n",
       "[262 rows x 5 columns]"
      ]
     },
     "execution_count": 3,
     "metadata": {},
     "output_type": "execute_result"
    }
   ],
   "source": [
    "kenya_debt"
   ]
  },
  {
   "cell_type": "code",
   "execution_count": 4,
   "id": "a85de6a7-dc2d-4bd5-b080-c4c93112aae0",
   "metadata": {},
   "outputs": [
    {
     "data": {
      "text/plain": [
       "(262, 5)"
      ]
     },
     "execution_count": 4,
     "metadata": {},
     "output_type": "execute_result"
    }
   ],
   "source": [
    "# rows and columns present in the dataset \n",
    "kenya_debt.shape"
   ]
  },
  {
   "cell_type": "code",
   "execution_count": 5,
   "id": "7bd9f649-7106-4a4e-b448-72dfaecc95cf",
   "metadata": {},
   "outputs": [
    {
     "data": {
      "text/html": [
       "<div>\n",
       "<style scoped>\n",
       "    .dataframe tbody tr th:only-of-type {\n",
       "        vertical-align: middle;\n",
       "    }\n",
       "\n",
       "    .dataframe tbody tr th {\n",
       "        vertical-align: top;\n",
       "    }\n",
       "\n",
       "    .dataframe thead th {\n",
       "        text-align: right;\n",
       "    }\n",
       "</style>\n",
       "<table border=\"1\" class=\"dataframe\">\n",
       "  <thead>\n",
       "    <tr style=\"text-align: right;\">\n",
       "      <th></th>\n",
       "      <th>Year</th>\n",
       "      <th>Month</th>\n",
       "      <th>Domestic Debt</th>\n",
       "      <th>External Debt</th>\n",
       "      <th>Total</th>\n",
       "    </tr>\n",
       "  </thead>\n",
       "  <tbody>\n",
       "    <tr>\n",
       "      <th>0</th>\n",
       "      <td>2021</td>\n",
       "      <td>December</td>\n",
       "      <td>4,032,368.18</td>\n",
       "      <td>4,174,371.53</td>\n",
       "      <td>8,206,739.71</td>\n",
       "    </tr>\n",
       "    <tr>\n",
       "      <th>1</th>\n",
       "      <td>2021</td>\n",
       "      <td>November</td>\n",
       "      <td>4,008,077.30</td>\n",
       "      <td>4,109,282.85</td>\n",
       "      <td>8,117,360.15</td>\n",
       "    </tr>\n",
       "    <tr>\n",
       "      <th>2</th>\n",
       "      <td>2021</td>\n",
       "      <td>October</td>\n",
       "      <td>3,959,523.30</td>\n",
       "      <td>4,083,124.54</td>\n",
       "      <td>8,042,647.84</td>\n",
       "    </tr>\n",
       "  </tbody>\n",
       "</table>\n",
       "</div>"
      ],
      "text/plain": [
       "   Year     Month Domestic Debt External Debt         Total\n",
       "0  2021  December  4,032,368.18  4,174,371.53  8,206,739.71\n",
       "1  2021  November  4,008,077.30  4,109,282.85  8,117,360.15\n",
       "2  2021   October  3,959,523.30  4,083,124.54  8,042,647.84"
      ]
     },
     "execution_count": 5,
     "metadata": {},
     "output_type": "execute_result"
    }
   ],
   "source": [
    "kenya_debt.head(3)"
   ]
  },
  {
   "cell_type": "code",
   "execution_count": 6,
   "id": "899fac0f-be59-489d-837f-68e505f7c202",
   "metadata": {},
   "outputs": [
    {
     "data": {
      "text/html": [
       "<div>\n",
       "<style scoped>\n",
       "    .dataframe tbody tr th:only-of-type {\n",
       "        vertical-align: middle;\n",
       "    }\n",
       "\n",
       "    .dataframe tbody tr th {\n",
       "        vertical-align: top;\n",
       "    }\n",
       "\n",
       "    .dataframe thead th {\n",
       "        text-align: right;\n",
       "    }\n",
       "</style>\n",
       "<table border=\"1\" class=\"dataframe\">\n",
       "  <thead>\n",
       "    <tr style=\"text-align: right;\">\n",
       "      <th></th>\n",
       "      <th>Year</th>\n",
       "      <th>Month</th>\n",
       "      <th>Domestic Debt</th>\n",
       "      <th>External Debt</th>\n",
       "      <th>Total</th>\n",
       "    </tr>\n",
       "  </thead>\n",
       "  <tbody>\n",
       "    <tr>\n",
       "      <th>259</th>\n",
       "      <td>2000</td>\n",
       "      <td>March</td>\n",
       "      <td>201,463.22</td>\n",
       "      <td>396,800.00</td>\n",
       "      <td>598,263.22</td>\n",
       "    </tr>\n",
       "    <tr>\n",
       "      <th>260</th>\n",
       "      <td>1999</td>\n",
       "      <td>December</td>\n",
       "      <td>190,300.00</td>\n",
       "      <td>311,953.00</td>\n",
       "      <td>502,253.00</td>\n",
       "    </tr>\n",
       "    <tr>\n",
       "      <th>261</th>\n",
       "      <td>1999</td>\n",
       "      <td>September</td>\n",
       "      <td>183,417.00</td>\n",
       "      <td>320,137.00</td>\n",
       "      <td>503,554.00</td>\n",
       "    </tr>\n",
       "  </tbody>\n",
       "</table>\n",
       "</div>"
      ],
      "text/plain": [
       "     Year      Month Domestic Debt External Debt       Total\n",
       "259  2000      March    201,463.22    396,800.00  598,263.22\n",
       "260  1999   December    190,300.00    311,953.00  502,253.00\n",
       "261  1999  September    183,417.00    320,137.00  503,554.00"
      ]
     },
     "execution_count": 6,
     "metadata": {},
     "output_type": "execute_result"
    }
   ],
   "source": [
    "# what do the last three rows look like?\n",
    "kenya_debt.tail(3)"
   ]
  },
  {
   "cell_type": "code",
   "execution_count": 12,
   "id": "448edb6c-d242-46eb-8206-d49df0f70e56",
   "metadata": {},
   "outputs": [
    {
     "data": {
      "text/html": [
       "<div>\n",
       "<style scoped>\n",
       "    .dataframe tbody tr th:only-of-type {\n",
       "        vertical-align: middle;\n",
       "    }\n",
       "\n",
       "    .dataframe tbody tr th {\n",
       "        vertical-align: top;\n",
       "    }\n",
       "\n",
       "    .dataframe thead th {\n",
       "        text-align: right;\n",
       "    }\n",
       "</style>\n",
       "<table border=\"1\" class=\"dataframe\">\n",
       "  <thead>\n",
       "    <tr style=\"text-align: right;\">\n",
       "      <th></th>\n",
       "      <th>Year</th>\n",
       "      <th>Month</th>\n",
       "      <th>Domestic Debt</th>\n",
       "      <th>External Debt</th>\n",
       "      <th>Total</th>\n",
       "    </tr>\n",
       "  </thead>\n",
       "  <tbody>\n",
       "    <tr>\n",
       "      <th>0</th>\n",
       "      <td>2021</td>\n",
       "      <td>December</td>\n",
       "      <td>4,032,368.18</td>\n",
       "      <td>4,174,371.53</td>\n",
       "      <td>8,206,739.71</td>\n",
       "    </tr>\n",
       "    <tr>\n",
       "      <th>1</th>\n",
       "      <td>2021</td>\n",
       "      <td>November</td>\n",
       "      <td>4,008,077.30</td>\n",
       "      <td>4,109,282.85</td>\n",
       "      <td>8,117,360.15</td>\n",
       "    </tr>\n",
       "    <tr>\n",
       "      <th>2</th>\n",
       "      <td>2021</td>\n",
       "      <td>October</td>\n",
       "      <td>3,959,523.30</td>\n",
       "      <td>4,083,124.54</td>\n",
       "      <td>8,042,647.84</td>\n",
       "    </tr>\n",
       "    <tr>\n",
       "      <th>3</th>\n",
       "      <td>2021</td>\n",
       "      <td>September</td>\n",
       "      <td>3,937,777.45</td>\n",
       "      <td>4,062,504.78</td>\n",
       "      <td>8,000,282.23</td>\n",
       "    </tr>\n",
       "    <tr>\n",
       "      <th>4</th>\n",
       "      <td>2021</td>\n",
       "      <td>August</td>\n",
       "      <td>3,864,875.78</td>\n",
       "      <td>4,054,862.85</td>\n",
       "      <td>7,919,738.63</td>\n",
       "    </tr>\n",
       "  </tbody>\n",
       "</table>\n",
       "</div>"
      ],
      "text/plain": [
       "   Year      Month Domestic Debt External Debt         Total\n",
       "0  2021   December  4,032,368.18  4,174,371.53  8,206,739.71\n",
       "1  2021   November  4,008,077.30  4,109,282.85  8,117,360.15\n",
       "2  2021    October  3,959,523.30  4,083,124.54  8,042,647.84\n",
       "3  2021  September  3,937,777.45  4,062,504.78  8,000,282.23\n",
       "4  2021     August  3,864,875.78  4,054,862.85  7,919,738.63"
      ]
     },
     "execution_count": 12,
     "metadata": {},
     "output_type": "execute_result"
    }
   ],
   "source": [
    "#does the rows and headers make sense?\n",
    "# can we verify the total column total\n",
    "kenya_debt.head()\n"
   ]
  },
  {
   "cell_type": "code",
   "execution_count": 15,
   "id": "97ed3071-7ca6-4da6-94b1-9f019e195649",
   "metadata": {},
   "outputs": [
    {
     "data": {
      "text/html": [
       "<div>\n",
       "<style scoped>\n",
       "    .dataframe tbody tr th:only-of-type {\n",
       "        vertical-align: middle;\n",
       "    }\n",
       "\n",
       "    .dataframe tbody tr th {\n",
       "        vertical-align: top;\n",
       "    }\n",
       "\n",
       "    .dataframe thead th {\n",
       "        text-align: right;\n",
       "    }\n",
       "</style>\n",
       "<table border=\"1\" class=\"dataframe\">\n",
       "  <thead>\n",
       "    <tr style=\"text-align: right;\">\n",
       "      <th></th>\n",
       "      <th>Year</th>\n",
       "      <th>Month</th>\n",
       "      <th>Domestic Debt</th>\n",
       "      <th>External Debt</th>\n",
       "      <th>Total</th>\n",
       "    </tr>\n",
       "  </thead>\n",
       "  <tbody>\n",
       "    <tr>\n",
       "      <th>220</th>\n",
       "      <td>2003</td>\n",
       "      <td>August</td>\n",
       "      <td>295,494.51</td>\n",
       "      <td>397,991.28</td>\n",
       "      <td>693,485.79</td>\n",
       "    </tr>\n",
       "    <tr>\n",
       "      <th>221</th>\n",
       "      <td>2003</td>\n",
       "      <td>July</td>\n",
       "      <td>292,277.47</td>\n",
       "      <td>398,532.85</td>\n",
       "      <td>690,810.32</td>\n",
       "    </tr>\n",
       "    <tr>\n",
       "      <th>222</th>\n",
       "      <td>2003</td>\n",
       "      <td>June</td>\n",
       "      <td>289,376.97</td>\n",
       "      <td>407,053.00</td>\n",
       "      <td>696,429.97</td>\n",
       "    </tr>\n",
       "  </tbody>\n",
       "</table>\n",
       "</div>"
      ],
      "text/plain": [
       "     Year   Month Domestic Debt External Debt       Total\n",
       "220  2003  August    295,494.51    397,991.28  693,485.79\n",
       "221  2003    July    292,277.47    398,532.85  690,810.32\n",
       "222  2003    June    289,376.97    407,053.00  696,429.97"
      ]
     },
     "execution_count": 15,
     "metadata": {},
     "output_type": "execute_result"
    }
   ],
   "source": [
    "# what about random mid-level rows? \n",
    "kenya_debt.loc[[220,221,222]]"
   ]
  },
  {
   "cell_type": "code",
   "execution_count": 19,
   "id": "ebb3569e-9d14-4c16-a9a7-828923dd91bd",
   "metadata": {},
   "outputs": [
    {
     "data": {
      "text/plain": [
       "'4,032,368.18'"
      ]
     },
     "execution_count": 19,
     "metadata": {},
     "output_type": "execute_result"
    }
   ],
   "source": [
    "#.loc method gives the specific value. The .loc method takes the position of the row and the name of the column domestic_debt = kenya_debt.loc[0][\"Domestic Debt\"]\n",
    "domestic_debt"
   ]
  },
  {
   "cell_type": "code",
   "execution_count": 35,
   "id": "de40f321-2eed-4035-8a97-3ff5f9113988",
   "metadata": {},
   "outputs": [
    {
     "data": {
      "text/plain": [
       "8206739"
      ]
     },
     "execution_count": 35,
     "metadata": {},
     "output_type": "execute_result"
    }
   ],
   "source": [
    "domestic_debt = int(float(kenya_debt.loc[0][\"Domestic Debt\"].replace(',', '')))\n",
    "domestic_debt\n",
    "external_debt = int(float(kenya_debt.loc[0][\"External Debt\"].replace(',', '')))\n",
    "external_debt\n",
    "total_debt1 = (float(kenya_debt.loc[9][\"Total\"].replace(',', '')))\n",
    "total_debt1\n",
    "total_debt = domestic_debt + external_debt\n",
    "total_debt"
   ]
  },
  {
   "cell_type": "code",
   "execution_count": 36,
   "id": "c6f150aa-fbfa-4630-97fb-bd489be0b25c",
   "metadata": {},
   "outputs": [
    {
     "data": {
      "text/plain": [
       "7339707.31"
      ]
     },
     "execution_count": 36,
     "metadata": {},
     "output_type": "execute_result"
    }
   ],
   "source": [
    "total_debt1"
   ]
  },
  {
   "cell_type": "code",
   "execution_count": 17,
   "id": "b0a16b1f-2ca1-4145-8ef5-e9662e90e261",
   "metadata": {},
   "outputs": [
    {
     "data": {
      "text/plain": [
       "'4,032,368.184,174,371.53'"
      ]
     },
     "execution_count": 17,
     "metadata": {},
     "output_type": "execute_result"
    }
   ],
   "source": [
    "total_debt = str(domestic_debt) + str(external_debt)\n",
    "total_debt"
   ]
  },
  {
   "cell_type": "code",
   "execution_count": 20,
   "id": "7d5a7021-4d7e-4dac-8397-bd05420d71b8",
   "metadata": {},
   "outputs": [
    {
     "data": {
      "text/plain": [
       "'8,206,739.71'"
      ]
     },
     "execution_count": 20,
     "metadata": {},
     "output_type": "execute_result"
    }
   ],
   "source": [
    "total_debt1 = kenya_debt.loc[0][\"Total\"]\n",
    "total_debt1\n"
   ]
  },
  {
   "cell_type": "code",
   "execution_count": 21,
   "id": "a3d93e09-663a-423b-9390-dc908f887d75",
   "metadata": {},
   "outputs": [
    {
     "name": "stdout",
     "output_type": "stream",
     "text": [
      "<class 'pandas.core.frame.DataFrame'>\n",
      "RangeIndex: 262 entries, 0 to 261\n",
      "Data columns (total 5 columns):\n",
      " #   Column         Non-Null Count  Dtype \n",
      "---  ------         --------------  ----- \n",
      " 0   Year           262 non-null    int64 \n",
      " 1   Month          262 non-null    object\n",
      " 2   Domestic Debt  262 non-null    object\n",
      " 3   External Debt  262 non-null    object\n",
      " 4   Total          262 non-null    object\n",
      "dtypes: int64(1), object(4)\n",
      "memory usage: 10.4+ KB\n"
     ]
    }
   ],
   "source": [
    "kenya_debt.info()"
   ]
  },
  {
   "cell_type": "code",
   "execution_count": 47,
   "id": "b7b85c98-c577-4e2e-8cd5-9fb53d38f304",
   "metadata": {},
   "outputs": [
    {
     "data": {
      "text/plain": [
       "8206739"
      ]
     },
     "execution_count": 47,
     "metadata": {},
     "output_type": "execute_result"
    }
   ],
   "source": [
    "total_debt2 = int(float(total_debt))\n",
    "total_debt2"
   ]
  },
  {
   "cell_type": "code",
   "execution_count": 24,
   "id": "6b036cd9-091e-4659-8d46-c09c9ee11b56",
   "metadata": {},
   "outputs": [
    {
     "ename": "ValueError",
     "evalue": "could not convert string to float: '8,206,739.71'",
     "output_type": "error",
     "traceback": [
      "\u001b[1;31m---------------------------------------------------------------------------\u001b[0m",
      "\u001b[1;31mValueError\u001b[0m                                Traceback (most recent call last)",
      "Cell \u001b[1;32mIn[24], line 1\u001b[0m\n\u001b[1;32m----> 1\u001b[0m \u001b[38;5;28mfloat\u001b[39m(kenya_debt\u001b[38;5;241m.\u001b[39mloc[\u001b[38;5;241m0\u001b[39m][\u001b[38;5;124m\"\u001b[39m\u001b[38;5;124mTotal\u001b[39m\u001b[38;5;124m\"\u001b[39m])\n",
      "\u001b[1;31mValueError\u001b[0m: could not convert string to float: '8,206,739.71'"
     ]
    }
   ],
   "source": [
    "float(kenya_debt.loc[0][\"Total\"])"
   ]
  },
  {
   "cell_type": "code",
   "execution_count": 25,
   "id": "47311d48-3c6a-4002-9cdc-ee9cd75ac9f1",
   "metadata": {},
   "outputs": [],
   "source": [
    "my_str = kenya_debt.loc[0][\"Domestic Debt\"]"
   ]
  },
  {
   "cell_type": "code",
   "execution_count": 26,
   "id": "6f165e08-faa7-416e-8c5c-f27a8c4b30a9",
   "metadata": {},
   "outputs": [
    {
     "data": {
      "text/plain": [
       "'4,032,368.18'"
      ]
     },
     "execution_count": 26,
     "metadata": {},
     "output_type": "execute_result"
    }
   ],
   "source": [
    "my_str"
   ]
  },
  {
   "cell_type": "code",
   "execution_count": 27,
   "id": "4243b9b2-f16f-43c2-bab7-3e307364d38c",
   "metadata": {},
   "outputs": [
    {
     "data": {
      "text/plain": [
       "'4032368.18'"
      ]
     },
     "execution_count": 27,
     "metadata": {},
     "output_type": "execute_result"
    }
   ],
   "source": [
    "# changes the string to float by removing commas\n",
    "my_good_str = my_str.replace(',','')\n",
    "my_good_str"
   ]
  },
  {
   "cell_type": "code",
   "execution_count": 28,
   "id": "ce71df45-2193-4359-98df-b76a5263338d",
   "metadata": {},
   "outputs": [
    {
     "data": {
      "text/plain": [
       "4032368.18"
      ]
     },
     "execution_count": 28,
     "metadata": {},
     "output_type": "execute_result"
    }
   ],
   "source": [
    "float(my_good_str)"
   ]
  },
  {
   "cell_type": "code",
   "execution_count": 29,
   "id": "d83a833c-8cbe-43e2-9c7f-1872a249baab",
   "metadata": {},
   "outputs": [
    {
     "data": {
      "text/plain": [
       "4032368"
      ]
     },
     "execution_count": 29,
     "metadata": {},
     "output_type": "execute_result"
    }
   ],
   "source": [
    "# requires we float first before changing it to an interger\n",
    "int(float(my_good_str))"
   ]
  },
  {
   "cell_type": "code",
   "execution_count": 39,
   "id": "49b2cf1e-f3da-4020-8cc8-8dbc9d73e42e",
   "metadata": {},
   "outputs": [
    {
     "name": "stdout",
     "output_type": "stream",
     "text": [
      "<class 'pandas.core.frame.DataFrame'>\n",
      "RangeIndex: 262 entries, 0 to 261\n",
      "Data columns (total 5 columns):\n",
      " #   Column         Non-Null Count  Dtype \n",
      "---  ------         --------------  ----- \n",
      " 0   Year           262 non-null    int64 \n",
      " 1   Month          262 non-null    object\n",
      " 2   Domestic Debt  262 non-null    object\n",
      " 3   External Debt  262 non-null    object\n",
      " 4   Total          262 non-null    object\n",
      "dtypes: int64(1), object(4)\n",
      "memory usage: 10.4+ KB\n"
     ]
    }
   ],
   "source": [
    "kenya_debt.info()"
   ]
  },
  {
   "cell_type": "code",
   "execution_count": 40,
   "id": "90173cd1-e758-4df9-a439-51c54be80a1b",
   "metadata": {},
   "outputs": [
    {
     "data": {
      "text/plain": [
       "0      4,032,368.18\n",
       "1      4,008,077.30\n",
       "2      3,959,523.30\n",
       "3      3,937,777.45\n",
       "4      3,864,875.78\n",
       "           ...     \n",
       "257      202,362.00\n",
       "258      206,127.00\n",
       "259      201,463.22\n",
       "260      190,300.00\n",
       "261      183,417.00\n",
       "Name: Domestic Debt, Length: 262, dtype: object"
      ]
     },
     "execution_count": 40,
     "metadata": {},
     "output_type": "execute_result"
    }
   ],
   "source": [
    "kenya_debt[\"Domestic Debt\"]"
   ]
  },
  {
   "cell_type": "code",
   "execution_count": 42,
   "id": "4fd2ed2e-81b9-46f5-8b22-43573e50f300",
   "metadata": {},
   "outputs": [
    {
     "data": {
      "text/plain": [
       "Year                     2021\n",
       "Month                  August\n",
       "Domestic Debt    3,864,875.78\n",
       "External Debt    4,054,862.85\n",
       "Total            7,919,738.63\n",
       "Name: 4, dtype: object"
      ]
     },
     "execution_count": 42,
     "metadata": {},
     "output_type": "execute_result"
    }
   ],
   "source": [
    "# using.loc method, the column name returns the entire row without specifying the column name \n",
    "kenya_debt.loc[4]"
   ]
  },
  {
   "cell_type": "code",
   "execution_count": 46,
   "id": "b52fbef8-0c6d-48f8-80db-38b34f5d5dfd",
   "metadata": {},
   "outputs": [
    {
     "data": {
      "text/html": [
       "<div>\n",
       "<style scoped>\n",
       "    .dataframe tbody tr th:only-of-type {\n",
       "        vertical-align: middle;\n",
       "    }\n",
       "\n",
       "    .dataframe tbody tr th {\n",
       "        vertical-align: top;\n",
       "    }\n",
       "\n",
       "    .dataframe thead th {\n",
       "        text-align: right;\n",
       "    }\n",
       "</style>\n",
       "<table border=\"1\" class=\"dataframe\">\n",
       "  <thead>\n",
       "    <tr style=\"text-align: right;\">\n",
       "      <th></th>\n",
       "      <th>External Debt</th>\n",
       "      <th>Total</th>\n",
       "    </tr>\n",
       "  </thead>\n",
       "  <tbody>\n",
       "    <tr>\n",
       "      <th>8</th>\n",
       "      <td>3,778,131.44</td>\n",
       "      <td>7,411,046.24</td>\n",
       "    </tr>\n",
       "    <tr>\n",
       "      <th>9</th>\n",
       "      <td>3,769,866.74</td>\n",
       "      <td>7,339,707.31</td>\n",
       "    </tr>\n",
       "  </tbody>\n",
       "</table>\n",
       "</div>"
      ],
      "text/plain": [
       "  External Debt         Total\n",
       "8  3,778,131.44  7,411,046.24\n",
       "9  3,769,866.74  7,339,707.31"
      ]
     },
     "execution_count": 46,
     "metadata": {},
     "output_type": "execute_result"
    }
   ],
   "source": [
    "kenya_debt.iloc[8:10,3:]"
   ]
  },
  {
   "cell_type": "code",
   "execution_count": null,
   "id": "55c57aae-9d9d-43ee-baf5-7bb63fa8b279",
   "metadata": {},
   "outputs": [],
   "source": []
  }
 ],
 "metadata": {
  "kernelspec": {
   "display_name": "Python 3 (ipykernel)",
   "language": "python",
   "name": "python3"
  },
  "language_info": {
   "codemirror_mode": {
    "name": "ipython",
    "version": 3
   },
   "file_extension": ".py",
   "mimetype": "text/x-python",
   "name": "python",
   "nbconvert_exporter": "python",
   "pygments_lexer": "ipython3",
   "version": "3.11.7"
  }
 },
 "nbformat": 4,
 "nbformat_minor": 5
}
