{
 "cells": [
  {
   "cell_type": "markdown",
   "id": "efac4fb9-23a9-4bc8-83df-8f4e787f2858",
   "metadata": {},
   "source": [
    "### Frida Kahlo Retrospective Off-Platform Project"
   ]
  },
  {
   "cell_type": "code",
   "execution_count": 1,
   "id": "05f65cac-e46a-4763-aeef-04fd412f4b85",
   "metadata": {},
   "outputs": [],
   "source": [
    "# Frida Kahlo’s is a major museum in Mexico.\n",
    "# This code will put together the audio tour, create a list of each painting featured in the exhibit, the date it was painted, and its spot on the tour."
   ]
  },
  {
   "cell_type": "code",
   "execution_count": 2,
   "id": "50129b5f-043b-4843-81d0-58690571e9f9",
   "metadata": {},
   "outputs": [],
   "source": [
    "paintings = ['The Two Fridas', \n",
    "             'My Dress Hangs Here', \n",
    "             'Tre of Hope', \n",
    "             'Self Portrait With Monkeys']"
   ]
  },
  {
   "cell_type": "code",
   "execution_count": 3,
   "id": "ec732646-1a54-4af6-9a9b-6df955f48f16",
   "metadata": {},
   "outputs": [],
   "source": [
    "dates = [2001,\n",
    "         2002,\n",
    "         2003,\n",
    "         2004]"
   ]
  },
  {
   "cell_type": "code",
   "execution_count": 4,
   "id": "d4611cbd-9b90-4b4f-94e9-d772496f841a",
   "metadata": {},
   "outputs": [],
   "source": [
    "#Zipping the two lists into one\n",
    "\n",
    "paintings = list(zip(paintings, dates))"
   ]
  },
  {
   "cell_type": "code",
   "execution_count": 5,
   "id": "d370d0d0-4b96-487c-a794-23944cdd38f5",
   "metadata": {},
   "outputs": [],
   "source": [
    "#Generating list of audio tour number for each painting\n",
    "\n",
    "audio_tour_number = [num + 1 for num in range(len(paintings))]"
   ]
  },
  {
   "cell_type": "code",
   "execution_count": 6,
   "id": "a9d75443-4eea-4797-bc82-f8d67ee43496",
   "metadata": {},
   "outputs": [],
   "source": [
    "#Appending some more paintings to the list\n",
    "\n",
    "paintings.append(('The Broken Column', 1944))\n",
    "\n",
    "paintings.append(('The Wounded Deer', 1946))\n",
    "\n",
    "paintings.append(('Me and My Doll', 1937))\n"
   ]
  },
  {
   "cell_type": "code",
   "execution_count": 7,
   "id": "445a2043-e67b-4412-9bb5-950e21c4fdcd",
   "metadata": {},
   "outputs": [
    {
     "data": {
      "text/plain": [
       "[('The Two Fridas', 2001),\n",
       " ('My Dress Hangs Here', 2002),\n",
       " ('Tre of Hope', 2003),\n",
       " ('Self Portrait With Monkeys', 2004),\n",
       " ('The Broken Column', 1944),\n",
       " ('The Wounded Deer', 1946),\n",
       " ('Me and My Doll', 1937)]"
      ]
     },
     "execution_count": 7,
     "metadata": {},
     "output_type": "execute_result"
    }
   ],
   "source": [
    "paintings"
   ]
  },
  {
   "cell_type": "code",
   "execution_count": 8,
   "id": "9c6744e7-9518-4856-8cbf-1a7b11fc03c1",
   "metadata": {},
   "outputs": [
    {
     "name": "stdout",
     "output_type": "stream",
     "text": [
      "There are 7 paintings\n"
     ]
    }
   ],
   "source": [
    "#Assesing how many paintings are there\n",
    "\n",
    "print(\"There are\", len(paintings),\"paintings\")"
   ]
  },
  {
   "cell_type": "code",
   "execution_count": 9,
   "id": "8119ac86-e4ef-4c1b-9130-2afbf0010a5b",
   "metadata": {},
   "outputs": [],
   "source": [
    "#The final list\n",
    "\n",
    "master_list = list(zip(paintings, audio_tour_number))\n",
    "\n"
   ]
  },
  {
   "cell_type": "code",
   "execution_count": 10,
   "id": "89f11522-1496-40fd-a746-3fc6781c7d31",
   "metadata": {},
   "outputs": [
    {
     "data": {
      "text/plain": [
       "[(('The Two Fridas', 2001), 1),\n",
       " (('My Dress Hangs Here', 2002), 2),\n",
       " (('Tre of Hope', 2003), 3),\n",
       " (('Self Portrait With Monkeys', 2004), 4)]"
      ]
     },
     "execution_count": 10,
     "metadata": {},
     "output_type": "execute_result"
    }
   ],
   "source": [
    "master_list"
   ]
  },
  {
   "cell_type": "code",
   "execution_count": 12,
   "id": "53e70a84-8427-49b7-90cb-196672122746",
   "metadata": {},
   "outputs": [
    {
     "data": {
      "text/plain": [
       "0"
      ]
     },
     "execution_count": 12,
     "metadata": {},
     "output_type": "execute_result"
    }
   ],
   "source": [
    "master_list.count(\"The Two Fridas\")"
   ]
  },
  {
   "cell_type": "code",
   "execution_count": 18,
   "id": "c4f3a229-274c-4c8e-8085-57200c92c505",
   "metadata": {},
   "outputs": [],
   "source": [
    "master_list.append(\"I also love poems\")"
   ]
  },
  {
   "cell_type": "code",
   "execution_count": 14,
   "id": "ed46a1f5-5b59-45d2-b300-1a9860f7c4b4",
   "metadata": {},
   "outputs": [
    {
     "data": {
      "text/plain": [
       "[(('The Two Fridas', 2001), 1),\n",
       " (('My Dress Hangs Here', 2002), 2),\n",
       " (('Tre of Hope', 2003), 3),\n",
       " (('Self Portrait With Monkeys', 2004), 4),\n",
       " 'I also love poems']"
      ]
     },
     "execution_count": 14,
     "metadata": {},
     "output_type": "execute_result"
    }
   ],
   "source": [
    "master_list"
   ]
  },
  {
   "cell_type": "code",
   "execution_count": 15,
   "id": "e5820954-f861-4693-bfec-608a9475c1f0",
   "metadata": {},
   "outputs": [
    {
     "data": {
      "text/plain": [
       "(('Tre of Hope', 2003), 3)"
      ]
     },
     "execution_count": 15,
     "metadata": {},
     "output_type": "execute_result"
    }
   ],
   "source": [
    "master_list.pop(2)"
   ]
  },
  {
   "cell_type": "code",
   "execution_count": 16,
   "id": "28ac6079-3255-4ba9-bb1a-1c60ffb8d249",
   "metadata": {},
   "outputs": [
    {
     "data": {
      "text/plain": [
       "[(('The Two Fridas', 2001), 1),\n",
       " (('My Dress Hangs Here', 2002), 2),\n",
       " (('Self Portrait With Monkeys', 2004), 4),\n",
       " 'I also love poems']"
      ]
     },
     "execution_count": 16,
     "metadata": {},
     "output_type": "execute_result"
    }
   ],
   "source": [
    "master_list"
   ]
  },
  {
   "cell_type": "code",
   "execution_count": 19,
   "id": "bdea2fff-b84d-462f-889a-e4ed34a9b912",
   "metadata": {},
   "outputs": [],
   "source": [
    "master_list.reverse()"
   ]
  },
  {
   "cell_type": "code",
   "execution_count": 20,
   "id": "d04a713e-55f3-494d-9a0a-70b962a71f94",
   "metadata": {},
   "outputs": [
    {
     "data": {
      "text/plain": [
       "['I also love poems',\n",
       " 'I also love poems',\n",
       " (('Self Portrait With Monkeys', 2004), 4),\n",
       " (('My Dress Hangs Here', 2002), 2),\n",
       " (('The Two Fridas', 2001), 1)]"
      ]
     },
     "execution_count": 20,
     "metadata": {},
     "output_type": "execute_result"
    }
   ],
   "source": [
    "master_list"
   ]
  },
  {
   "cell_type": "code",
   "execution_count": 21,
   "id": "d092cb87-5862-4b79-9847-9dd02bdc69d4",
   "metadata": {},
   "outputs": [],
   "source": [
    "master_list.remove(\"I also love poems\")"
   ]
  },
  {
   "cell_type": "code",
   "execution_count": 22,
   "id": "e905b24a-03bf-4379-aa08-1514dfc19fbe",
   "metadata": {},
   "outputs": [
    {
     "data": {
      "text/plain": [
       "['I also love poems',\n",
       " (('Self Portrait With Monkeys', 2004), 4),\n",
       " (('My Dress Hangs Here', 2002), 2),\n",
       " (('The Two Fridas', 2001), 1)]"
      ]
     },
     "execution_count": 22,
     "metadata": {},
     "output_type": "execute_result"
    }
   ],
   "source": [
    "master_list"
   ]
  },
  {
   "cell_type": "code",
   "execution_count": 23,
   "id": "2546d7a6-8436-44b2-8ecd-f4381704bd6c",
   "metadata": {},
   "outputs": [
    {
     "data": {
      "text/plain": [
       "['I also love poems',\n",
       " (('Self Portrait With Monkeys', 2004), 4),\n",
       " (('My Dress Hangs Here', 2002), 2),\n",
       " (('The Two Fridas', 2001), 1)]"
      ]
     },
     "execution_count": 23,
     "metadata": {},
     "output_type": "execute_result"
    }
   ],
   "source": [
    "# This is the final master`s list\n",
    "master_list"
   ]
  },
  {
   "cell_type": "code",
   "execution_count": null,
   "id": "7d34b696-227e-4f9b-b0d0-ef42ba8db24d",
   "metadata": {},
   "outputs": [],
   "source": []
  }
 ],
 "metadata": {
  "kernelspec": {
   "display_name": "Python 3 (ipykernel)",
   "language": "python",
   "name": "python3"
  },
  "language_info": {
   "codemirror_mode": {
    "name": "ipython",
    "version": 3
   },
   "file_extension": ".py",
   "mimetype": "text/x-python",
   "name": "python",
   "nbconvert_exporter": "python",
   "pygments_lexer": "ipython3",
   "version": "3.11.7"
  }
 },
 "nbformat": 4,
 "nbformat_minor": 5
}
