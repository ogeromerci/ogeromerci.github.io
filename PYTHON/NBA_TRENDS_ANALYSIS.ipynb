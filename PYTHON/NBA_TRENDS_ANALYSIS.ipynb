{
 "cells": [
  {
   "cell_type": "markdown",
   "id": "cc3ea6ab-0f7a-43ce-9bc6-aa4f2fea534f",
   "metadata": {},
   "source": [
    "## CODECADEMY NBA TRENDS PROJECT \n"
   ]
  },
  {
   "cell_type": "code",
   "execution_count": 1,
   "id": "050df41f-eda0-4edc-acc7-6bc632875875",
   "metadata": {},
   "outputs": [],
   "source": [
    "# This is an analysis of the NBA trends data which has original data from the original Basketball reference "
   ]
  },
  {
   "cell_type": "code",
   "execution_count": 4,
   "id": "f2a92c6e-442d-4334-b62d-043acafa10de",
   "metadata": {},
   "outputs": [],
   "source": [
    "# import the required libraries\n",
    "import pandas as pd\n",
    "import numpy as np\n",
    "from scipy.stats import pearsonr, chi2_contingency\n",
    "import matplotlib.pyplot as plt\n",
    "import seaborn as sns"
   ]
  },
  {
   "cell_type": "code",
   "execution_count": 5,
   "id": "66a4b321-f40a-40e5-a1c9-21230cb49e4f",
   "metadata": {},
   "outputs": [],
   "source": [
    "# Making the oupts look much better\n",
    "np.set_printoptions(suppress = True, precision = 2)"
   ]
  },
  {
   "cell_type": "code",
   "execution_count": 85,
   "id": "1dd3cd89-1a6b-4273-9f2c-49cca5e1b032",
   "metadata": {},
   "outputs": [
    {
     "data": {
      "text/html": [
       "<div>\n",
       "<style scoped>\n",
       "    .dataframe tbody tr th:only-of-type {\n",
       "        vertical-align: middle;\n",
       "    }\n",
       "\n",
       "    .dataframe tbody tr th {\n",
       "        vertical-align: top;\n",
       "    }\n",
       "\n",
       "    .dataframe thead th {\n",
       "        text-align: right;\n",
       "    }\n",
       "</style>\n",
       "<table border=\"1\" class=\"dataframe\">\n",
       "  <thead>\n",
       "    <tr style=\"text-align: right;\">\n",
       "      <th></th>\n",
       "      <th>game_id</th>\n",
       "      <th>year_id</th>\n",
       "      <th>fran_id</th>\n",
       "      <th>opp_fran</th>\n",
       "      <th>game_location</th>\n",
       "      <th>is_playoffs</th>\n",
       "      <th>pts</th>\n",
       "      <th>opp_pts</th>\n",
       "      <th>game_result</th>\n",
       "      <th>forecast</th>\n",
       "      <th>point_diff</th>\n",
       "    </tr>\n",
       "  </thead>\n",
       "  <tbody>\n",
       "    <tr>\n",
       "      <th>0</th>\n",
       "      <td>194611010TRH</td>\n",
       "      <td>1947</td>\n",
       "      <td>Knicks</td>\n",
       "      <td>Huskies</td>\n",
       "      <td>A</td>\n",
       "      <td>0</td>\n",
       "      <td>68</td>\n",
       "      <td>66</td>\n",
       "      <td>W</td>\n",
       "      <td>0.359935</td>\n",
       "      <td>2</td>\n",
       "    </tr>\n",
       "    <tr>\n",
       "      <th>1</th>\n",
       "      <td>194611020CHS</td>\n",
       "      <td>1947</td>\n",
       "      <td>Knicks</td>\n",
       "      <td>Stags</td>\n",
       "      <td>A</td>\n",
       "      <td>0</td>\n",
       "      <td>47</td>\n",
       "      <td>63</td>\n",
       "      <td>L</td>\n",
       "      <td>0.368899</td>\n",
       "      <td>-16</td>\n",
       "    </tr>\n",
       "    <tr>\n",
       "      <th>2</th>\n",
       "      <td>194611020PRO</td>\n",
       "      <td>1947</td>\n",
       "      <td>Celtics</td>\n",
       "      <td>Steamrollers</td>\n",
       "      <td>A</td>\n",
       "      <td>0</td>\n",
       "      <td>53</td>\n",
       "      <td>59</td>\n",
       "      <td>L</td>\n",
       "      <td>0.359935</td>\n",
       "      <td>-6</td>\n",
       "    </tr>\n",
       "    <tr>\n",
       "      <th>3</th>\n",
       "      <td>194611050BOS</td>\n",
       "      <td>1947</td>\n",
       "      <td>Celtics</td>\n",
       "      <td>Stags</td>\n",
       "      <td>H</td>\n",
       "      <td>0</td>\n",
       "      <td>55</td>\n",
       "      <td>57</td>\n",
       "      <td>L</td>\n",
       "      <td>0.620204</td>\n",
       "      <td>-2</td>\n",
       "    </tr>\n",
       "    <tr>\n",
       "      <th>4</th>\n",
       "      <td>194611070STB</td>\n",
       "      <td>1947</td>\n",
       "      <td>Knicks</td>\n",
       "      <td>Bombers</td>\n",
       "      <td>A</td>\n",
       "      <td>0</td>\n",
       "      <td>68</td>\n",
       "      <td>63</td>\n",
       "      <td>W</td>\n",
       "      <td>0.339290</td>\n",
       "      <td>5</td>\n",
       "    </tr>\n",
       "  </tbody>\n",
       "</table>\n",
       "</div>"
      ],
      "text/plain": [
       "        game_id  year_id  fran_id      opp_fran game_location  is_playoffs  \\\n",
       "0  194611010TRH     1947   Knicks       Huskies             A            0   \n",
       "1  194611020CHS     1947   Knicks         Stags             A            0   \n",
       "2  194611020PRO     1947  Celtics  Steamrollers             A            0   \n",
       "3  194611050BOS     1947  Celtics         Stags             H            0   \n",
       "4  194611070STB     1947   Knicks       Bombers             A            0   \n",
       "\n",
       "   pts  opp_pts game_result  forecast  point_diff  \n",
       "0   68       66           W  0.359935           2  \n",
       "1   47       63           L  0.368899         -16  \n",
       "2   53       59           L  0.359935          -6  \n",
       "3   55       57           L  0.620204          -2  \n",
       "4   68       63           W  0.339290           5  "
      ]
     },
     "execution_count": 85,
     "metadata": {},
     "output_type": "execute_result"
    }
   ],
   "source": [
    "# import the dataset\n",
    "nba = pd.read_csv(\"C:\\\\Users\\\\Lenovo\\\\OneDrive\\\\Documents\\\\Desktop\\\\CODECADEMY\\\\PYTHON PROJECTS INSTRUCTIONS\\\\Codecademy_NBA_Trends_Project\\\\Codecademy_NBA_Trends_Project\\\\nba_games.csv\")\n",
    "nba.head()"
   ]
  },
  {
   "cell_type": "code",
   "execution_count": 90,
   "id": "9bd4aaf4-b555-4ceb-9cec-96bac2df3d6b",
   "metadata": {},
   "outputs": [],
   "source": [
    "#renaming the columns\n",
    "nba.rename(columns = {\"game_id\":\"Game ID\",\"year_id\": \"Year\",\"fran_id\":\"Fran\",\"game_location\":\"game_Location\"}, inplace = True)"
   ]
  },
  {
   "cell_type": "code",
   "execution_count": 91,
   "id": "5fe12c88-4002-406a-8ff3-36c04c4bba51",
   "metadata": {},
   "outputs": [
    {
     "data": {
      "text/html": [
       "<div>\n",
       "<style scoped>\n",
       "    .dataframe tbody tr th:only-of-type {\n",
       "        vertical-align: middle;\n",
       "    }\n",
       "\n",
       "    .dataframe tbody tr th {\n",
       "        vertical-align: top;\n",
       "    }\n",
       "\n",
       "    .dataframe thead th {\n",
       "        text-align: right;\n",
       "    }\n",
       "</style>\n",
       "<table border=\"1\" class=\"dataframe\">\n",
       "  <thead>\n",
       "    <tr style=\"text-align: right;\">\n",
       "      <th></th>\n",
       "      <th>Game ID</th>\n",
       "      <th>Year</th>\n",
       "      <th>Fran</th>\n",
       "      <th>opp_fran</th>\n",
       "      <th>Game_Location</th>\n",
       "      <th>is_playoffs</th>\n",
       "      <th>pts</th>\n",
       "      <th>opp_pts</th>\n",
       "      <th>game_result</th>\n",
       "      <th>forecast</th>\n",
       "      <th>point_diff</th>\n",
       "    </tr>\n",
       "  </thead>\n",
       "  <tbody>\n",
       "    <tr>\n",
       "      <th>0</th>\n",
       "      <td>194611010TRH</td>\n",
       "      <td>1947</td>\n",
       "      <td>Knicks</td>\n",
       "      <td>Huskies</td>\n",
       "      <td>A</td>\n",
       "      <td>0</td>\n",
       "      <td>68</td>\n",
       "      <td>66</td>\n",
       "      <td>W</td>\n",
       "      <td>0.359935</td>\n",
       "      <td>2</td>\n",
       "    </tr>\n",
       "    <tr>\n",
       "      <th>1</th>\n",
       "      <td>194611020CHS</td>\n",
       "      <td>1947</td>\n",
       "      <td>Knicks</td>\n",
       "      <td>Stags</td>\n",
       "      <td>A</td>\n",
       "      <td>0</td>\n",
       "      <td>47</td>\n",
       "      <td>63</td>\n",
       "      <td>L</td>\n",
       "      <td>0.368899</td>\n",
       "      <td>-16</td>\n",
       "    </tr>\n",
       "    <tr>\n",
       "      <th>2</th>\n",
       "      <td>194611020PRO</td>\n",
       "      <td>1947</td>\n",
       "      <td>Celtics</td>\n",
       "      <td>Steamrollers</td>\n",
       "      <td>A</td>\n",
       "      <td>0</td>\n",
       "      <td>53</td>\n",
       "      <td>59</td>\n",
       "      <td>L</td>\n",
       "      <td>0.359935</td>\n",
       "      <td>-6</td>\n",
       "    </tr>\n",
       "    <tr>\n",
       "      <th>3</th>\n",
       "      <td>194611050BOS</td>\n",
       "      <td>1947</td>\n",
       "      <td>Celtics</td>\n",
       "      <td>Stags</td>\n",
       "      <td>H</td>\n",
       "      <td>0</td>\n",
       "      <td>55</td>\n",
       "      <td>57</td>\n",
       "      <td>L</td>\n",
       "      <td>0.620204</td>\n",
       "      <td>-2</td>\n",
       "    </tr>\n",
       "    <tr>\n",
       "      <th>4</th>\n",
       "      <td>194611070STB</td>\n",
       "      <td>1947</td>\n",
       "      <td>Knicks</td>\n",
       "      <td>Bombers</td>\n",
       "      <td>A</td>\n",
       "      <td>0</td>\n",
       "      <td>68</td>\n",
       "      <td>63</td>\n",
       "      <td>W</td>\n",
       "      <td>0.339290</td>\n",
       "      <td>5</td>\n",
       "    </tr>\n",
       "  </tbody>\n",
       "</table>\n",
       "</div>"
      ],
      "text/plain": [
       "        Game ID  Year     Fran      opp_fran Game_Location  is_playoffs  pts  \\\n",
       "0  194611010TRH  1947   Knicks       Huskies             A            0   68   \n",
       "1  194611020CHS  1947   Knicks         Stags             A            0   47   \n",
       "2  194611020PRO  1947  Celtics  Steamrollers             A            0   53   \n",
       "3  194611050BOS  1947  Celtics         Stags             H            0   55   \n",
       "4  194611070STB  1947   Knicks       Bombers             A            0   68   \n",
       "\n",
       "   opp_pts game_result  forecast  point_diff  \n",
       "0       66           W  0.359935           2  \n",
       "1       63           L  0.368899         -16  \n",
       "2       59           L  0.359935          -6  \n",
       "3       57           L  0.620204          -2  \n",
       "4       63           W  0.339290           5  "
      ]
     },
     "execution_count": 91,
     "metadata": {},
     "output_type": "execute_result"
    }
   ],
   "source": [
    "nba.head()"
   ]
  },
  {
   "cell_type": "code",
   "execution_count": 92,
   "id": "8f886fc8-c8f6-4ef9-8362-185072c78b72",
   "metadata": {},
   "outputs": [
    {
     "data": {
      "text/html": [
       "<div>\n",
       "<style scoped>\n",
       "    .dataframe tbody tr th:only-of-type {\n",
       "        vertical-align: middle;\n",
       "    }\n",
       "\n",
       "    .dataframe tbody tr th {\n",
       "        vertical-align: top;\n",
       "    }\n",
       "\n",
       "    .dataframe thead th {\n",
       "        text-align: right;\n",
       "    }\n",
       "</style>\n",
       "<table border=\"1\" class=\"dataframe\">\n",
       "  <thead>\n",
       "    <tr style=\"text-align: right;\">\n",
       "      <th></th>\n",
       "      <th>Year</th>\n",
       "      <th>is_playoffs</th>\n",
       "      <th>pts</th>\n",
       "      <th>opp_pts</th>\n",
       "      <th>forecast</th>\n",
       "      <th>point_diff</th>\n",
       "    </tr>\n",
       "  </thead>\n",
       "  <tbody>\n",
       "    <tr>\n",
       "      <th>count</th>\n",
       "      <td>24359.000000</td>\n",
       "      <td>24359.000000</td>\n",
       "      <td>24359.000000</td>\n",
       "      <td>24359.000000</td>\n",
       "      <td>24359.000000</td>\n",
       "      <td>24359.000000</td>\n",
       "    </tr>\n",
       "    <tr>\n",
       "      <th>mean</th>\n",
       "      <td>1986.916581</td>\n",
       "      <td>0.077754</td>\n",
       "      <td>103.384663</td>\n",
       "      <td>102.438154</td>\n",
       "      <td>0.527805</td>\n",
       "      <td>0.946508</td>\n",
       "    </tr>\n",
       "    <tr>\n",
       "      <th>std</th>\n",
       "      <td>17.427172</td>\n",
       "      <td>0.267789</td>\n",
       "      <td>14.724792</td>\n",
       "      <td>14.812181</td>\n",
       "      <td>0.213054</td>\n",
       "      <td>13.341020</td>\n",
       "    </tr>\n",
       "    <tr>\n",
       "      <th>min</th>\n",
       "      <td>1947.000000</td>\n",
       "      <td>0.000000</td>\n",
       "      <td>43.000000</td>\n",
       "      <td>38.000000</td>\n",
       "      <td>0.024271</td>\n",
       "      <td>-62.000000</td>\n",
       "    </tr>\n",
       "    <tr>\n",
       "      <th>25%</th>\n",
       "      <td>1974.000000</td>\n",
       "      <td>0.000000</td>\n",
       "      <td>94.000000</td>\n",
       "      <td>93.000000</td>\n",
       "      <td>0.359191</td>\n",
       "      <td>-8.000000</td>\n",
       "    </tr>\n",
       "    <tr>\n",
       "      <th>50%</th>\n",
       "      <td>1988.000000</td>\n",
       "      <td>0.000000</td>\n",
       "      <td>103.000000</td>\n",
       "      <td>102.000000</td>\n",
       "      <td>0.533177</td>\n",
       "      <td>2.000000</td>\n",
       "    </tr>\n",
       "    <tr>\n",
       "      <th>75%</th>\n",
       "      <td>2002.000000</td>\n",
       "      <td>0.000000</td>\n",
       "      <td>113.000000</td>\n",
       "      <td>112.000000</td>\n",
       "      <td>0.698763</td>\n",
       "      <td>10.000000</td>\n",
       "    </tr>\n",
       "    <tr>\n",
       "      <th>max</th>\n",
       "      <td>2015.000000</td>\n",
       "      <td>1.000000</td>\n",
       "      <td>173.000000</td>\n",
       "      <td>176.000000</td>\n",
       "      <td>0.976221</td>\n",
       "      <td>56.000000</td>\n",
       "    </tr>\n",
       "  </tbody>\n",
       "</table>\n",
       "</div>"
      ],
      "text/plain": [
       "               Year   is_playoffs           pts       opp_pts      forecast  \\\n",
       "count  24359.000000  24359.000000  24359.000000  24359.000000  24359.000000   \n",
       "mean    1986.916581      0.077754    103.384663    102.438154      0.527805   \n",
       "std       17.427172      0.267789     14.724792     14.812181      0.213054   \n",
       "min     1947.000000      0.000000     43.000000     38.000000      0.024271   \n",
       "25%     1974.000000      0.000000     94.000000     93.000000      0.359191   \n",
       "50%     1988.000000      0.000000    103.000000    102.000000      0.533177   \n",
       "75%     2002.000000      0.000000    113.000000    112.000000      0.698763   \n",
       "max     2015.000000      1.000000    173.000000    176.000000      0.976221   \n",
       "\n",
       "         point_diff  \n",
       "count  24359.000000  \n",
       "mean       0.946508  \n",
       "std       13.341020  \n",
       "min      -62.000000  \n",
       "25%       -8.000000  \n",
       "50%        2.000000  \n",
       "75%       10.000000  \n",
       "max       56.000000  "
      ]
     },
     "execution_count": 92,
     "metadata": {},
     "output_type": "execute_result"
    }
   ],
   "source": [
    "nba.describe()"
   ]
  },
  {
   "cell_type": "code",
   "execution_count": 94,
   "id": "59e62dc8-f2c7-4b13-9d04-342c332e024c",
   "metadata": {},
   "outputs": [],
   "source": [
    "# Subsetting the data to 2010 season, 2014 season\n",
    "nba_2010 = nba[nba.Year == 2010]\n",
    "nba_2014 = nba[nba.Year == 2014]"
   ]
  },
  {
   "cell_type": "code",
   "execution_count": 95,
   "id": "7e10d0f0-6c3d-4d84-b999-7f2091c92bb7",
   "metadata": {},
   "outputs": [
    {
     "name": "stdout",
     "output_type": "stream",
     "text": [
      "<class 'pandas.core.frame.DataFrame'>\n",
      "RangeIndex: 24359 entries, 0 to 24358\n",
      "Data columns (total 11 columns):\n",
      " #   Column         Non-Null Count  Dtype  \n",
      "---  ------         --------------  -----  \n",
      " 0   Game ID        24359 non-null  object \n",
      " 1   Year           24359 non-null  int64  \n",
      " 2   Fran           24359 non-null  object \n",
      " 3   opp_fran       24359 non-null  object \n",
      " 4   Game_Location  24359 non-null  object \n",
      " 5   is_playoffs    24359 non-null  int64  \n",
      " 6   pts            24359 non-null  int64  \n",
      " 7   opp_pts        24359 non-null  int64  \n",
      " 8   game_result    24359 non-null  object \n",
      " 9   forecast       24359 non-null  float64\n",
      " 10  point_diff     24359 non-null  int64  \n",
      "dtypes: float64(1), int64(5), object(5)\n",
      "memory usage: 2.0+ MB\n"
     ]
    }
   ],
   "source": [
    "nba.info()"
   ]
  },
  {
   "cell_type": "code",
   "execution_count": 96,
   "id": "a05b8e43-c876-4cb8-8990-41d6199026e5",
   "metadata": {},
   "outputs": [
    {
     "name": "stdout",
     "output_type": "stream",
     "text": [
      "            Game ID  Year     Fran      opp_fran Game_Location  is_playoffs  \\\n",
      "21717  200910270CLE  2010  Celtics     Cavaliers             A            0   \n",
      "21718  200910280BOS  2010  Celtics       Hornets             H            0   \n",
      "21719  200910280MIA  2010   Knicks          Heat             A            0   \n",
      "21720  200910280MIN  2010     Nets  Timberwolves             A            0   \n",
      "21721  200910280OKC  2010  Thunder         Kings             H            0   \n",
      "...             ...   ...      ...           ...           ...          ...   \n",
      "22162  201006080BOS  2010  Celtics        Lakers             H            1   \n",
      "22163  201006100BOS  2010  Celtics        Lakers             H            1   \n",
      "22164  201006130BOS  2010  Celtics        Lakers             H            1   \n",
      "22165  201006150LAL  2010  Celtics        Lakers             A            1   \n",
      "22166  201006170LAL  2010  Celtics        Lakers             A            1   \n",
      "\n",
      "       pts  opp_pts game_result  forecast  point_diff  \n",
      "21717   95       89           W  0.277472           6  \n",
      "21718   92       59           W  0.814619          33  \n",
      "21719   93      115           L  0.258755         -22  \n",
      "21720   93       95           L  0.475155          -2  \n",
      "21721  102       89           W  0.716764          13  \n",
      "...    ...      ...         ...       ...         ...  \n",
      "22162   84       91           L  0.642039          -7  \n",
      "22163   96       89           W  0.610370           7  \n",
      "22164   92       86           W  0.627127           6  \n",
      "22165   67       89           L  0.361360         -22  \n",
      "22166   79       83           L  0.330820          -4  \n",
      "\n",
      "[450 rows x 11 columns]\n",
      "            Game ID  Year     Fran   opp_fran Game_Location  is_playoffs  pts  \\\n",
      "23468  201310300CLE  2014     Nets  Cavaliers             A            0   94   \n",
      "23469  201310300NYK  2014   Knicks      Bucks             H            0   90   \n",
      "23470  201310300SAS  2014    Spurs  Grizzlies             H            0  101   \n",
      "23471  201310300TOR  2014  Celtics    Raptors             A            0   87   \n",
      "23472  201310300UTA  2014  Thunder       Jazz             A            0  101   \n",
      "...             ...   ...      ...        ...           ...          ...  ...   \n",
      "23927  201406050SAS  2014    Spurs       Heat             H            1  110   \n",
      "23928  201406080SAS  2014    Spurs       Heat             H            1   96   \n",
      "23929  201406100MIA  2014    Spurs       Heat             A            1  111   \n",
      "23930  201406120MIA  2014    Spurs       Heat             A            1  107   \n",
      "23931  201406150SAS  2014    Spurs       Heat             H            1  104   \n",
      "\n",
      "       opp_pts game_result  forecast  point_diff  \n",
      "23468       98           L  0.611981          -4  \n",
      "23469       83           W  0.793150           7  \n",
      "23470       94           W  0.692980           7  \n",
      "23471       93           L  0.361233          -6  \n",
      "23472       98           W  0.526056           3  \n",
      "...        ...         ...       ...         ...  \n",
      "23927       95           W  0.751351          15  \n",
      "23928       98           L  0.763623          -2  \n",
      "23929       92           W  0.479975          19  \n",
      "23930       86           W  0.527790          21  \n",
      "23931       87           W  0.809078          17  \n",
      "\n",
      "[464 rows x 11 columns]\n"
     ]
    }
   ],
   "source": [
    "print(nba_2010)\n",
    "print(nba_2014)"
   ]
  },
  {
   "cell_type": "code",
   "execution_count": 97,
   "id": "bc24c064-df36-4527-bff3-885a04fb5ee6",
   "metadata": {},
   "outputs": [
    {
     "data": {
      "text/plain": [
       "21719     93\n",
       "21725    100\n",
       "21728    127\n",
       "21734    117\n",
       "21739     89\n",
       "        ... \n",
       "22102    105\n",
       "22110    103\n",
       "22116     98\n",
       "22118    114\n",
       "22126    113\n",
       "Name: pts, Length: 82, dtype: int64"
      ]
     },
     "execution_count": 97,
     "metadata": {},
     "output_type": "execute_result"
    }
   ],
   "source": [
    "# Creating a series called knick_pts(fran_id = \"Knicks\") \n",
    "# knick_pts represents the points team called knick has scored in their games\n",
    "knick_pts = nba_2010[nba_2010.Fran == \"Knicks\"][\"pts\"]\n",
    "knick_pts"
   ]
  },
  {
   "cell_type": "code",
   "execution_count": 98,
   "id": "788c70f9-b4e7-4337-b7e4-fe1c013d6a70",
   "metadata": {},
   "outputs": [
    {
     "data": {
      "text/plain": [
       "21720     93\n",
       "21727     85\n",
       "21730    104\n",
       "21733     68\n",
       "21738     94\n",
       "        ... \n",
       "22103     89\n",
       "22108    127\n",
       "22113    102\n",
       "22117     95\n",
       "22124     86\n",
       "Name: pts, Length: 82, dtype: int64"
      ]
     },
     "execution_count": 98,
     "metadata": {},
     "output_type": "execute_result"
    }
   ],
   "source": [
    "# Creating a series called nets_pts(fran_id = \"nets_id\") \n",
    "# nets_id represents the points team called nets has scored in their games\n",
    "nets_id = nba_2010[nba_2010.Fran == \"Nets\"][\"pts\"]\n",
    "nets_id"
   ]
  },
  {
   "cell_type": "code",
   "execution_count": 99,
   "id": "1a131102-7e96-439e-82fc-81852f374bf8",
   "metadata": {},
   "outputs": [
    {
     "data": {
      "text/plain": [
       "9.731707317073173"
      ]
     },
     "execution_count": 99,
     "metadata": {},
     "output_type": "execute_result"
    }
   ],
   "source": [
    "# Finding the difference between the two teams` average and saving the value as difference in the means\n",
    "diff_in_means = knick_pts.mean() - nets_id.mean()\n",
    "diff_in_means"
   ]
  },
  {
   "cell_type": "code",
   "execution_count": 100,
   "id": "a8be3cd9-9691-482b-91d7-9fffaaa8f450",
   "metadata": {},
   "outputs": [
    {
     "data": {
      "image/png": "[encoded data removed]",
      "text/plain": [
       "<Figure size 640x480 with 1 Axes>"
      ]
     },
     "metadata": {},
     "output_type": "display_data"
    }
   ],
   "source": [
    "# Making a histogram to compare the points\n",
    "plt.hist(knick_pts, alpha = 0.8, label = \"knick\")\n",
    "plt.hist(nets_id, alpha = 0.8, label = \"Nets\")\n",
    "plt.legend()\n",
    "plt.title(\"2010 Season\")\n",
    "plt.show()"
   ]
  },
  {
   "cell_type": "code",
   "execution_count": 101,
   "id": "051d188b-35e8-49c2-9fde-0dccf4a455a5",
   "metadata": {},
   "outputs": [
    {
     "data": {
      "image/png": "[encoded data removed]",
      "text/plain": [
       "<Figure size 640x480 with 1 Axes>"
      ]
     },
     "metadata": {},
     "output_type": "display_data"
    }
   ],
   "source": [
    "sns.boxplot(data = nba_2010, x = \"Fran\", y = \"pts\")\n",
    "plt.show()"
   ]
  },
  {
   "cell_type": "code",
   "execution_count": 109,
   "id": "9eb4614b-4c2b-4984-bf3d-32351d887302",
   "metadata": {},
   "outputs": [
    {
     "data": {
      "text/html": [
       "<div>\n",
       "<style scoped>\n",
       "    .dataframe tbody tr th:only-of-type {\n",
       "        vertical-align: middle;\n",
       "    }\n",
       "\n",
       "    .dataframe tbody tr th {\n",
       "        vertical-align: top;\n",
       "    }\n",
       "\n",
       "    .dataframe thead th {\n",
       "        text-align: right;\n",
       "    }\n",
       "</style>\n",
       "<table border=\"1\" class=\"dataframe\">\n",
       "  <thead>\n",
       "    <tr style=\"text-align: right;\">\n",
       "      <th>game_result</th>\n",
       "      <th>L</th>\n",
       "      <th>W</th>\n",
       "    </tr>\n",
       "    <tr>\n",
       "      <th>Game_Location</th>\n",
       "      <th></th>\n",
       "      <th></th>\n",
       "    </tr>\n",
       "  </thead>\n",
       "  <tbody>\n",
       "    <tr>\n",
       "      <th>A</th>\n",
       "      <td>133</td>\n",
       "      <td>92</td>\n",
       "    </tr>\n",
       "    <tr>\n",
       "      <th>H</th>\n",
       "      <td>105</td>\n",
       "      <td>120</td>\n",
       "    </tr>\n",
       "  </tbody>\n",
       "</table>\n",
       "</div>"
      ],
      "text/plain": [
       "game_result      L    W\n",
       "Game_Location          \n",
       "A              133   92\n",
       "H              105  120"
      ]
     },
     "execution_count": 109,
     "metadata": {},
     "output_type": "execute_result"
    }
   ],
   "source": [
    "# Checking if a team tends to win games away from home or at home\n",
    "# Creating crosstabs\n",
    "location_result_freq = pd.crosstab(nba_2010.Game_Location, nba_2010.game_result)\n",
    "location_result_freq"
   ]
  },
  {
   "cell_type": "code",
   "execution_count": 108,
   "id": "62fd22a5-1bcc-4047-b135-0b159edd8cd5",
   "metadata": {},
   "outputs": [
    {
     "name": "stdout",
     "output_type": "stream",
     "text": [
      "Object `crosstabs` not found.\n"
     ]
    }
   ],
   "source": [
    "crosstabs?"
   ]
  },
  {
   "cell_type": "code",
   "execution_count": 104,
   "id": "fb5ae3e3-e221-4e8c-a5c4-429ce4135f69",
   "metadata": {},
   "outputs": [
    {
     "data": {
      "text/html": [
       "<div>\n",
       "<style scoped>\n",
       "    .dataframe tbody tr th:only-of-type {\n",
       "        vertical-align: middle;\n",
       "    }\n",
       "\n",
       "    .dataframe tbody tr th {\n",
       "        vertical-align: top;\n",
       "    }\n",
       "\n",
       "    .dataframe thead th {\n",
       "        text-align: right;\n",
       "    }\n",
       "</style>\n",
       "<table border=\"1\" class=\"dataframe\">\n",
       "  <thead>\n",
       "    <tr style=\"text-align: right;\">\n",
       "      <th></th>\n",
       "      <th>Game ID</th>\n",
       "      <th>Year</th>\n",
       "      <th>Fran</th>\n",
       "      <th>opp_fran</th>\n",
       "      <th>Game_Location</th>\n",
       "      <th>is_playoffs</th>\n",
       "      <th>pts</th>\n",
       "      <th>opp_pts</th>\n",
       "      <th>game_result</th>\n",
       "      <th>forecast</th>\n",
       "      <th>point_diff</th>\n",
       "    </tr>\n",
       "  </thead>\n",
       "  <tbody>\n",
       "    <tr>\n",
       "      <th>21717</th>\n",
       "      <td>200910270CLE</td>\n",
       "      <td>2010</td>\n",
       "      <td>Celtics</td>\n",
       "      <td>Cavaliers</td>\n",
       "      <td>A</td>\n",
       "      <td>0</td>\n",
       "      <td>95</td>\n",
       "      <td>89</td>\n",
       "      <td>W</td>\n",
       "      <td>0.277472</td>\n",
       "      <td>6</td>\n",
       "    </tr>\n",
       "    <tr>\n",
       "      <th>21718</th>\n",
       "      <td>200910280BOS</td>\n",
       "      <td>2010</td>\n",
       "      <td>Celtics</td>\n",
       "      <td>Hornets</td>\n",
       "      <td>H</td>\n",
       "      <td>0</td>\n",
       "      <td>92</td>\n",
       "      <td>59</td>\n",
       "      <td>W</td>\n",
       "      <td>0.814619</td>\n",
       "      <td>33</td>\n",
       "    </tr>\n",
       "    <tr>\n",
       "      <th>21719</th>\n",
       "      <td>200910280MIA</td>\n",
       "      <td>2010</td>\n",
       "      <td>Knicks</td>\n",
       "      <td>Heat</td>\n",
       "      <td>A</td>\n",
       "      <td>0</td>\n",
       "      <td>93</td>\n",
       "      <td>115</td>\n",
       "      <td>L</td>\n",
       "      <td>0.258755</td>\n",
       "      <td>-22</td>\n",
       "    </tr>\n",
       "    <tr>\n",
       "      <th>21720</th>\n",
       "      <td>200910280MIN</td>\n",
       "      <td>2010</td>\n",
       "      <td>Nets</td>\n",
       "      <td>Timberwolves</td>\n",
       "      <td>A</td>\n",
       "      <td>0</td>\n",
       "      <td>93</td>\n",
       "      <td>95</td>\n",
       "      <td>L</td>\n",
       "      <td>0.475155</td>\n",
       "      <td>-2</td>\n",
       "    </tr>\n",
       "    <tr>\n",
       "      <th>21721</th>\n",
       "      <td>200910280OKC</td>\n",
       "      <td>2010</td>\n",
       "      <td>Thunder</td>\n",
       "      <td>Kings</td>\n",
       "      <td>H</td>\n",
       "      <td>0</td>\n",
       "      <td>102</td>\n",
       "      <td>89</td>\n",
       "      <td>W</td>\n",
       "      <td>0.716764</td>\n",
       "      <td>13</td>\n",
       "    </tr>\n",
       "    <tr>\n",
       "      <th>...</th>\n",
       "      <td>...</td>\n",
       "      <td>...</td>\n",
       "      <td>...</td>\n",
       "      <td>...</td>\n",
       "      <td>...</td>\n",
       "      <td>...</td>\n",
       "      <td>...</td>\n",
       "      <td>...</td>\n",
       "      <td>...</td>\n",
       "      <td>...</td>\n",
       "      <td>...</td>\n",
       "    </tr>\n",
       "    <tr>\n",
       "      <th>22162</th>\n",
       "      <td>201006080BOS</td>\n",
       "      <td>2010</td>\n",
       "      <td>Celtics</td>\n",
       "      <td>Lakers</td>\n",
       "      <td>H</td>\n",
       "      <td>1</td>\n",
       "      <td>84</td>\n",
       "      <td>91</td>\n",
       "      <td>L</td>\n",
       "      <td>0.642039</td>\n",
       "      <td>-7</td>\n",
       "    </tr>\n",
       "    <tr>\n",
       "      <th>22163</th>\n",
       "      <td>201006100BOS</td>\n",
       "      <td>2010</td>\n",
       "      <td>Celtics</td>\n",
       "      <td>Lakers</td>\n",
       "      <td>H</td>\n",
       "      <td>1</td>\n",
       "      <td>96</td>\n",
       "      <td>89</td>\n",
       "      <td>W</td>\n",
       "      <td>0.610370</td>\n",
       "      <td>7</td>\n",
       "    </tr>\n",
       "    <tr>\n",
       "      <th>22164</th>\n",
       "      <td>201006130BOS</td>\n",
       "      <td>2010</td>\n",
       "      <td>Celtics</td>\n",
       "      <td>Lakers</td>\n",
       "      <td>H</td>\n",
       "      <td>1</td>\n",
       "      <td>92</td>\n",
       "      <td>86</td>\n",
       "      <td>W</td>\n",
       "      <td>0.627127</td>\n",
       "      <td>6</td>\n",
       "    </tr>\n",
       "    <tr>\n",
       "      <th>22165</th>\n",
       "      <td>201006150LAL</td>\n",
       "      <td>2010</td>\n",
       "      <td>Celtics</td>\n",
       "      <td>Lakers</td>\n",
       "      <td>A</td>\n",
       "      <td>1</td>\n",
       "      <td>67</td>\n",
       "      <td>89</td>\n",
       "      <td>L</td>\n",
       "      <td>0.361360</td>\n",
       "      <td>-22</td>\n",
       "    </tr>\n",
       "    <tr>\n",
       "      <th>22166</th>\n",
       "      <td>201006170LAL</td>\n",
       "      <td>2010</td>\n",
       "      <td>Celtics</td>\n",
       "      <td>Lakers</td>\n",
       "      <td>A</td>\n",
       "      <td>1</td>\n",
       "      <td>79</td>\n",
       "      <td>83</td>\n",
       "      <td>L</td>\n",
       "      <td>0.330820</td>\n",
       "      <td>-4</td>\n",
       "    </tr>\n",
       "  </tbody>\n",
       "</table>\n",
       "<p>450 rows × 11 columns</p>\n",
       "</div>"
      ],
      "text/plain": [
       "            Game ID  Year     Fran      opp_fran Game_Location  is_playoffs  \\\n",
       "21717  200910270CLE  2010  Celtics     Cavaliers             A            0   \n",
       "21718  200910280BOS  2010  Celtics       Hornets             H            0   \n",
       "21719  200910280MIA  2010   Knicks          Heat             A            0   \n",
       "21720  200910280MIN  2010     Nets  Timberwolves             A            0   \n",
       "21721  200910280OKC  2010  Thunder         Kings             H            0   \n",
       "...             ...   ...      ...           ...           ...          ...   \n",
       "22162  201006080BOS  2010  Celtics        Lakers             H            1   \n",
       "22163  201006100BOS  2010  Celtics        Lakers             H            1   \n",
       "22164  201006130BOS  2010  Celtics        Lakers             H            1   \n",
       "22165  201006150LAL  2010  Celtics        Lakers             A            1   \n",
       "22166  201006170LAL  2010  Celtics        Lakers             A            1   \n",
       "\n",
       "       pts  opp_pts game_result  forecast  point_diff  \n",
       "21717   95       89           W  0.277472           6  \n",
       "21718   92       59           W  0.814619          33  \n",
       "21719   93      115           L  0.258755         -22  \n",
       "21720   93       95           L  0.475155          -2  \n",
       "21721  102       89           W  0.716764          13  \n",
       "...    ...      ...         ...       ...         ...  \n",
       "22162   84       91           L  0.642039          -7  \n",
       "22163   96       89           W  0.610370           7  \n",
       "22164   92       86           W  0.627127           6  \n",
       "22165   67       89           L  0.361360         -22  \n",
       "22166   79       83           L  0.330820          -4  \n",
       "\n",
       "[450 rows x 11 columns]"
      ]
     },
     "execution_count": 104,
     "metadata": {},
     "output_type": "execute_result"
    }
   ],
   "source": [
    "nba_2010"
   ]
  },
  {
   "cell_type": "code",
   "execution_count": 110,
   "id": "beb9e9ae-b8e2-44b5-a62a-e13d53614838",
   "metadata": {},
   "outputs": [
    {
     "data": {
      "text/html": [
       "<div>\n",
       "<style scoped>\n",
       "    .dataframe tbody tr th:only-of-type {\n",
       "        vertical-align: middle;\n",
       "    }\n",
       "\n",
       "    .dataframe tbody tr th {\n",
       "        vertical-align: top;\n",
       "    }\n",
       "\n",
       "    .dataframe thead th {\n",
       "        text-align: right;\n",
       "    }\n",
       "</style>\n",
       "<table border=\"1\" class=\"dataframe\">\n",
       "  <thead>\n",
       "    <tr style=\"text-align: right;\">\n",
       "      <th>game_result</th>\n",
       "      <th>L</th>\n",
       "      <th>W</th>\n",
       "    </tr>\n",
       "    <tr>\n",
       "      <th>Game_Location</th>\n",
       "      <th></th>\n",
       "      <th></th>\n",
       "    </tr>\n",
       "  </thead>\n",
       "  <tbody>\n",
       "    <tr>\n",
       "      <th>A</th>\n",
       "      <td>0.295556</td>\n",
       "      <td>0.204444</td>\n",
       "    </tr>\n",
       "    <tr>\n",
       "      <th>H</th>\n",
       "      <td>0.233333</td>\n",
       "      <td>0.266667</td>\n",
       "    </tr>\n",
       "  </tbody>\n",
       "</table>\n",
       "</div>"
      ],
      "text/plain": [
       "game_result           L         W\n",
       "Game_Location                    \n",
       "A              0.295556  0.204444\n",
       "H              0.233333  0.266667"
      ]
     },
     "execution_count": 110,
     "metadata": {},
     "output_type": "execute_result"
    }
   ],
   "source": [
    "# Converting the table of frequencies to a table of propotiion\n",
    "location_result_proportion = location_result_freq/len(nba_2010)\n",
    "location_result_proportion"
   ]
  },
  {
   "cell_type": "code",
   "execution_count": 113,
   "id": "069412b0-5b88-4129-98c6-64f63523b1a0",
   "metadata": {},
   "outputs": [
    {
     "name": "stdout",
     "output_type": "stream",
     "text": [
      "[[119. 106.]\n",
      " [119. 106.]]\n",
      "6.501704455367053\n"
     ]
    }
   ],
   "source": [
    "# Creating the expected contigency table \n",
    "# The expected contigency table checks if there is an association between the variables\n",
    "# for a 2x2 table, a value above 4 indcates that there is significant association\n",
    "# When the variables are associated, it means that the value of one variable provides the information about the value of another variable\n",
    "chi2, pval, dof, expected = chi2_contingency(location_result_freq)\n",
    "print(expected)\n",
    "print(chi2)"
   ]
  },
  {
   "cell_type": "code",
   "execution_count": 114,
   "id": "f5cabfef-bdea-461d-816b-17e4b99ea2ad",
   "metadata": {},
   "outputs": [
    {
     "data": {
      "text/plain": [
       "array([[186.56,   1.37],\n",
       "       [  1.37,   0.05]])"
      ]
     },
     "execution_count": 114,
     "metadata": {},
     "output_type": "execute_result"
    }
   ],
   "source": [
    "# Calculating the covarince between forecast and point_diff\n",
    "point_diff_forecast_cov = np.cov(nba_2010.point_diff, nba_2010.forecast)\n",
    "point_diff_forecast_cov"
   ]
  },
  {
   "cell_type": "code",
   "execution_count": 116,
   "id": "81ce888d-d93c-4f1d-a720-fbb7b7dfe167",
   "metadata": {},
   "outputs": [
    {
     "data": {
      "text/plain": [
       "PearsonRResult(statistic=0.44020887084680815, pvalue=9.41039157313972e-23)"
      ]
     },
     "execution_count": 116,
     "metadata": {},
     "output_type": "execute_result"
    }
   ],
   "source": [
    "# Finding the corelation between the two variables\n",
    "point_diff_forecast_corr = pearsonr(nba_2010.forecast, nba_2010.point_diff)\n",
    "point_diff_forecast_corr"
   ]
  },
  {
   "cell_type": "code",
   "execution_count": 117,
   "id": "9d0daa01-5f95-4803-96f5-1046ac907b21",
   "metadata": {},
   "outputs": [
    {
     "data": {
      "image/png": "[encoded data removed]",
      "text/plain": [
       "<Figure size 640x480 with 1 Axes>"
      ]
     },
     "metadata": {},
     "output_type": "display_data"
    }
   ],
   "source": [
    "## Generating the scatter plot (x_axis) and the point_diff(y_axis) \n",
    "plt.scatter(\"forecast\",\"point_diff\", data = nba_2010)\n",
    "plt.xlabel(\"Projected Winning Probability\")\n",
    "plt.ylabel(\"Point Differential\")\n",
    "plt.show()"
   ]
  },
  {
   "cell_type": "raw",
   "id": "11fa0a85-7985-44d3-84db-954c911e032e",
   "metadata": {},
   "source": [
    "# END OF ANALYSIS"
   ]
  },
  {
   "cell_type": "code",
   "execution_count": null,
   "id": "efeaf87b-7ddc-4590-8ff8-d4648b45a12d",
   "metadata": {},
   "outputs": [],
   "source": []
  }
 ],
 "metadata": {
  "kernelspec": {
   "display_name": "Python 3 (ipykernel)",
   "language": "python",
   "name": "python3"
  },
  "language_info": {
   "codemirror_mode": {
    "name": "ipython",
    "version": 3
   },
   "file_extension": ".py",
   "mimetype": "text/x-python",
   "name": "python",
   "nbconvert_exporter": "python",
   "pygments_lexer": "ipython3",
   "version": "3.11.7"
  }
 },
 "nbformat": 4,
 "nbformat_minor": 5
}
