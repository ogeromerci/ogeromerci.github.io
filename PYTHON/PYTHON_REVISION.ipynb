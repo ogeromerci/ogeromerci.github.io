{
 "cells": [
  {
   "cell_type": "markdown",
   "id": "a5e1a826-04fb-4b01-8968-7fbe79a487ce",
   "metadata": {},
   "source": [
    "## PYTHON FUNDAMENTALS REVISION "
   ]
  },
  {
   "cell_type": "code",
   "execution_count": 2,
   "id": "5fa3fabc-1ebc-4f7f-a246-2568a8e72610",
   "metadata": {},
   "outputs": [
    {
     "name": "stdout",
     "output_type": "stream",
     "text": [
      "Hello World\n"
     ]
    }
   ],
   "source": [
    "print(\"Hello World\")"
   ]
  },
  {
   "cell_type": "code",
   "execution_count": 34,
   "id": "1275bad0-ea15-4f6a-87df-de9d1b048661",
   "metadata": {},
   "outputs": [
    {
     "data": {
      "text/plain": [
       "'jambo'"
      ]
     },
     "execution_count": 34,
     "metadata": {},
     "output_type": "execute_result"
    }
   ],
   "source": [
    "mercy = \"ogero\"\n",
    "hello_kenya  = \"jambo\"\n",
    "\n",
    "mercy\n",
    "hello_kenya"
   ]
  },
  {
   "cell_type": "markdown",
   "id": "771a53c1-da95-4ee2-9ff1-c49d74b565a7",
   "metadata": {},
   "source": [
    "## Python Indentation"
   ]
  },
  {
   "cell_type": "code",
   "execution_count": 4,
   "id": "865fe409-ffce-40f3-a187-dc516baceb8a",
   "metadata": {},
   "outputs": [],
   "source": [
    "# Indent using the space bar or use 5 key spaces"
   ]
  },
  {
   "cell_type": "code",
   "execution_count": 11,
   "id": "8451d45f-2f90-4dfb-8cec-aa1759bc3e41",
   "metadata": {},
   "outputs": [
    {
     "name": "stdout",
     "output_type": "stream",
     "text": [
      "Its less\n"
     ]
    }
   ],
   "source": [
    "if 5 > 2:\n",
    "    print(\"Its less\")\n",
    "    "
   ]
  },
  {
   "cell_type": "markdown",
   "id": "1b92d52e-d984-4de7-a79c-7cb2f0b27d28",
   "metadata": {},
   "source": [
    "## Python Comments"
   ]
  },
  {
   "cell_type": "code",
   "execution_count": 12,
   "id": "25db4a0c-574f-4e24-9e80-df618a4a9a2d",
   "metadata": {},
   "outputs": [],
   "source": [
    "# This is me creating a comment."
   ]
  },
  {
   "cell_type": "code",
   "execution_count": 13,
   "id": "06c5692e-ceb8-4b92-8824-837634b465fd",
   "metadata": {},
   "outputs": [
    {
     "name": "stdout",
     "output_type": "stream",
     "text": [
      "Its less\n"
     ]
    }
   ],
   "source": [
    "# code below checks if 5 is greater than 2\n",
    "if 5 > 2:\n",
    "    print(\"Its less\")\n",
    "    "
   ]
  },
  {
   "cell_type": "code",
   "execution_count": 16,
   "id": "108eb0ff-d417-4c5d-b6ee-bfaed8e66e6d",
   "metadata": {},
   "outputs": [
    {
     "name": "stdout",
     "output_type": "stream",
     "text": [
      "Its less\n"
     ]
    }
   ],
   "source": [
    "# using three single quotes are multi_line comments. Its used at the start and the end of the code\n",
    "\"\"\"\n",
    "# code below checks if 5 is greater than 2\n",
    "# if its greater than 2\n",
    "# then print a confirmation statement \n",
    "\"\"\"\n",
    "if 5 > 2:\n",
    "    print(\"Its less\")"
   ]
  },
  {
   "cell_type": "code",
   "execution_count": 18,
   "id": "d0fc5aea-e56e-4c7b-93bd-c304ddd88e5d",
   "metadata": {},
   "outputs": [
    {
     "data": {
      "text/plain": [
       "'\\n# Variable Names\\nsnake cases = kenya_today is is snake case because there is an underscore\\ncamel cases = myTown is a snake case because it has a capital letter in between\\nThe snake case is the most widely used\\n'"
      ]
     },
     "execution_count": 18,
     "metadata": {},
     "output_type": "execute_result"
    }
   ],
   "source": [
    "'''\n",
    "# Variable Names\n",
    "snake cases = kenya_today is is snake case because there is an underscore\n",
    "camel cases = myTown is a snake case because it has a capital letter in between\n",
    "The snake case is the most widely used\n",
    "'''"
   ]
  },
  {
   "cell_type": "markdown",
   "id": "cd6bf9ab-fb73-4899-ab20-d35a9a546ae6",
   "metadata": {},
   "source": [
    "## Many Values to Multiple Variables"
   ]
  },
  {
   "cell_type": "code",
   "execution_count": 25,
   "id": "e778d942-f58c-42ae-861e-5f3ca76b95c2",
   "metadata": {},
   "outputs": [],
   "source": [
    "kisii_city, kisumu_city, mombasa_city = \"kisii\", \"kisumu\", \"mombasa\""
   ]
  },
  {
   "cell_type": "code",
   "execution_count": 28,
   "id": "94352eb8-a313-454c-b00a-2c1b3938d60e",
   "metadata": {},
   "outputs": [
    {
     "data": {
      "text/plain": [
       "'kisumu'"
      ]
     },
     "execution_count": 28,
     "metadata": {},
     "output_type": "execute_result"
    }
   ],
   "source": [
    "kisii_city\n",
    "kisumu_city"
   ]
  },
  {
   "cell_type": "markdown",
   "id": "338e9cfb-d3ba-4b4e-872d-4b50723cb041",
   "metadata": {},
   "source": [
    "# Python Data Types"
   ]
  },
  {
   "cell_type": "markdown",
   "id": "c3d8a7a4-d91b-4a26-b869-2afca246d587",
   "metadata": {},
   "source": [
    "- Text types\n",
    "      Strings : str\n",
    "-Numeric Types\n",
    "    - Intergers : int\n",
    "    - Float : float\n",
    "- Sequences\n",
    "     -Lists - can repeat items\n",
    "     -Tuples\n",
    "     - sets - do not have repeating items\n",
    "- Mapping\n",
    "      - Dictionary\n",
    "- True/False Category\n",
    "      - Boolean"
   ]
  },
  {
   "cell_type": "code",
   "execution_count": 46,
   "id": "676abd74-e48c-4877-85eb-13eb3a0a283c",
   "metadata": {},
   "outputs": [],
   "source": [
    "my_var = 123.9876"
   ]
  },
  {
   "cell_type": "code",
   "execution_count": null,
   "id": "5da91915-ec16-4620-b566-5d8f488d9752",
   "metadata": {},
   "outputs": [],
   "source": [
    "# python casting is changing a data type"
   ]
  },
  {
   "cell_type": "code",
   "execution_count": 65,
   "id": "d97b9aa3-15fe-4627-bc58-8d75b794d396",
   "metadata": {},
   "outputs": [
    {
     "data": {
      "text/plain": [
       "123.99"
      ]
     },
     "execution_count": 65,
     "metadata": {},
     "output_type": "execute_result"
    }
   ],
   "source": [
    "round(float(my_var),2)"
   ]
  },
  {
   "cell_type": "code",
   "execution_count": 51,
   "id": "2a2fcf52-ac3b-4dd8-ba6b-2e4d21494316",
   "metadata": {},
   "outputs": [
    {
     "data": {
      "text/plain": [
       "'123.9876'"
      ]
     },
     "execution_count": 51,
     "metadata": {},
     "output_type": "execute_result"
    }
   ],
   "source": [
    "str(my_var)"
   ]
  },
  {
   "cell_type": "code",
   "execution_count": 52,
   "id": "01063a8b-09d1-4af3-b2ca-4d30b998cc68",
   "metadata": {},
   "outputs": [],
   "source": [
    "my_list = [23, 63, 78, 43, 23, 78]"
   ]
  },
  {
   "cell_type": "code",
   "execution_count": 53,
   "id": "2a1d7b33-5a7d-4a16-bc22-9af0456d3279",
   "metadata": {},
   "outputs": [
    {
     "data": {
      "text/plain": [
       "6"
      ]
     },
     "execution_count": 53,
     "metadata": {},
     "output_type": "execute_result"
    }
   ],
   "source": [
    "len(my_list)"
   ]
  },
  {
   "cell_type": "code",
   "execution_count": 54,
   "id": "c615fa17-5471-471a-93f5-43044dc0a317",
   "metadata": {},
   "outputs": [
    {
     "data": {
      "text/plain": [
       "{23, 43, 63, 78}"
      ]
     },
     "execution_count": 54,
     "metadata": {},
     "output_type": "execute_result"
    }
   ],
   "source": [
    "set(my_list)"
   ]
  },
  {
   "cell_type": "code",
   "execution_count": 55,
   "id": "21fd57b3-919b-46ab-9c30-d9701f22c0be",
   "metadata": {},
   "outputs": [
    {
     "data": {
      "text/plain": [
       "4"
      ]
     },
     "execution_count": 55,
     "metadata": {},
     "output_type": "execute_result"
    }
   ],
   "source": [
    "len(set(my_list))"
   ]
  },
  {
   "cell_type": "code",
   "execution_count": null,
   "id": "33b8657b-96cd-4a75-bce8-c9c2b89439f2",
   "metadata": {},
   "outputs": [],
   "source": [
    "# sets do not have repeating items while lists can hold repeating items "
   ]
  },
  {
   "cell_type": "code",
   "execution_count": 57,
   "id": "0c922bc2-914a-47b3-807e-e0be9f7fc574",
   "metadata": {},
   "outputs": [
    {
     "data": {
      "text/plain": [
       "True"
      ]
     },
     "execution_count": 57,
     "metadata": {},
     "output_type": "execute_result"
    }
   ],
   "source": [
    "# the data type boolean checks if there is a variable in the code called myvar. if there is a variable, the output will be true\n",
    "bool(my_var)"
   ]
  },
  {
   "cell_type": "code",
   "execution_count": 63,
   "id": "e018b83f-1056-42c3-97d1-93a0374037e1",
   "metadata": {},
   "outputs": [],
   "source": [
    "delivery_status = \"picked\""
   ]
  },
  {
   "cell_type": "code",
   "execution_count": 64,
   "id": "998b155d-e822-4758-8226-b03cfbd20f0a",
   "metadata": {},
   "outputs": [
    {
     "ename": "SyntaxError",
     "evalue": "expected ':' (4136144559.py, line 1)",
     "output_type": "error",
     "traceback": [
      "\u001b[1;36m  Cell \u001b[1;32mIn[64], line 1\u001b[1;36m\u001b[0m\n\u001b[1;33m    if bool(delivery_status)\u001b[0m\n\u001b[1;37m                            ^\u001b[0m\n\u001b[1;31mSyntaxError\u001b[0m\u001b[1;31m:\u001b[0m expected ':'\n"
     ]
    }
   ],
   "source": [
    "if bool(delivery_status)\n",
    "    print(\"Your order has been picked\")"
   ]
  },
  {
   "cell_type": "markdown",
   "id": "5be10583-404d-4240-ade2-28bf51aa19f2",
   "metadata": {},
   "source": [
    "## Quick Python Mathematics"
   ]
  },
  {
   "cell_type": "code",
   "execution_count": 66,
   "id": "10f2046c-363b-45e9-98a1-25ecf1ad8540",
   "metadata": {},
   "outputs": [
    {
     "data": {
      "text/plain": [
       "2"
      ]
     },
     "execution_count": 66,
     "metadata": {},
     "output_type": "execute_result"
    }
   ],
   "source": [
    "# addition\n",
    "1+1"
   ]
  },
  {
   "cell_type": "code",
   "execution_count": 67,
   "id": "f9a2868b-54a6-445b-9508-0ba80c23f22f",
   "metadata": {},
   "outputs": [
    {
     "data": {
      "text/plain": [
       "1"
      ]
     },
     "execution_count": 67,
     "metadata": {},
     "output_type": "execute_result"
    }
   ],
   "source": [
    "# subtraction\n",
    "2-1"
   ]
  },
  {
   "cell_type": "code",
   "execution_count": 69,
   "id": "c91dc456-487b-459d-a223-64819234136f",
   "metadata": {},
   "outputs": [
    {
     "data": {
      "text/plain": [
       "3.0"
      ]
     },
     "execution_count": 69,
     "metadata": {},
     "output_type": "execute_result"
    }
   ],
   "source": [
    "# Division # The output of division in Python is usually a float\n",
    "6/2"
   ]
  },
  {
   "cell_type": "code",
   "execution_count": 70,
   "id": "1c4355f5-4a1a-46f3-9325-bbd01d7d5bf2",
   "metadata": {},
   "outputs": [
    {
     "data": {
      "text/plain": [
       "4"
      ]
     },
     "execution_count": 70,
     "metadata": {},
     "output_type": "execute_result"
    }
   ],
   "source": [
    "# Multiplication \n",
    "2*2"
   ]
  },
  {
   "cell_type": "code",
   "execution_count": 72,
   "id": "6ba4e4b1-8130-434b-834c-6974b7aa6060",
   "metadata": {},
   "outputs": [
    {
     "data": {
      "text/plain": [
       "4"
      ]
     },
     "execution_count": 72,
     "metadata": {},
     "output_type": "execute_result"
    }
   ],
   "source": [
    "# Square\n",
    "2**2"
   ]
  },
  {
   "cell_type": "code",
   "execution_count": 73,
   "id": "03e16612-c7c0-4e8b-82b1-2bc237825901",
   "metadata": {},
   "outputs": [],
   "source": [
    "# Square root \n",
    "import math"
   ]
  },
  {
   "cell_type": "code",
   "execution_count": 74,
   "id": "ea8b8bc4-68c5-4a18-8387-0246ba89badc",
   "metadata": {},
   "outputs": [
    {
     "data": {
      "text/plain": [
       "2.0"
      ]
     },
     "execution_count": 74,
     "metadata": {},
     "output_type": "execute_result"
    }
   ],
   "source": [
    "math.sqrt(4)"
   ]
  },
  {
   "cell_type": "code",
   "execution_count": 75,
   "id": "32f0004c-7846-4381-ac8c-7d05693f4c59",
   "metadata": {},
   "outputs": [
    {
     "data": {
      "text/plain": [
       "\u001b[1;31mType:\u001b[0m        module\n",
       "\u001b[1;31mString form:\u001b[0m <module 'math' (built-in)>\n",
       "\u001b[1;31mDocstring:\u001b[0m  \n",
       "This module provides access to the mathematical functions\n",
       "defined by the C standard."
      ]
     },
     "metadata": {},
     "output_type": "display_data"
    }
   ],
   "source": [
    "math?"
   ]
  },
  {
   "cell_type": "code",
   "execution_count": 76,
   "id": "4325f7cf-9e9b-49b1-99a1-3a32d8bb484d",
   "metadata": {},
   "outputs": [
    {
     "data": {
      "text/plain": [
       "4.7"
      ]
     },
     "execution_count": 76,
     "metadata": {},
     "output_type": "execute_result"
    }
   ],
   "source": [
    "# round to a decimal point \n",
    "round(4.67, 1)"
   ]
  },
  {
   "cell_type": "code",
   "execution_count": 78,
   "id": "ddd2dac3-4dce-4a5e-a029-0e039c07cfba",
   "metadata": {},
   "outputs": [],
   "source": [
    "# gets the maximum of two numbers \n",
    "max(4,9)"
   ]
  },
  {
   "cell_type": "code",
   "execution_count": 79,
   "id": "c022843f-0434-49ee-b9fb-b8966c432979",
   "metadata": {},
   "outputs": [
    {
     "data": {
      "text/plain": [
       "5"
      ]
     },
     "execution_count": 79,
     "metadata": {},
     "output_type": "execute_result"
    }
   ],
   "source": [
    "min(5,9)"
   ]
  },
  {
   "cell_type": "markdown",
   "id": "0dfd5e6e-434e-4d74-a11b-62e28db19498",
   "metadata": {},
   "source": [
    "## Strings "
   ]
  },
  {
   "cell_type": "code",
   "execution_count": 90,
   "id": "7f9a5714-76c5-4ca2-9c07-5046ce4e499c",
   "metadata": {},
   "outputs": [],
   "source": [
    "my_testimony = \"I beleive in God, the Holy Trinity\""
   ]
  },
  {
   "cell_type": "code",
   "execution_count": 92,
   "id": "15253f91-51c2-426b-955c-71533ee50732",
   "metadata": {},
   "outputs": [
    {
     "data": {
      "text/plain": [
       "'I beleive in God, the Holy Trinity'"
      ]
     },
     "execution_count": 92,
     "metadata": {},
     "output_type": "execute_result"
    }
   ],
   "source": [
    "my_testimony[0:]"
   ]
  },
  {
   "cell_type": "code",
   "execution_count": 95,
   "id": "33bc648e-061a-4375-8353-4424615d35e4",
   "metadata": {},
   "outputs": [
    {
     "name": "stdout",
     "output_type": "stream",
     "text": [
      "I\n"
     ]
    }
   ],
   "source": [
    "# every single item in the sentence is being counted, even for the spaces. \n",
    "for letter in my_testimony:\n",
    "    print(letter)\n",
    "    break"
   ]
  },
  {
   "cell_type": "code",
   "execution_count": 96,
   "id": "3a6b9afa-d472-4926-97f4-0651a1bef051",
   "metadata": {},
   "outputs": [
    {
     "data": {
      "text/plain": [
       "'I BELEIVE IN GOD, THE HOLY TRINITY'"
      ]
     },
     "execution_count": 96,
     "metadata": {},
     "output_type": "execute_result"
    }
   ],
   "source": [
    "my_testimony.upper()"
   ]
  },
  {
   "cell_type": "code",
   "execution_count": 98,
   "id": "8f14ce46-5fee-406f-8522-26ad0834b03f",
   "metadata": {},
   "outputs": [
    {
     "data": {
      "text/plain": [
       "'I beleive in God, Almighty God'"
      ]
     },
     "execution_count": 98,
     "metadata": {},
     "output_type": "execute_result"
    }
   ],
   "source": [
    "my_testimony.replace(\"the Holy Trinity\", \"Almighty God\")"
   ]
  },
  {
   "cell_type": "code",
   "execution_count": 99,
   "id": "5420b181-cf9a-467b-9e58-b981ca214c9c",
   "metadata": {},
   "outputs": [
    {
     "data": {
      "text/plain": [
       "'I beleive in Father, the Holy Trinity'"
      ]
     },
     "execution_count": 99,
     "metadata": {},
     "output_type": "execute_result"
    }
   ],
   "source": [
    "my_testimony.replace(\"God\", \"Father\")"
   ]
  },
  {
   "cell_type": "code",
   "execution_count": 103,
   "id": "e7de653c-acfd-41fe-a6e2-15c79950a822",
   "metadata": {},
   "outputs": [
    {
     "data": {
      "text/plain": [
       "'we beleive in God, the Holy Trinity'"
      ]
     },
     "execution_count": 103,
     "metadata": {},
     "output_type": "execute_result"
    }
   ],
   "source": [
    "my_testimony.replace('I', 'we')"
   ]
  },
  {
   "cell_type": "code",
   "execution_count": 105,
   "id": "f4f76e6c-2199-4334-a179-ac64bc094a81",
   "metadata": {},
   "outputs": [],
   "source": [
    "# concatenation\n",
    "the_song = \"my song\"\n",
    "the_song1 = \"is today\"\n",
    "the_song2 = \"and tomorrow\"\n",
    "\n"
   ]
  },
  {
   "cell_type": "code",
   "execution_count": 118,
   "id": "c1f5290f-31da-4e16-8049-11b87e29d9e3",
   "metadata": {},
   "outputs": [
    {
     "name": "stdout",
     "output_type": "stream",
     "text": [
      "Object `concat` not found.\n"
     ]
    }
   ],
   "source": [
    "concat?"
   ]
  },
  {
   "cell_type": "code",
   "execution_count": 115,
   "id": "97be87e5-2b09-4fd6-9834-a6be63c33a6b",
   "metadata": {},
   "outputs": [
    {
     "ename": "NameError",
     "evalue": "name 'concat' is not defined",
     "output_type": "error",
     "traceback": [
      "\u001b[1;31m---------------------------------------------------------------------------\u001b[0m",
      "\u001b[1;31mNameError\u001b[0m                                 Traceback (most recent call last)",
      "Cell \u001b[1;32mIn[115], line 1\u001b[0m\n\u001b[1;32m----> 1\u001b[0m total_song \u001b[38;5;241m=\u001b[39m concat(the_song, the_song1, the_song2)\n",
      "\u001b[1;31mNameError\u001b[0m: name 'concat' is not defined"
     ]
    }
   ],
   "source": [
    "total_song = concat(the_song, the_song1, the_song2)"
   ]
  },
  {
   "cell_type": "code",
   "execution_count": 106,
   "id": "292af3fa-a5cc-4e2d-916f-769b1defaeca",
   "metadata": {},
   "outputs": [
    {
     "data": {
      "text/plain": [
       "'my songis todayand tomorrow'"
      ]
     },
     "execution_count": 106,
     "metadata": {},
     "output_type": "execute_result"
    }
   ],
   "source": [
    "the_song + \"\" + the_song1 + \"\" + the_song2"
   ]
  },
  {
   "cell_type": "code",
   "execution_count": 113,
   "id": "d032e127-9bc5-4f30-b5bb-0da030782be9",
   "metadata": {},
   "outputs": [
    {
     "name": "stdout",
     "output_type": "stream",
     "text": [
      "my song is today \"we I agree\" and tomorrow\n"
     ]
    }
   ],
   "source": [
    "print(f\"{the_song} {the_song1} \\\"we I agree\\\" {the_song2}\")"
   ]
  },
  {
   "cell_type": "code",
   "execution_count": 117,
   "id": "0e43ba8a-4c26-44a3-b8ae-d5ce54355f34",
   "metadata": {},
   "outputs": [
    {
     "name": "stdout",
     "output_type": "stream",
     "text": [
      "my song is today \\children\\ and tomorrow\n"
     ]
    }
   ],
   "source": [
    "print(f\"{the_song} {the_song1} \\children\\ {the_song2}\")"
   ]
  },
  {
   "cell_type": "code",
   "execution_count": 126,
   "id": "41091866-5853-4232-b7ec-ba2b1c05db53",
   "metadata": {},
   "outputs": [],
   "source": [
    "x = \"children\""
   ]
  },
  {
   "cell_type": "code",
   "execution_count": 132,
   "id": "851db7f6-7c63-49e7-9d83-d892a83399ff",
   "metadata": {},
   "outputs": [
    {
     "name": "stdout",
     "output_type": "stream",
     "text": [
      "\"children\"\n"
     ]
    }
   ],
   "source": [
    "# To escape a character use double escape characters \n",
    "print(f\"\\\"{x}\\\"\")"
   ]
  },
  {
   "cell_type": "code",
   "execution_count": 124,
   "id": "e256531d-a880-4c1a-ac30-bd73654cf4ed",
   "metadata": {},
   "outputs": [
    {
     "name": "stdout",
     "output_type": "stream",
     "text": [
      "children\n"
     ]
    }
   ],
   "source": [
    "print(f\"children\")"
   ]
  },
  {
   "cell_type": "markdown",
   "id": "07e698f3-a7ae-44e1-af30-8cdf9d3957e1",
   "metadata": {},
   "source": [
    "### LISTS"
   ]
  },
  {
   "cell_type": "code",
   "execution_count": 102,
   "id": "cd882cfd-2079-4b71-b3fb-963a6648500d",
   "metadata": {},
   "outputs": [],
   "source": [
    "# reverse this statement \n",
    "fruits = [\"oranges\", \"lemon\", \"pineapples\"]"
   ]
  },
  {
   "cell_type": "code",
   "execution_count": null,
   "id": "f8aa09bb-6898-49cb-b9c4-a52003456168",
   "metadata": {},
   "outputs": [],
   "source": []
  }
 ],
 "metadata": {
  "kernelspec": {
   "display_name": "Python 3 (ipykernel)",
   "language": "python",
   "name": "python3"
  },
  "language_info": {
   "codemirror_mode": {
    "name": "ipython",
    "version": 3
   },
   "file_extension": ".py",
   "mimetype": "text/x-python",
   "name": "python",
   "nbconvert_exporter": "python",
   "pygments_lexer": "ipython3",
   "version": "3.11.7"
  }
 },
 "nbformat": 4,
 "nbformat_minor": 5
}
