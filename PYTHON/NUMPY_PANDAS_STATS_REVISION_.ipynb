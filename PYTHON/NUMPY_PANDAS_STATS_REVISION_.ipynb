{
 "cells": [
  {
   "cell_type": "markdown",
   "id": "b0544229-1be7-4780-82cb-10d9a3eafc7c",
   "metadata": {},
   "source": [
    "# Generating Random Values Using Numpy"
   ]
  },
  {
   "cell_type": "code",
   "execution_count": 7,
   "id": "2266806f-5a5d-473c-8793-087b1cc64929",
   "metadata": {},
   "outputs": [
    {
     "data": {
      "text/plain": [
       "'\\n# We dont always have the datasets we need\\n    1. We make up dummy records/datasets\\n    2. we use dummy datasets for testing/prototyping/proof_of_concepts\\n'"
      ]
     },
     "execution_count": 7,
     "metadata": {},
     "output_type": "execute_result"
    }
   ],
   "source": [
    "'''\n",
    "# We dont always have the datasets we need\n",
    "    1. We make up dummy records/datasets\n",
    "    2. we use dummy datasets for testing/prototyping/proof_of_concepts\n",
    "'''"
   ]
  },
  {
   "cell_type": "code",
   "execution_count": 8,
   "id": "eef49ba1-e2e3-4811-a1dd-3f42626cfa3e",
   "metadata": {},
   "outputs": [],
   "source": [
    "# libs\n",
    "import pandas as pd\n",
    "import numpy as np\n",
    "\n",
    "# Establishing seed helps with reproducibility\n",
    "seed = 1234\n",
    "np.random.seed(seed)"
   ]
  },
  {
   "cell_type": "code",
   "execution_count": 9,
   "id": "2dd1bc28-be21-4918-83fb-04829c6b9a48",
   "metadata": {},
   "outputs": [
    {
     "name": "stdout",
     "output_type": "stream",
     "text": [
      "[[ 4.71435164e-01 -1.19097569e+00  1.43270697e+00 -3.12651896e-01\n",
      "  -7.20588733e-01  8.87162940e-01  8.59588414e-01 -6.36523504e-01\n",
      "   1.56963721e-02 -2.24268495e+00]\n",
      " [ 1.15003572e+00  9.91946022e-01  9.53324128e-01 -2.02125482e+00\n",
      "  -3.34077366e-01  2.11836468e-03  4.05453412e-01  2.89091941e-01\n",
      "   1.32115819e+00 -1.54690555e+00]\n",
      " [-2.02646325e-01 -6.55969344e-01  1.93421376e-01  5.53438911e-01\n",
      "   1.31815155e+00 -4.69305285e-01  6.75554085e-01 -1.81702723e+00\n",
      "  -1.83108540e-01  1.05896919e+00]\n",
      " [-3.97840228e-01  3.37437654e-01  1.04757857e+00  1.04593826e+00\n",
      "   8.63717292e-01 -1.22091575e-01  1.24712954e-01 -3.22794806e-01\n",
      "   8.41674713e-01  2.39096052e+00]]\n"
     ]
    }
   ],
   "source": [
    "# generate a randon 4,10 array\n",
    "my_array = np.random.randn(4,10)\n",
    "print(my_array)"
   ]
  },
  {
   "cell_type": "code",
   "execution_count": 10,
   "id": "d413f41f-ad83-4f1c-b35d-7e9dc4f2a189",
   "metadata": {},
   "outputs": [],
   "source": [
    "# turn the array to a pandas dataframe\n",
    "df = pd.DataFrame(my_array,index = [1,2,3,4], columns = list(\"ABCDEFGHIJ\"))"
   ]
  },
  {
   "cell_type": "code",
   "execution_count": 11,
   "id": "37857b7e-c645-40c9-bcf8-236b9aed226e",
   "metadata": {},
   "outputs": [
    {
     "data": {
      "text/html": [
       "<div>\n",
       "<style scoped>\n",
       "    .dataframe tbody tr th:only-of-type {\n",
       "        vertical-align: middle;\n",
       "    }\n",
       "\n",
       "    .dataframe tbody tr th {\n",
       "        vertical-align: top;\n",
       "    }\n",
       "\n",
       "    .dataframe thead th {\n",
       "        text-align: right;\n",
       "    }\n",
       "</style>\n",
       "<table border=\"1\" class=\"dataframe\">\n",
       "  <thead>\n",
       "    <tr style=\"text-align: right;\">\n",
       "      <th></th>\n",
       "      <th>A</th>\n",
       "      <th>B</th>\n",
       "      <th>C</th>\n",
       "      <th>D</th>\n",
       "      <th>E</th>\n",
       "      <th>F</th>\n",
       "      <th>G</th>\n",
       "      <th>H</th>\n",
       "      <th>I</th>\n",
       "      <th>J</th>\n",
       "    </tr>\n",
       "  </thead>\n",
       "  <tbody>\n",
       "    <tr>\n",
       "      <th>1</th>\n",
       "      <td>0.471435</td>\n",
       "      <td>-1.190976</td>\n",
       "      <td>1.432707</td>\n",
       "      <td>-0.312652</td>\n",
       "      <td>-0.720589</td>\n",
       "      <td>0.887163</td>\n",
       "      <td>0.859588</td>\n",
       "      <td>-0.636524</td>\n",
       "      <td>0.015696</td>\n",
       "      <td>-2.242685</td>\n",
       "    </tr>\n",
       "    <tr>\n",
       "      <th>2</th>\n",
       "      <td>1.150036</td>\n",
       "      <td>0.991946</td>\n",
       "      <td>0.953324</td>\n",
       "      <td>-2.021255</td>\n",
       "      <td>-0.334077</td>\n",
       "      <td>0.002118</td>\n",
       "      <td>0.405453</td>\n",
       "      <td>0.289092</td>\n",
       "      <td>1.321158</td>\n",
       "      <td>-1.546906</td>\n",
       "    </tr>\n",
       "    <tr>\n",
       "      <th>3</th>\n",
       "      <td>-0.202646</td>\n",
       "      <td>-0.655969</td>\n",
       "      <td>0.193421</td>\n",
       "      <td>0.553439</td>\n",
       "      <td>1.318152</td>\n",
       "      <td>-0.469305</td>\n",
       "      <td>0.675554</td>\n",
       "      <td>-1.817027</td>\n",
       "      <td>-0.183109</td>\n",
       "      <td>1.058969</td>\n",
       "    </tr>\n",
       "    <tr>\n",
       "      <th>4</th>\n",
       "      <td>-0.397840</td>\n",
       "      <td>0.337438</td>\n",
       "      <td>1.047579</td>\n",
       "      <td>1.045938</td>\n",
       "      <td>0.863717</td>\n",
       "      <td>-0.122092</td>\n",
       "      <td>0.124713</td>\n",
       "      <td>-0.322795</td>\n",
       "      <td>0.841675</td>\n",
       "      <td>2.390961</td>\n",
       "    </tr>\n",
       "  </tbody>\n",
       "</table>\n",
       "</div>"
      ],
      "text/plain": [
       "          A         B         C         D         E         F         G  \\\n",
       "1  0.471435 -1.190976  1.432707 -0.312652 -0.720589  0.887163  0.859588   \n",
       "2  1.150036  0.991946  0.953324 -2.021255 -0.334077  0.002118  0.405453   \n",
       "3 -0.202646 -0.655969  0.193421  0.553439  1.318152 -0.469305  0.675554   \n",
       "4 -0.397840  0.337438  1.047579  1.045938  0.863717 -0.122092  0.124713   \n",
       "\n",
       "          H         I         J  \n",
       "1 -0.636524  0.015696 -2.242685  \n",
       "2  0.289092  1.321158 -1.546906  \n",
       "3 -1.817027 -0.183109  1.058969  \n",
       "4 -0.322795  0.841675  2.390961  "
      ]
     },
     "execution_count": 11,
     "metadata": {},
     "output_type": "execute_result"
    }
   ],
   "source": [
    "df"
   ]
  },
  {
   "cell_type": "code",
   "execution_count": 12,
   "id": "9e8481d9-ce59-49dc-874a-3ddf9147eb44",
   "metadata": {},
   "outputs": [
    {
     "data": {
      "text/plain": [
       "\u001b[1;31mInit signature:\u001b[0m\n",
       "\u001b[0mpd\u001b[0m\u001b[1;33m.\u001b[0m\u001b[0mDataFrame\u001b[0m\u001b[1;33m(\u001b[0m\u001b[1;33m\n",
       "\u001b[0m    \u001b[0mdata\u001b[0m\u001b[1;33m=\u001b[0m\u001b[1;32mNone\u001b[0m\u001b[1;33m,\u001b[0m\u001b[1;33m\n",
       "\u001b[0m    \u001b[0mindex\u001b[0m\u001b[1;33m:\u001b[0m \u001b[1;34m'Axes | None'\u001b[0m \u001b[1;33m=\u001b[0m \u001b[1;32mNone\u001b[0m\u001b[1;33m,\u001b[0m\u001b[1;33m\n",
       "\u001b[0m    \u001b[0mcolumns\u001b[0m\u001b[1;33m:\u001b[0m \u001b[1;34m'Axes | None'\u001b[0m \u001b[1;33m=\u001b[0m \u001b[1;32mNone\u001b[0m\u001b[1;33m,\u001b[0m\u001b[1;33m\n",
       "\u001b[0m    \u001b[0mdtype\u001b[0m\u001b[1;33m:\u001b[0m \u001b[1;34m'Dtype | None'\u001b[0m \u001b[1;33m=\u001b[0m \u001b[1;32mNone\u001b[0m\u001b[1;33m,\u001b[0m\u001b[1;33m\n",
       "\u001b[0m    \u001b[0mcopy\u001b[0m\u001b[1;33m:\u001b[0m \u001b[1;34m'bool | None'\u001b[0m \u001b[1;33m=\u001b[0m \u001b[1;32mNone\u001b[0m\u001b[1;33m,\u001b[0m\u001b[1;33m\n",
       "\u001b[0m\u001b[1;33m)\u001b[0m \u001b[1;33m->\u001b[0m \u001b[1;34m'None'\u001b[0m\u001b[1;33m\u001b[0m\u001b[1;33m\u001b[0m\u001b[0m\n",
       "\u001b[1;31mDocstring:\u001b[0m     \n",
       "Two-dimensional, size-mutable, potentially heterogeneous tabular data.\n",
       "\n",
       "Data structure also contains labeled axes (rows and columns).\n",
       "Arithmetic operations align on both row and column labels. Can be\n",
       "thought of as a dict-like container for Series objects. The primary\n",
       "pandas data structure.\n",
       "\n",
       "Parameters\n",
       "----------\n",
       "data : ndarray (structured or homogeneous), Iterable, dict, or DataFrame\n",
       "    Dict can contain Series, arrays, constants, dataclass or list-like objects. If\n",
       "    data is a dict, column order follows insertion-order. If a dict contains Series\n",
       "    which have an index defined, it is aligned by its index. This alignment also\n",
       "    occurs if data is a Series or a DataFrame itself. Alignment is done on\n",
       "    Series/DataFrame inputs.\n",
       "\n",
       "    If data is a list of dicts, column order follows insertion-order.\n",
       "\n",
       "index : Index or array-like\n",
       "    Index to use for resulting frame. Will default to RangeIndex if\n",
       "    no indexing information part of input data and no index provided.\n",
       "columns : Index or array-like\n",
       "    Column labels to use for resulting frame when data does not have them,\n",
       "    defaulting to RangeIndex(0, 1, 2, ..., n). If data contains column labels,\n",
       "    will perform column selection instead.\n",
       "dtype : dtype, default None\n",
       "    Data type to force. Only a single dtype is allowed. If None, infer.\n",
       "copy : bool or None, default None\n",
       "    Copy data from inputs.\n",
       "    For dict data, the default of None behaves like ``copy=True``.  For DataFrame\n",
       "    or 2d ndarray input, the default of None behaves like ``copy=False``.\n",
       "    If data is a dict containing one or more Series (possibly of different dtypes),\n",
       "    ``copy=False`` will ensure that these inputs are not copied.\n",
       "\n",
       "    .. versionchanged:: 1.3.0\n",
       "\n",
       "See Also\n",
       "--------\n",
       "DataFrame.from_records : Constructor from tuples, also record arrays.\n",
       "DataFrame.from_dict : From dicts of Series, arrays, or dicts.\n",
       "read_csv : Read a comma-separated values (csv) file into DataFrame.\n",
       "read_table : Read general delimited file into DataFrame.\n",
       "read_clipboard : Read text from clipboard into DataFrame.\n",
       "\n",
       "Notes\n",
       "-----\n",
       "Please reference the :ref:`User Guide <basics.dataframe>` for more information.\n",
       "\n",
       "Examples\n",
       "--------\n",
       "Constructing DataFrame from a dictionary.\n",
       "\n",
       ">>> d = {'col1': [1, 2], 'col2': [3, 4]}\n",
       ">>> df = pd.DataFrame(data=d)\n",
       ">>> df\n",
       "   col1  col2\n",
       "0     1     3\n",
       "1     2     4\n",
       "\n",
       "Notice that the inferred dtype is int64.\n",
       "\n",
       ">>> df.dtypes\n",
       "col1    int64\n",
       "col2    int64\n",
       "dtype: object\n",
       "\n",
       "To enforce a single dtype:\n",
       "\n",
       ">>> df = pd.DataFrame(data=d, dtype=np.int8)\n",
       ">>> df.dtypes\n",
       "col1    int8\n",
       "col2    int8\n",
       "dtype: object\n",
       "\n",
       "Constructing DataFrame from a dictionary including Series:\n",
       "\n",
       ">>> d = {'col1': [0, 1, 2, 3], 'col2': pd.Series([2, 3], index=[2, 3])}\n",
       ">>> pd.DataFrame(data=d, index=[0, 1, 2, 3])\n",
       "   col1  col2\n",
       "0     0   NaN\n",
       "1     1   NaN\n",
       "2     2   2.0\n",
       "3     3   3.0\n",
       "\n",
       "Constructing DataFrame from numpy ndarray:\n",
       "\n",
       ">>> df2 = pd.DataFrame(np.array([[1, 2, 3], [4, 5, 6], [7, 8, 9]]),\n",
       "...                    columns=['a', 'b', 'c'])\n",
       ">>> df2\n",
       "   a  b  c\n",
       "0  1  2  3\n",
       "1  4  5  6\n",
       "2  7  8  9\n",
       "\n",
       "Constructing DataFrame from a numpy ndarray that has labeled columns:\n",
       "\n",
       ">>> data = np.array([(1, 2, 3), (4, 5, 6), (7, 8, 9)],\n",
       "...                 dtype=[(\"a\", \"i4\"), (\"b\", \"i4\"), (\"c\", \"i4\")])\n",
       ">>> df3 = pd.DataFrame(data, columns=['c', 'a'])\n",
       "...\n",
       ">>> df3\n",
       "   c  a\n",
       "0  3  1\n",
       "1  6  4\n",
       "2  9  7\n",
       "\n",
       "Constructing DataFrame from dataclass:\n",
       "\n",
       ">>> from dataclasses import make_dataclass\n",
       ">>> Point = make_dataclass(\"Point\", [(\"x\", int), (\"y\", int)])\n",
       ">>> pd.DataFrame([Point(0, 0), Point(0, 3), Point(2, 3)])\n",
       "   x  y\n",
       "0  0  0\n",
       "1  0  3\n",
       "2  2  3\n",
       "\n",
       "Constructing DataFrame from Series/DataFrame:\n",
       "\n",
       ">>> ser = pd.Series([1, 2, 3], index=[\"a\", \"b\", \"c\"])\n",
       ">>> df = pd.DataFrame(data=ser, index=[\"a\", \"c\"])\n",
       ">>> df\n",
       "   0\n",
       "a  1\n",
       "c  3\n",
       "\n",
       ">>> df1 = pd.DataFrame([1, 2, 3], index=[\"a\", \"b\", \"c\"], columns=[\"x\"])\n",
       ">>> df2 = pd.DataFrame(data=df1, index=[\"a\", \"c\"])\n",
       ">>> df2\n",
       "   x\n",
       "a  1\n",
       "c  3\n",
       "\u001b[1;31mFile:\u001b[0m           c:\\users\\lenovo\\anaconda3\\anaconda30\\lib\\site-packages\\pandas\\core\\frame.py\n",
       "\u001b[1;31mType:\u001b[0m           type\n",
       "\u001b[1;31mSubclasses:\u001b[0m     SubclassedDataFrame"
      ]
     },
     "metadata": {},
     "output_type": "display_data"
    }
   ],
   "source": [
    "pd.DataFrame?"
   ]
  },
  {
   "cell_type": "code",
   "execution_count": 13,
   "id": "fcc7aa31-8b5a-4047-94ba-225867a30099",
   "metadata": {},
   "outputs": [
    {
     "data": {
      "text/html": [
       "<div>\n",
       "<style scoped>\n",
       "    .dataframe tbody tr th:only-of-type {\n",
       "        vertical-align: middle;\n",
       "    }\n",
       "\n",
       "    .dataframe tbody tr th {\n",
       "        vertical-align: top;\n",
       "    }\n",
       "\n",
       "    .dataframe thead th {\n",
       "        text-align: right;\n",
       "    }\n",
       "</style>\n",
       "<table border=\"1\" class=\"dataframe\">\n",
       "  <thead>\n",
       "    <tr style=\"text-align: right;\">\n",
       "      <th></th>\n",
       "      <th>1</th>\n",
       "      <th>2</th>\n",
       "      <th>3</th>\n",
       "      <th>4</th>\n",
       "    </tr>\n",
       "  </thead>\n",
       "  <tbody>\n",
       "    <tr>\n",
       "      <th>A</th>\n",
       "      <td>0.471435</td>\n",
       "      <td>1.150036</td>\n",
       "      <td>-0.202646</td>\n",
       "      <td>-0.397840</td>\n",
       "    </tr>\n",
       "    <tr>\n",
       "      <th>B</th>\n",
       "      <td>-1.190976</td>\n",
       "      <td>0.991946</td>\n",
       "      <td>-0.655969</td>\n",
       "      <td>0.337438</td>\n",
       "    </tr>\n",
       "    <tr>\n",
       "      <th>C</th>\n",
       "      <td>1.432707</td>\n",
       "      <td>0.953324</td>\n",
       "      <td>0.193421</td>\n",
       "      <td>1.047579</td>\n",
       "    </tr>\n",
       "    <tr>\n",
       "      <th>D</th>\n",
       "      <td>-0.312652</td>\n",
       "      <td>-2.021255</td>\n",
       "      <td>0.553439</td>\n",
       "      <td>1.045938</td>\n",
       "    </tr>\n",
       "    <tr>\n",
       "      <th>E</th>\n",
       "      <td>-0.720589</td>\n",
       "      <td>-0.334077</td>\n",
       "      <td>1.318152</td>\n",
       "      <td>0.863717</td>\n",
       "    </tr>\n",
       "    <tr>\n",
       "      <th>F</th>\n",
       "      <td>0.887163</td>\n",
       "      <td>0.002118</td>\n",
       "      <td>-0.469305</td>\n",
       "      <td>-0.122092</td>\n",
       "    </tr>\n",
       "    <tr>\n",
       "      <th>G</th>\n",
       "      <td>0.859588</td>\n",
       "      <td>0.405453</td>\n",
       "      <td>0.675554</td>\n",
       "      <td>0.124713</td>\n",
       "    </tr>\n",
       "    <tr>\n",
       "      <th>H</th>\n",
       "      <td>-0.636524</td>\n",
       "      <td>0.289092</td>\n",
       "      <td>-1.817027</td>\n",
       "      <td>-0.322795</td>\n",
       "    </tr>\n",
       "    <tr>\n",
       "      <th>I</th>\n",
       "      <td>0.015696</td>\n",
       "      <td>1.321158</td>\n",
       "      <td>-0.183109</td>\n",
       "      <td>0.841675</td>\n",
       "    </tr>\n",
       "    <tr>\n",
       "      <th>J</th>\n",
       "      <td>-2.242685</td>\n",
       "      <td>-1.546906</td>\n",
       "      <td>1.058969</td>\n",
       "      <td>2.390961</td>\n",
       "    </tr>\n",
       "  </tbody>\n",
       "</table>\n",
       "</div>"
      ],
      "text/plain": [
       "          1         2         3         4\n",
       "A  0.471435  1.150036 -0.202646 -0.397840\n",
       "B -1.190976  0.991946 -0.655969  0.337438\n",
       "C  1.432707  0.953324  0.193421  1.047579\n",
       "D -0.312652 -2.021255  0.553439  1.045938\n",
       "E -0.720589 -0.334077  1.318152  0.863717\n",
       "F  0.887163  0.002118 -0.469305 -0.122092\n",
       "G  0.859588  0.405453  0.675554  0.124713\n",
       "H -0.636524  0.289092 -1.817027 -0.322795\n",
       "I  0.015696  1.321158 -0.183109  0.841675\n",
       "J -2.242685 -1.546906  1.058969  2.390961"
      ]
     },
     "execution_count": 13,
     "metadata": {},
     "output_type": "execute_result"
    }
   ],
   "source": [
    "# pandas Dataframe Transpose\n",
    "# Transposing is inversing the dataframe\n",
    "df_transpose = df.T\n",
    "df_transpose\n"
   ]
  },
  {
   "cell_type": "code",
   "execution_count": 14,
   "id": "a85a7bd3-6267-4788-92c5-acf7a86762d0",
   "metadata": {},
   "outputs": [],
   "source": [
    "RowSum = df_transpose.sum(axis=1)\n",
    "df_transpose[\"RowSum\"] = RowSum"
   ]
  },
  {
   "cell_type": "code",
   "execution_count": 28,
   "id": "ce8dc037-e721-4d84-b95c-58e1e841e35f",
   "metadata": {},
   "outputs": [],
   "source": [
    "# renaming the column names of the datafram\n",
    "df_transpose.rename(columns = {1:\"kisumu\",2:\"Nakuru\",3:\"Embu\",4:\"Nanyuki\"}, inplace = True)"
   ]
  },
  {
   "cell_type": "code",
   "execution_count": null,
   "id": "669f5297-a314-4d5b-be3c-6448b71ae744",
   "metadata": {},
   "outputs": [],
   "source": []
  },
  {
   "cell_type": "code",
   "execution_count": 15,
   "id": "6c9c8c48-120a-4886-b37b-1a2e839a79b7",
   "metadata": {},
   "outputs": [],
   "source": [
    "column_1 = df_transpose[1]"
   ]
  },
  {
   "cell_type": "code",
   "execution_count": 16,
   "id": "ed9897c0-5145-466c-a44a-6e66adb0e317",
   "metadata": {},
   "outputs": [],
   "source": [
    "# rowsum\n",
    "\n",
    "\n",
    "\n",
    "# column sum"
   ]
  },
  {
   "cell_type": "code",
   "execution_count": 17,
   "id": "a18b9f8b-2f92-493a-864b-4188f688aea6",
   "metadata": {},
   "outputs": [],
   "source": [
    "# slice of column 1\n",
    "column_1 = df_transpose[1]"
   ]
  },
  {
   "cell_type": "markdown",
   "id": "943a566a-d222-4f2e-8a47-98b082794a8d",
   "metadata": {},
   "source": [
    "# PANDAS PLOTTING"
   ]
  },
  {
   "cell_type": "code",
   "execution_count": 18,
   "id": "736241d3-78b0-4591-8689-0f3aeb71d05b",
   "metadata": {},
   "outputs": [
    {
     "data": {
      "text/plain": [
       "<Axes: >"
      ]
     },
     "execution_count": 18,
     "metadata": {},
     "output_type": "execute_result"
    },
    {
     "data": {
      "image/png": "[encoded data removed]",
      "text/plain": [
       "<Figure size 640x480 with 1 Axes>"
      ]
     },
     "metadata": {},
     "output_type": "display_data"
    }
   ],
   "source": [
    "# bar plot \n",
    "# bar plot of all the columns \n",
    "df_transpose.plot(kind = \"barh\")\n",
    "\n",
    "\n",
    "# scatter plot\n",
    "\n",
    "\n",
    "# histogram\n",
    "\n",
    "\n",
    "\n",
    "#piechart\n",
    "\n",
    "\n"
   ]
  },
  {
   "cell_type": "code",
   "execution_count": 20,
   "id": "9efe81b3-2d35-4269-b275-1a5ff0c8c7e7",
   "metadata": {},
   "outputs": [
    {
     "data": {
      "text/plain": [
       "<Axes: >"
      ]
     },
     "execution_count": 20,
     "metadata": {},
     "output_type": "execute_result"
    },
    {
     "data": {
      "image/png": "[encoded data removed]",
      "text/plain": [
       "<Figure size 640x480 with 1 Axes>"
      ]
     },
     "metadata": {},
     "output_type": "display_data"
    }
   ],
   "source": [
    "# Bar plot of just one column \n",
    "# slice of column 1\n",
    "# vertical bar graph. You use bar\n",
    "column_1 = df_transpose[1]\n",
    "column_1.plot(kind = \"bar\")"
   ]
  },
  {
   "cell_type": "code",
   "execution_count": 21,
   "id": "9b8c51af-5d7b-41dc-b4df-09da8776e41b",
   "metadata": {},
   "outputs": [
    {
     "data": {
      "text/plain": [
       "<Axes: >"
      ]
     },
     "execution_count": 21,
     "metadata": {},
     "output_type": "execute_result"
    },
    {
     "data": {
      "image/png": "[encoded data removed]",
      "text/plain": [
       "<Figure size 640x480 with 1 Axes>"
      ]
     },
     "metadata": {},
     "output_type": "display_data"
    }
   ],
   "source": [
    "# Bar plot of just one column \n",
    "# slice of column 1\n",
    "# horizontal bar graph. You use barh\n",
    "column_1 = df_transpose[1]\n",
    "column_1.plot(kind = \"barh\")"
   ]
  },
  {
   "cell_type": "code",
   "execution_count": 39,
   "id": "8db00cee-5c31-4c5a-b3f0-714c99417c1f",
   "metadata": {},
   "outputs": [
    {
     "data": {
      "text/plain": [
       "<Axes: xlabel='kisumu', ylabel='Nakuru'>"
      ]
     },
     "execution_count": 39,
     "metadata": {},
     "output_type": "execute_result"
    },
    {
     "data": {
      "image/png": "[encoded data removed]",
      "text/plain": [
       "<Figure size 640x480 with 1 Axes>"
      ]
     },
     "metadata": {},
     "output_type": "display_data"
    }
   ],
   "source": [
    "#scatter plot of just one column\n",
    "column_2 = df_transpose[[\"kisumu\",\"Nakuru\"]]\n",
    "column_2 \n",
    "column_2.plot(kind = \"scatter\", x = \"kisumu\", y = \"Nakuru\")"
   ]
  },
  {
   "cell_type": "code",
   "execution_count": 35,
   "id": "948c1dea-4989-4039-808d-956d5e27d4c7",
   "metadata": {},
   "outputs": [
    {
     "data": {
      "text/html": [
       "<div>\n",
       "<style scoped>\n",
       "    .dataframe tbody tr th:only-of-type {\n",
       "        vertical-align: middle;\n",
       "    }\n",
       "\n",
       "    .dataframe tbody tr th {\n",
       "        vertical-align: top;\n",
       "    }\n",
       "\n",
       "    .dataframe thead th {\n",
       "        text-align: right;\n",
       "    }\n",
       "</style>\n",
       "<table border=\"1\" class=\"dataframe\">\n",
       "  <thead>\n",
       "    <tr style=\"text-align: right;\">\n",
       "      <th></th>\n",
       "      <th>kisumu</th>\n",
       "      <th>Nakuru</th>\n",
       "      <th>Embu</th>\n",
       "      <th>Nanyuki</th>\n",
       "      <th>RowSum</th>\n",
       "    </tr>\n",
       "  </thead>\n",
       "  <tbody>\n",
       "    <tr>\n",
       "      <th>A</th>\n",
       "      <td>0.471435</td>\n",
       "      <td>1.150036</td>\n",
       "      <td>-0.202646</td>\n",
       "      <td>-0.397840</td>\n",
       "      <td>1.020984</td>\n",
       "    </tr>\n",
       "    <tr>\n",
       "      <th>B</th>\n",
       "      <td>-1.190976</td>\n",
       "      <td>0.991946</td>\n",
       "      <td>-0.655969</td>\n",
       "      <td>0.337438</td>\n",
       "      <td>-0.517561</td>\n",
       "    </tr>\n",
       "    <tr>\n",
       "      <th>C</th>\n",
       "      <td>1.432707</td>\n",
       "      <td>0.953324</td>\n",
       "      <td>0.193421</td>\n",
       "      <td>1.047579</td>\n",
       "      <td>3.627031</td>\n",
       "    </tr>\n",
       "    <tr>\n",
       "      <th>D</th>\n",
       "      <td>-0.312652</td>\n",
       "      <td>-2.021255</td>\n",
       "      <td>0.553439</td>\n",
       "      <td>1.045938</td>\n",
       "      <td>-0.734530</td>\n",
       "    </tr>\n",
       "    <tr>\n",
       "      <th>E</th>\n",
       "      <td>-0.720589</td>\n",
       "      <td>-0.334077</td>\n",
       "      <td>1.318152</td>\n",
       "      <td>0.863717</td>\n",
       "      <td>1.127203</td>\n",
       "    </tr>\n",
       "    <tr>\n",
       "      <th>F</th>\n",
       "      <td>0.887163</td>\n",
       "      <td>0.002118</td>\n",
       "      <td>-0.469305</td>\n",
       "      <td>-0.122092</td>\n",
       "      <td>0.297884</td>\n",
       "    </tr>\n",
       "    <tr>\n",
       "      <th>G</th>\n",
       "      <td>0.859588</td>\n",
       "      <td>0.405453</td>\n",
       "      <td>0.675554</td>\n",
       "      <td>0.124713</td>\n",
       "      <td>2.065309</td>\n",
       "    </tr>\n",
       "    <tr>\n",
       "      <th>H</th>\n",
       "      <td>-0.636524</td>\n",
       "      <td>0.289092</td>\n",
       "      <td>-1.817027</td>\n",
       "      <td>-0.322795</td>\n",
       "      <td>-2.487254</td>\n",
       "    </tr>\n",
       "    <tr>\n",
       "      <th>I</th>\n",
       "      <td>0.015696</td>\n",
       "      <td>1.321158</td>\n",
       "      <td>-0.183109</td>\n",
       "      <td>0.841675</td>\n",
       "      <td>1.995421</td>\n",
       "    </tr>\n",
       "    <tr>\n",
       "      <th>J</th>\n",
       "      <td>-2.242685</td>\n",
       "      <td>-1.546906</td>\n",
       "      <td>1.058969</td>\n",
       "      <td>2.390961</td>\n",
       "      <td>-0.339661</td>\n",
       "    </tr>\n",
       "  </tbody>\n",
       "</table>\n",
       "</div>"
      ],
      "text/plain": [
       "     kisumu    Nakuru      Embu   Nanyuki    RowSum\n",
       "A  0.471435  1.150036 -0.202646 -0.397840  1.020984\n",
       "B -1.190976  0.991946 -0.655969  0.337438 -0.517561\n",
       "C  1.432707  0.953324  0.193421  1.047579  3.627031\n",
       "D -0.312652 -2.021255  0.553439  1.045938 -0.734530\n",
       "E -0.720589 -0.334077  1.318152  0.863717  1.127203\n",
       "F  0.887163  0.002118 -0.469305 -0.122092  0.297884\n",
       "G  0.859588  0.405453  0.675554  0.124713  2.065309\n",
       "H -0.636524  0.289092 -1.817027 -0.322795 -2.487254\n",
       "I  0.015696  1.321158 -0.183109  0.841675  1.995421\n",
       "J -2.242685 -1.546906  1.058969  2.390961 -0.339661"
      ]
     },
     "execution_count": 35,
     "metadata": {},
     "output_type": "execute_result"
    }
   ],
   "source": [
    "df_transpose"
   ]
  },
  {
   "cell_type": "code",
   "execution_count": null,
   "id": "563754bd-422d-411f-9425-b02a6a12cbc0",
   "metadata": {},
   "outputs": [],
   "source": []
  },
  {
   "cell_type": "code",
   "execution_count": null,
   "id": "427fa877-886d-424b-8448-dd9fd94e7e45",
   "metadata": {},
   "outputs": [],
   "source": []
  },
  {
   "cell_type": "code",
   "execution_count": null,
   "id": "be26f4ef-119e-4111-9513-dae695173e1c",
   "metadata": {},
   "outputs": [],
   "source": []
  },
  {
   "cell_type": "code",
   "execution_count": null,
   "id": "ea823d21-3ecb-4a47-83b9-df17f1b4fc5c",
   "metadata": {},
   "outputs": [],
   "source": []
  },
  {
   "cell_type": "code",
   "execution_count": null,
   "id": "9e7a60da-7caf-4e44-98e0-69ec736a0f08",
   "metadata": {},
   "outputs": [],
   "source": []
  },
  {
   "cell_type": "code",
   "execution_count": null,
   "id": "61d77a43-5e69-494f-9465-b273c9d62ced",
   "metadata": {},
   "outputs": [],
   "source": []
  },
  {
   "cell_type": "code",
   "execution_count": null,
   "id": "58166dbe-387d-4082-958f-2ad763b44158",
   "metadata": {},
   "outputs": [],
   "source": []
  },
  {
   "cell_type": "code",
   "execution_count": null,
   "id": "eacb39a2-10fb-4980-94c1-d268ebf32839",
   "metadata": {},
   "outputs": [],
   "source": []
  },
  {
   "cell_type": "code",
   "execution_count": null,
   "id": "97dbc24b-4741-44e9-9924-6cf62091d328",
   "metadata": {},
   "outputs": [],
   "source": []
  },
  {
   "cell_type": "code",
   "execution_count": null,
   "id": "2b3a7a74-3902-4cd5-88d8-7d0dfd282c20",
   "metadata": {},
   "outputs": [],
   "source": []
  },
  {
   "cell_type": "code",
   "execution_count": null,
   "id": "4ca672aa-8f2c-4502-8c62-f6952aa8fef8",
   "metadata": {},
   "outputs": [],
   "source": []
  }
 ],
 "metadata": {
  "kernelspec": {
   "display_name": "Python 3 (ipykernel)",
   "language": "python",
   "name": "python3"
  },
  "language_info": {
   "codemirror_mode": {
    "name": "ipython",
    "version": 3
   },
   "file_extension": ".py",
   "mimetype": "text/x-python",
   "name": "python",
   "nbconvert_exporter": "python",
   "pygments_lexer": "ipython3",
   "version": "3.11.7"
  }
 },
 "nbformat": 4,
 "nbformat_minor": 5
}
