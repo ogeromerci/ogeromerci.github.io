{
 "cells": [
  {
   "cell_type": "markdown",
   "id": "17022faf-2128-4c44-9920-85061a8ed2f5",
   "metadata": {},
   "source": [
    "## AIR QUALITY ANALYSIS"
   ]
  },
  {
   "cell_type": "raw",
   "id": "b7f252c8-3a96-411d-9594-6ee206bd6a50",
   "metadata": {},
   "source": [
    "The following independent variable will be a focus of the analysis: AQI\n",
    "\n",
    "\n",
    "The objective will be to see how the independent variables relate to the following dependent variable: GDP\n",
    "\n",
    "\n",
    "The main question of the is that how the changes in the air quality a"
   ]
  },
  {
   "cell_type": "markdown",
   "id": "61c5e0b9-482b-48d0-b16b-49f99b494a23",
   "metadata": {},
   "source": [
    "# OBTAIN"
   ]
  },
  {
   "cell_type": "code",
   "execution_count": 1,
   "id": "01924a12-54cf-4578-b091-ece28853313f",
   "metadata": {},
   "outputs": [
    {
     "data": {
      "text/plain": [
       "'\\nHere \\n1. We get the datasets\\n2. Establish the datasources. .\\nData source :https://www.kaggle.com/datasets/azminetoushikwasi/aqi-air-quality-index-scheduled-daily-update?resource=download\\n'"
      ]
     },
     "execution_count": 1,
     "metadata": {},
     "output_type": "execute_result"
    }
   ],
   "source": [
    "'''\n",
    "Here \n",
    "1. We get the datasets\n",
    "2. Establish the datasources. .\n",
    "Data source :https://www.kaggle.com/datasets/azminetoushikwasi/aqi-air-quality-index-scheduled-daily-update?resource=download\n",
    "'''"
   ]
  },
  {
   "cell_type": "code",
   "execution_count": 2,
   "id": "5d60a645-6ba6-478d-90d7-5b7f72dd8986",
   "metadata": {},
   "outputs": [],
   "source": [
    "# import the required libraries\n",
    "# have the libraries on their own cell\n",
    "import pandas as pd\n",
    "import numpy as np\n",
    "import matplotlib.pyplot as plt\n",
    "import seaborn as sns\n",
    "from datetime import datetime, date"
   ]
  },
  {
   "cell_type": "code",
   "execution_count": 3,
   "id": "f35c628e-b011-4bed-a802-4f5eb570089a",
   "metadata": {},
   "outputs": [],
   "source": [
    "#Documents/UADSL/PYTHON/DATA/data_date.csv"
   ]
  },
  {
   "cell_type": "code",
   "execution_count": 4,
   "id": "d1ce448d-df6a-4e7d-b4c9-ea91dc2bd502",
   "metadata": {},
   "outputs": [
    {
     "data": {
      "text/html": [
       "<div>\n",
       "<style scoped>\n",
       "    .dataframe tbody tr th:only-of-type {\n",
       "        vertical-align: middle;\n",
       "    }\n",
       "\n",
       "    .dataframe tbody tr th {\n",
       "        vertical-align: top;\n",
       "    }\n",
       "\n",
       "    .dataframe thead th {\n",
       "        text-align: right;\n",
       "    }\n",
       "</style>\n",
       "<table border=\"1\" class=\"dataframe\">\n",
       "  <thead>\n",
       "    <tr style=\"text-align: right;\">\n",
       "      <th></th>\n",
       "      <th>Date</th>\n",
       "      <th>Country</th>\n",
       "      <th>Status</th>\n",
       "      <th>AQI Value</th>\n",
       "    </tr>\n",
       "  </thead>\n",
       "  <tbody>\n",
       "    <tr>\n",
       "      <th>0</th>\n",
       "      <td>2022-07-21</td>\n",
       "      <td>Albania</td>\n",
       "      <td>Good</td>\n",
       "      <td>14</td>\n",
       "    </tr>\n",
       "    <tr>\n",
       "      <th>1</th>\n",
       "      <td>2022-07-21</td>\n",
       "      <td>Algeria</td>\n",
       "      <td>Moderate</td>\n",
       "      <td>65</td>\n",
       "    </tr>\n",
       "    <tr>\n",
       "      <th>2</th>\n",
       "      <td>2022-07-21</td>\n",
       "      <td>Andorra</td>\n",
       "      <td>Moderate</td>\n",
       "      <td>55</td>\n",
       "    </tr>\n",
       "    <tr>\n",
       "      <th>3</th>\n",
       "      <td>2022-07-21</td>\n",
       "      <td>Angola</td>\n",
       "      <td>Unhealthy for Sensitive Groups</td>\n",
       "      <td>113</td>\n",
       "    </tr>\n",
       "    <tr>\n",
       "      <th>4</th>\n",
       "      <td>2022-07-21</td>\n",
       "      <td>Argentina</td>\n",
       "      <td>Moderate</td>\n",
       "      <td>63</td>\n",
       "    </tr>\n",
       "  </tbody>\n",
       "</table>\n",
       "</div>"
      ],
      "text/plain": [
       "         Date    Country                          Status  AQI Value\n",
       "0  2022-07-21    Albania                            Good         14\n",
       "1  2022-07-21    Algeria                        Moderate         65\n",
       "2  2022-07-21    Andorra                        Moderate         55\n",
       "3  2022-07-21     Angola  Unhealthy for Sensitive Groups        113\n",
       "4  2022-07-21  Argentina                        Moderate         63"
      ]
     },
     "execution_count": 4,
     "metadata": {},
     "output_type": "execute_result"
    }
   ],
   "source": [
    "\n",
    "# read the dataset\n",
    "#data_source = \".\\data\"\n",
    "air_quality = pd.read_csv(\"C:\\\\Users\\\\Lenovo\\\\OneDrive\\\\Documents\\\\UADSL\\\\PYTHON\\\\DATA\\\\data_date.csv\")\n",
    "air_quality.head()"
   ]
  },
  {
   "cell_type": "code",
   "execution_count": 5,
   "id": "93dbfed3-56b9-48f7-8235-f7e29c4b172a",
   "metadata": {},
   "outputs": [
    {
     "ename": "SyntaxError",
     "evalue": "invalid syntax (737119005.py, line 1)",
     "output_type": "error",
     "traceback": [
      "\u001b[1;36m  Cell \u001b[1;32mIn[5], line 1\u001b[1;36m\u001b[0m\n\u001b[1;33m    air_quality.tail()1\u001b[0m\n\u001b[1;37m                      ^\u001b[0m\n\u001b[1;31mSyntaxError\u001b[0m\u001b[1;31m:\u001b[0m invalid syntax\n"
     ]
    }
   ],
   "source": [
    "air_quality.tail()1"
   ]
  },
  {
   "cell_type": "markdown",
   "id": "641ce0a7-a9d6-4272-af61-715bd1ba1a5c",
   "metadata": {},
   "source": [
    "# SCRUB"
   ]
  },
  {
   "cell_type": "code",
   "execution_count": 6,
   "id": "22b4f4d7-e4de-44bb-b8f9-2039c9c1ca29",
   "metadata": {},
   "outputs": [
    {
     "data": {
      "text/plain": [
       "'\\nIs the data:1 1\\n        Complete/assess gaps in the data 1\\n        Has missing values\\n        Consistency\\n        Data Integrity/Uniformity\\n        Repeating Values\\n'"
      ]
     },
     "execution_count": 6,
     "metadata": {},
     "output_type": "execute_result"
    }
   ],
   "source": [
    "'''\n",
    "Is the data:1 1\n",
    "        Complete/assess gaps in the data 1\n",
    "        Has missing values\n",
    "        Consistency\n",
    "        Data Integrity/Uniformity\n",
    "        Repeating Values\n",
    "'''"
   ]
  },
  {
   "cell_type": "code",
   "execution_count": 7,
   "id": "df470910-6431-4969-bf05-48161f9d9433",
   "metadata": {},
   "outputs": [
    {
     "name": "stdout",
     "output_type": "stream",
     "text": [
      "<class 'pandas.core.frame.DataFrame'>\n",
      "RangeIndex: 15690 entries, 0 to 15689\n",
      "Data columns (total 4 columns):\n",
      " #   Column     Non-Null Count  Dtype \n",
      "---  ------     --------------  ----- \n",
      " 0   Date       15690 non-null  object\n",
      " 1   Country    15690 non-null  object\n",
      " 2   Status     15690 non-null  object\n",
      " 3   AQI Value  15690 non-null  int64 \n",
      "dtypes: int64(1), object(3)\n",
      "memory usage: 490.4+ KB\n"
     ]
    }
   ],
   "source": [
    "air_quality.info() "
   ]
  },
  {
   "cell_type": "code",
   "execution_count": 8,
   "id": "9c8bcc47-272a-4671-a06f-302303bd410b",
   "metadata": {},
   "outputs": [
    {
     "data": {
      "text/html": [
       "<div>\n",
       "<style scoped>\n",
       "    .dataframe tbody tr th:only-of-type {\n",
       "        vertical-align: middle;\n",
       "    }\n",
       "\n",
       "    .dataframe tbody tr th {\n",
       "        vertical-align: top;\n",
       "    }\n",
       "\n",
       "    .dataframe thead th {\n",
       "        text-align: right;\n",
       "    }\n",
       "</style>\n",
       "<table border=\"1\" class=\"dataframe\">\n",
       "  <thead>\n",
       "    <tr style=\"text-align: right;\">\n",
       "      <th></th>\n",
       "      <th>AQI Value</th>\n",
       "    </tr>\n",
       "  </thead>\n",
       "  <tbody>\n",
       "    <tr>\n",
       "      <th>count</th>\n",
       "      <td>15690.000000</td>\n",
       "    </tr>\n",
       "    <tr>\n",
       "      <th>mean</th>\n",
       "      <td>61.640599</td>\n",
       "    </tr>\n",
       "    <tr>\n",
       "      <th>std</th>\n",
       "      <td>48.448891</td>\n",
       "    </tr>\n",
       "    <tr>\n",
       "      <th>min</th>\n",
       "      <td>1.000000</td>\n",
       "    </tr>\n",
       "    <tr>\n",
       "      <th>25%</th>\n",
       "      <td>29.000000</td>\n",
       "    </tr>\n",
       "    <tr>\n",
       "      <th>50%</th>\n",
       "      <td>52.000000</td>\n",
       "    </tr>\n",
       "    <tr>\n",
       "      <th>75%</th>\n",
       "      <td>81.000000</td>\n",
       "    </tr>\n",
       "    <tr>\n",
       "      <th>max</th>\n",
       "      <td>963.000000</td>\n",
       "    </tr>\n",
       "  </tbody>\n",
       "</table>\n",
       "</div>"
      ],
      "text/plain": [
       "          AQI Value\n",
       "count  15690.000000\n",
       "mean      61.640599\n",
       "std       48.448891\n",
       "min        1.000000\n",
       "25%       29.000000\n",
       "50%       52.000000\n",
       "75%       81.000000\n",
       "max      963.000000"
      ]
     },
     "execution_count": 8,
     "metadata": {},
     "output_type": "execute_result"
    }
   ],
   "source": [
    "air_quality.describe()"
   ]
  },
  {
   "cell_type": "code",
   "execution_count": 9,
   "id": "18455b5c-0118-4c01-ad34-fa136910c0a0",
   "metadata": {},
   "outputs": [
    {
     "data": {
      "text/plain": [
       "'\\n- There are no missing values\\n- The column data types are good but:\\n    The date column should be transformed to date-type object\\n    '"
      ]
     },
     "execution_count": 9,
     "metadata": {},
     "output_type": "execute_result"
    }
   ],
   "source": [
    "'''\n",
    "- There are no missing values\n",
    "- The column data types are good but:\n",
    "    The date column should be transformed to date-type object\n",
    "    '''"
   ]
  },
  {
   "cell_type": "code",
   "execution_count": 31,
   "id": "f404cf22-0faf-4d8f-9262-8aefeeed801d",
   "metadata": {},
   "outputs": [],
   "source": [
    "# transform the date column from a string to an date\n",
    "air_quality[\"Date\"] = pd.to_datetime(air_quality[\"Date\"])"
   ]
  },
  {
   "cell_type": "code",
   "execution_count": 32,
   "id": "df114e45-aad3-498b-9145-fd549d544647",
   "metadata": {},
   "outputs": [
    {
     "name": "stdout",
     "output_type": "stream",
     "text": [
      "<class 'pandas.core.frame.DataFrame'>\n",
      "RangeIndex: 15690 entries, 0 to 15689\n",
      "Data columns (total 4 columns):\n",
      " #   Column     Non-Null Count  Dtype         \n",
      "---  ------     --------------  -----         \n",
      " 0   Date       15690 non-null  datetime64[ns]\n",
      " 1   Country    15690 non-null  object        \n",
      " 2   Status     15690 non-null  object        \n",
      " 3   AQI Value  15690 non-null  int64         \n",
      "dtypes: datetime64[ns](1), int64(1), object(2)\n",
      "memory usage: 490.4+ KB\n"
     ]
    }
   ],
   "source": [
    "air_quality.info()"
   ]
  },
  {
   "cell_type": "code",
   "execution_count": 33,
   "id": "ca805b3b-f818-4e4e-8caa-ffd1471f1d41",
   "metadata": {},
   "outputs": [
    {
     "data": {
      "text/plain": [
       "(15690, 4)"
      ]
     },
     "execution_count": 33,
     "metadata": {},
     "output_type": "execute_result"
    }
   ],
   "source": [
    "# The original dataset\n",
    "air_quality.shape"
   ]
  },
  {
   "cell_type": "code",
   "execution_count": 34,
   "id": "ab2fe029-ccc9-46b7-8d0c-1590fb04d754",
   "metadata": {},
   "outputs": [
    {
     "data": {
      "text/plain": [
       "588"
      ]
     },
     "execution_count": 34,
     "metadata": {},
     "output_type": "execute_result"
    }
   ],
   "source": [
    "# Checking the sum of the duplicates\n",
    "# The .duplicated() returns a boolean series object indicating whether each row is a duplicate\n",
    "# All duplicate rows will be set to true / 1. \n",
    "air_quality_duplicates = air_quality.duplicated(keep=False)\n",
    "air_quality_duplicates.sum()"
   ]
  },
  {
   "cell_type": "code",
   "execution_count": 35,
   "id": "c5846737-8f76-4af0-b319-54cf326eff6b",
   "metadata": {},
   "outputs": [
    {
     "data": {
      "text/html": [
       "<div>\n",
       "<style scoped>\n",
       "    .dataframe tbody tr th:only-of-type {\n",
       "        vertical-align: middle;\n",
       "    }\n",
       "\n",
       "    .dataframe tbody tr th {\n",
       "        vertical-align: top;\n",
       "    }\n",
       "\n",
       "    .dataframe thead th {\n",
       "        text-align: right;\n",
       "    }\n",
       "</style>\n",
       "<table border=\"1\" class=\"dataframe\">\n",
       "  <thead>\n",
       "    <tr style=\"text-align: right;\">\n",
       "      <th></th>\n",
       "      <th>Date</th>\n",
       "      <th>Country</th>\n",
       "      <th>Status</th>\n",
       "      <th>AQI Value</th>\n",
       "    </tr>\n",
       "  </thead>\n",
       "  <tbody>\n",
       "    <tr>\n",
       "      <th>1</th>\n",
       "      <td>2022-07-21</td>\n",
       "      <td>Algeria</td>\n",
       "      <td>Moderate</td>\n",
       "      <td>65</td>\n",
       "    </tr>\n",
       "    <tr>\n",
       "      <th>10</th>\n",
       "      <td>2022-07-21</td>\n",
       "      <td>Bangladesh</td>\n",
       "      <td>Unhealthy for Sensitive Groups</td>\n",
       "      <td>141</td>\n",
       "    </tr>\n",
       "    <tr>\n",
       "      <th>18</th>\n",
       "      <td>2022-07-21</td>\n",
       "      <td>Brunei</td>\n",
       "      <td>Good</td>\n",
       "      <td>15</td>\n",
       "    </tr>\n",
       "    <tr>\n",
       "      <th>21</th>\n",
       "      <td>2022-07-21</td>\n",
       "      <td>Cambodia</td>\n",
       "      <td>Good</td>\n",
       "      <td>15</td>\n",
       "    </tr>\n",
       "    <tr>\n",
       "      <th>34</th>\n",
       "      <td>2022-07-21</td>\n",
       "      <td>Denmark</td>\n",
       "      <td>Good</td>\n",
       "      <td>36</td>\n",
       "    </tr>\n",
       "    <tr>\n",
       "      <th>...</th>\n",
       "      <td>...</td>\n",
       "      <td>...</td>\n",
       "      <td>...</td>\n",
       "      <td>...</td>\n",
       "    </tr>\n",
       "    <tr>\n",
       "      <th>13247</th>\n",
       "      <td>2024-06-06</td>\n",
       "      <td>Uzbekistan</td>\n",
       "      <td>Good</td>\n",
       "      <td>21</td>\n",
       "    </tr>\n",
       "    <tr>\n",
       "      <th>13248</th>\n",
       "      <td>2024-06-06</td>\n",
       "      <td>Vatican</td>\n",
       "      <td>Good</td>\n",
       "      <td>25</td>\n",
       "    </tr>\n",
       "    <tr>\n",
       "      <th>13249</th>\n",
       "      <td>2024-06-06</td>\n",
       "      <td>Venezuela</td>\n",
       "      <td>Good</td>\n",
       "      <td>10</td>\n",
       "    </tr>\n",
       "    <tr>\n",
       "      <th>13250</th>\n",
       "      <td>2024-06-06</td>\n",
       "      <td>Vietnam</td>\n",
       "      <td>Moderate</td>\n",
       "      <td>63</td>\n",
       "    </tr>\n",
       "    <tr>\n",
       "      <th>13251</th>\n",
       "      <td>2024-06-06</td>\n",
       "      <td>Zambia</td>\n",
       "      <td>Unhealthy for Sensitive Groups</td>\n",
       "      <td>140</td>\n",
       "    </tr>\n",
       "  </tbody>\n",
       "</table>\n",
       "<p>588 rows × 4 columns</p>\n",
       "</div>"
      ],
      "text/plain": [
       "            Date     Country                          Status  AQI Value\n",
       "1     2022-07-21     Algeria                        Moderate         65\n",
       "10    2022-07-21  Bangladesh  Unhealthy for Sensitive Groups        141\n",
       "18    2022-07-21      Brunei                            Good         15\n",
       "21    2022-07-21    Cambodia                            Good         15\n",
       "34    2022-07-21     Denmark                            Good         36\n",
       "...          ...         ...                             ...        ...\n",
       "13247 2024-06-06  Uzbekistan                            Good         21\n",
       "13248 2024-06-06     Vatican                            Good         25\n",
       "13249 2024-06-06   Venezuela                            Good         10\n",
       "13250 2024-06-06     Vietnam                        Moderate         63\n",
       "13251 2024-06-06      Zambia  Unhealthy for Sensitive Groups        140\n",
       "\n",
       "[588 rows x 4 columns]"
      ]
     },
     "execution_count": 35,
     "metadata": {},
     "output_type": "execute_result"
    }
   ],
   "source": [
    "# Extract the duplicated values from the main data frame\n",
    "air_quality_duplicated_values = air_quality[air_quality_duplicates]\n",
    "air_quality_duplicated_values "
   ]
  },
  {
   "cell_type": "code",
   "execution_count": 36,
   "id": "e4b267a8-3c69-4509-b848-4cde9cefb3d1",
   "metadata": {},
   "outputs": [
    {
     "data": {
      "text/plain": [
       "(15390, 4)"
      ]
     },
     "execution_count": 36,
     "metadata": {},
     "output_type": "execute_result"
    }
   ],
   "source": [
    "# The dataset that has the duplicates been removed\n",
    "air_quality_no_duplicates = air_quality.drop_duplicates()\n",
    "air_quality_no_duplicates.shape"
   ]
  },
  {
   "cell_type": "code",
   "execution_count": 37,
   "id": "b1bea5e7-3562-46dd-931e-ec84906c487e",
   "metadata": {},
   "outputs": [],
   "source": [
    "# Generate a clean csv of the dataframe\n",
    "air_quality_no_duplicates.to_csv(\"data\\\\good_air_quality.csv\", index = False, header = True)"
   ]
  },
  {
   "cell_type": "code",
   "execution_count": 38,
   "id": "0af11488-cf57-477a-b020-3b74aa1ec16b",
   "metadata": {
    "scrolled": true
   },
   "outputs": [],
   "source": [
    "# Generate a duplicated csv\n",
    "air_quality_duplicated_values.to_csv(\"data\\\\bad_air_quality_csv\", index = False, header = True)"
   ]
  },
  {
   "cell_type": "code",
   "execution_count": 54,
   "id": "b93e26d9-dc26-4381-9fee-4e228b1e683d",
   "metadata": {},
   "outputs": [],
   "source": [
    "# transform the date column from a string to an date\n",
    "good_air_quality[\"Date\"] = pd.to_datetime(good_air_quality[\"Date\"])"
   ]
  },
  {
   "cell_type": "code",
   "execution_count": 39,
   "id": "fc4e9024-eeb7-4fd8-8830-5a776e12076c",
   "metadata": {},
   "outputs": [
    {
     "data": {
      "text/html": [
       "<div>\n",
       "<style scoped>\n",
       "    .dataframe tbody tr th:only-of-type {\n",
       "        vertical-align: middle;\n",
       "    }\n",
       "\n",
       "    .dataframe tbody tr th {\n",
       "        vertical-align: top;\n",
       "    }\n",
       "\n",
       "    .dataframe thead th {\n",
       "        text-align: right;\n",
       "    }\n",
       "</style>\n",
       "<table border=\"1\" class=\"dataframe\">\n",
       "  <thead>\n",
       "    <tr style=\"text-align: right;\">\n",
       "      <th></th>\n",
       "      <th>Date</th>\n",
       "      <th>Country</th>\n",
       "      <th>Status</th>\n",
       "      <th>AQI Value</th>\n",
       "    </tr>\n",
       "  </thead>\n",
       "  <tbody>\n",
       "    <tr>\n",
       "      <th>0</th>\n",
       "      <td>2022-07-21</td>\n",
       "      <td>Albania</td>\n",
       "      <td>Good</td>\n",
       "      <td>14</td>\n",
       "    </tr>\n",
       "    <tr>\n",
       "      <th>1</th>\n",
       "      <td>2022-07-21</td>\n",
       "      <td>Algeria</td>\n",
       "      <td>Moderate</td>\n",
       "      <td>65</td>\n",
       "    </tr>\n",
       "    <tr>\n",
       "      <th>2</th>\n",
       "      <td>2022-07-21</td>\n",
       "      <td>Andorra</td>\n",
       "      <td>Moderate</td>\n",
       "      <td>55</td>\n",
       "    </tr>\n",
       "    <tr>\n",
       "      <th>3</th>\n",
       "      <td>2022-07-21</td>\n",
       "      <td>Angola</td>\n",
       "      <td>Unhealthy for Sensitive Groups</td>\n",
       "      <td>113</td>\n",
       "    </tr>\n",
       "    <tr>\n",
       "      <th>4</th>\n",
       "      <td>2022-07-21</td>\n",
       "      <td>Argentina</td>\n",
       "      <td>Moderate</td>\n",
       "      <td>63</td>\n",
       "    </tr>\n",
       "    <tr>\n",
       "      <th>...</th>\n",
       "      <td>...</td>\n",
       "      <td>...</td>\n",
       "      <td>...</td>\n",
       "      <td>...</td>\n",
       "    </tr>\n",
       "    <tr>\n",
       "      <th>15385</th>\n",
       "      <td>2024-10-17</td>\n",
       "      <td>United States of America</td>\n",
       "      <td>Unhealthy for Sensitive Groups</td>\n",
       "      <td>106</td>\n",
       "    </tr>\n",
       "    <tr>\n",
       "      <th>15386</th>\n",
       "      <td>2024-10-17</td>\n",
       "      <td>Uzbekistan</td>\n",
       "      <td>Unhealthy</td>\n",
       "      <td>195</td>\n",
       "    </tr>\n",
       "    <tr>\n",
       "      <th>15387</th>\n",
       "      <td>2024-10-17</td>\n",
       "      <td>Vatican</td>\n",
       "      <td>Good</td>\n",
       "      <td>42</td>\n",
       "    </tr>\n",
       "    <tr>\n",
       "      <th>15388</th>\n",
       "      <td>2024-10-17</td>\n",
       "      <td>Venezuela</td>\n",
       "      <td>Moderate</td>\n",
       "      <td>51</td>\n",
       "    </tr>\n",
       "    <tr>\n",
       "      <th>15389</th>\n",
       "      <td>2024-10-17</td>\n",
       "      <td>Vietnam</td>\n",
       "      <td>Moderate</td>\n",
       "      <td>66</td>\n",
       "    </tr>\n",
       "  </tbody>\n",
       "</table>\n",
       "<p>15390 rows × 4 columns</p>\n",
       "</div>"
      ],
      "text/plain": [
       "             Date                   Country                          Status  \\\n",
       "0      2022-07-21                   Albania                            Good   \n",
       "1      2022-07-21                   Algeria                        Moderate   \n",
       "2      2022-07-21                   Andorra                        Moderate   \n",
       "3      2022-07-21                    Angola  Unhealthy for Sensitive Groups   \n",
       "4      2022-07-21                 Argentina                        Moderate   \n",
       "...           ...                       ...                             ...   \n",
       "15385  2024-10-17  United States of America  Unhealthy for Sensitive Groups   \n",
       "15386  2024-10-17                Uzbekistan                       Unhealthy   \n",
       "15387  2024-10-17                   Vatican                            Good   \n",
       "15388  2024-10-17                 Venezuela                        Moderate   \n",
       "15389  2024-10-17                   Vietnam                        Moderate   \n",
       "\n",
       "       AQI Value  \n",
       "0             14  \n",
       "1             65  \n",
       "2             55  \n",
       "3            113  \n",
       "4             63  \n",
       "...          ...  \n",
       "15385        106  \n",
       "15386        195  \n",
       "15387         42  \n",
       "15388         51  \n",
       "15389         66  \n",
       "\n",
       "[15390 rows x 4 columns]"
      ]
     },
     "execution_count": 39,
     "metadata": {},
     "output_type": "execute_result"
    }
   ],
   "source": [
    "good_air_quality = pd.read_csv(\"C:\\\\Users\\\\Lenovo\\\\OneDrive\\\\Documents\\\\UADSL\\\\PYTHON\\\\DATA\\\\good_air_quality.xls\")\n",
    "good_air_quality"
   ]
  },
  {
   "cell_type": "code",
   "execution_count": 42,
   "id": "202b3198-4814-4f7d-a7e3-3ac0ad29fa34",
   "metadata": {},
   "outputs": [
    {
     "name": "stdout",
     "output_type": "stream",
     "text": [
      "<class 'pandas.core.frame.DataFrame'>\n",
      "RangeIndex: 15390 entries, 0 to 15389\n",
      "Data columns (total 4 columns):\n",
      " #   Column     Non-Null Count  Dtype         \n",
      "---  ------     --------------  -----         \n",
      " 0   Date       15390 non-null  datetime64[ns]\n",
      " 1   Country    15390 non-null  object        \n",
      " 2   Status     15390 non-null  object        \n",
      " 3   AQI Value  15390 non-null  int64         \n",
      "dtypes: datetime64[ns](1), int64(1), object(2)\n",
      "memory usage: 481.1+ KB\n"
     ]
    }
   ],
   "source": [
    "good_air_quality.info()"
   ]
  },
  {
   "cell_type": "code",
   "execution_count": 52,
   "id": "9f34d26c-8ec8-4c2f-bdcc-508b4f3a0e82",
   "metadata": {},
   "outputs": [
    {
     "data": {
      "text/plain": [
       "<DatetimeArray>\n",
       "['2022-07-21 00:00:00', '2022-07-22 00:00:00', '2022-07-23 00:00:00',\n",
       " '2022-07-24 00:00:00', '2022-07-25 00:00:00', '2022-07-26 00:00:00',\n",
       " '2022-07-27 00:00:00', '2022-07-28 00:00:00', '2022-07-29 00:00:00',\n",
       " '2022-07-30 00:00:00',\n",
       " ...\n",
       " '2024-08-15 00:00:00', '2024-08-22 00:00:00', '2024-08-29 00:00:00',\n",
       " '2024-09-05 00:00:00', '2024-09-12 00:00:00', '2024-09-19 00:00:00',\n",
       " '2024-09-26 00:00:00', '2024-10-03 00:00:00', '2024-10-10 00:00:00',\n",
       " '2024-10-17 00:00:00']\n",
       "Length: 105, dtype: datetime64[ns]"
      ]
     },
     "execution_count": 52,
     "metadata": {},
     "output_type": "execute_result"
    }
   ],
   "source": [
    "good_air_quality[\"Date\"].unique()"
   ]
  },
  {
   "cell_type": "code",
   "execution_count": 55,
   "id": "0d042b8a-7de4-4c0c-9306-84342413e060",
   "metadata": {},
   "outputs": [
    {
     "data": {
      "text/html": [
       "<div>\n",
       "<style scoped>\n",
       "    .dataframe tbody tr th:only-of-type {\n",
       "        vertical-align: middle;\n",
       "    }\n",
       "\n",
       "    .dataframe tbody tr th {\n",
       "        vertical-align: top;\n",
       "    }\n",
       "\n",
       "    .dataframe thead th {\n",
       "        text-align: right;\n",
       "    }\n",
       "</style>\n",
       "<table border=\"1\" class=\"dataframe\">\n",
       "  <thead>\n",
       "    <tr style=\"text-align: right;\">\n",
       "      <th></th>\n",
       "      <th>Date</th>\n",
       "      <th>Country</th>\n",
       "      <th>Status</th>\n",
       "      <th>AQI Value</th>\n",
       "    </tr>\n",
       "  </thead>\n",
       "  <tbody>\n",
       "    <tr>\n",
       "      <th>0</th>\n",
       "      <td>2022-07-21</td>\n",
       "      <td>Albania</td>\n",
       "      <td>Good</td>\n",
       "      <td>14</td>\n",
       "    </tr>\n",
       "    <tr>\n",
       "      <th>1</th>\n",
       "      <td>2022-07-21</td>\n",
       "      <td>Algeria</td>\n",
       "      <td>Moderate</td>\n",
       "      <td>65</td>\n",
       "    </tr>\n",
       "    <tr>\n",
       "      <th>2</th>\n",
       "      <td>2022-07-21</td>\n",
       "      <td>Andorra</td>\n",
       "      <td>Moderate</td>\n",
       "      <td>55</td>\n",
       "    </tr>\n",
       "    <tr>\n",
       "      <th>3</th>\n",
       "      <td>2022-07-21</td>\n",
       "      <td>Angola</td>\n",
       "      <td>Unhealthy for Sensitive Groups</td>\n",
       "      <td>113</td>\n",
       "    </tr>\n",
       "    <tr>\n",
       "      <th>4</th>\n",
       "      <td>2022-07-21</td>\n",
       "      <td>Argentina</td>\n",
       "      <td>Moderate</td>\n",
       "      <td>63</td>\n",
       "    </tr>\n",
       "  </tbody>\n",
       "</table>\n",
       "</div>"
      ],
      "text/plain": [
       "        Date    Country                          Status  AQI Value\n",
       "0 2022-07-21    Albania                            Good         14\n",
       "1 2022-07-21    Algeria                        Moderate         65\n",
       "2 2022-07-21    Andorra                        Moderate         55\n",
       "3 2022-07-21     Angola  Unhealthy for Sensitive Groups        113\n",
       "4 2022-07-21  Argentina                        Moderate         63"
      ]
     },
     "execution_count": 55,
     "metadata": {},
     "output_type": "execute_result"
    }
   ],
   "source": [
    "# Filter the data for the year 2022\n",
    "good_air_quality_2022 = good_air_quality[good_air_quality['Date'].dt.year == 2022]\n",
    "\n",
    "# Display the first few rows of the new DataFrame\n",
    "good_air_quality_2022.head()"
   ]
  },
  {
   "cell_type": "code",
   "execution_count": 57,
   "id": "8c16748f-8476-4574-b77b-bdbfbaa7d16f",
   "metadata": {},
   "outputs": [
    {
     "data": {
      "text/plain": [
       "9827"
      ]
     },
     "execution_count": 57,
     "metadata": {},
     "output_type": "execute_result"
    }
   ],
   "source": [
    "len(good_air_quality_2022)"
   ]
  },
  {
   "cell_type": "markdown",
   "id": "bf151a6e-8493-486f-b66a-96c9f8762d90",
   "metadata": {},
   "source": [
    "## EXPLORATION"
   ]
  },
  {
   "cell_type": "raw",
   "id": "d54af6a1-99af-4a2c-875d-945115f2bff9",
   "metadata": {},
   "source": [
    "The following independent variable will be a focus of the analysis is: AQI\n",
    "\n",
    "The objective will be to see how AQI of countries changes over time\n"
   ]
  },
  {
   "cell_type": "markdown",
   "id": "f7ef7f71-21fb-4f1c-b516-6b0fe0e3ba36",
   "metadata": {},
   "source": [
    "**SUMMARY STATISTICS**"
   ]
  },
  {
   "cell_type": "code",
   "execution_count": 58,
   "id": "9f894d42-1600-4978-8b6e-7d472a55e709",
   "metadata": {},
   "outputs": [
    {
     "data": {
      "text/html": [
       "<div>\n",
       "<style scoped>\n",
       "    .dataframe tbody tr th:only-of-type {\n",
       "        vertical-align: middle;\n",
       "    }\n",
       "\n",
       "    .dataframe tbody tr th {\n",
       "        vertical-align: top;\n",
       "    }\n",
       "\n",
       "    .dataframe thead th {\n",
       "        text-align: right;\n",
       "    }\n",
       "</style>\n",
       "<table border=\"1\" class=\"dataframe\">\n",
       "  <thead>\n",
       "    <tr style=\"text-align: right;\">\n",
       "      <th></th>\n",
       "      <th>count</th>\n",
       "      <th>mean</th>\n",
       "      <th>std</th>\n",
       "      <th>min</th>\n",
       "      <th>25%</th>\n",
       "      <th>50%</th>\n",
       "      <th>75%</th>\n",
       "      <th>max</th>\n",
       "    </tr>\n",
       "    <tr>\n",
       "      <th>Status</th>\n",
       "      <th></th>\n",
       "      <th></th>\n",
       "      <th></th>\n",
       "      <th></th>\n",
       "      <th></th>\n",
       "      <th></th>\n",
       "      <th></th>\n",
       "      <th></th>\n",
       "    </tr>\n",
       "  </thead>\n",
       "  <tbody>\n",
       "    <tr>\n",
       "      <th>Good</th>\n",
       "      <td>4803.0</td>\n",
       "      <td>27.811160</td>\n",
       "      <td>12.887442</td>\n",
       "      <td>1.0</td>\n",
       "      <td>18.00</td>\n",
       "      <td>28.0</td>\n",
       "      <td>38.00</td>\n",
       "      <td>50.0</td>\n",
       "    </tr>\n",
       "    <tr>\n",
       "      <th>Hazardous</th>\n",
       "      <td>22.0</td>\n",
       "      <td>414.318182</td>\n",
       "      <td>159.628553</td>\n",
       "      <td>305.0</td>\n",
       "      <td>326.25</td>\n",
       "      <td>365.5</td>\n",
       "      <td>405.00</td>\n",
       "      <td>868.0</td>\n",
       "    </tr>\n",
       "    <tr>\n",
       "      <th>Moderate</th>\n",
       "      <td>3604.0</td>\n",
       "      <td>71.649001</td>\n",
       "      <td>13.631861</td>\n",
       "      <td>51.0</td>\n",
       "      <td>60.00</td>\n",
       "      <td>70.0</td>\n",
       "      <td>83.00</td>\n",
       "      <td>100.0</td>\n",
       "    </tr>\n",
       "    <tr>\n",
       "      <th>Unhealthy</th>\n",
       "      <td>422.0</td>\n",
       "      <td>167.421801</td>\n",
       "      <td>12.317930</td>\n",
       "      <td>151.0</td>\n",
       "      <td>157.00</td>\n",
       "      <td>163.0</td>\n",
       "      <td>180.00</td>\n",
       "      <td>200.0</td>\n",
       "    </tr>\n",
       "    <tr>\n",
       "      <th>Unhealthy for Sensitive Groups</th>\n",
       "      <td>926.0</td>\n",
       "      <td>121.480562</td>\n",
       "      <td>14.618875</td>\n",
       "      <td>101.0</td>\n",
       "      <td>108.00</td>\n",
       "      <td>118.0</td>\n",
       "      <td>134.00</td>\n",
       "      <td>150.0</td>\n",
       "    </tr>\n",
       "    <tr>\n",
       "      <th>Very Unhealthy</th>\n",
       "      <td>50.0</td>\n",
       "      <td>242.060000</td>\n",
       "      <td>25.616011</td>\n",
       "      <td>204.0</td>\n",
       "      <td>220.00</td>\n",
       "      <td>238.0</td>\n",
       "      <td>258.75</td>\n",
       "      <td>289.0</td>\n",
       "    </tr>\n",
       "  </tbody>\n",
       "</table>\n",
       "</div>"
      ],
      "text/plain": [
       "                                 count        mean         std    min     25%  \\\n",
       "Status                                                                          \n",
       "Good                            4803.0   27.811160   12.887442    1.0   18.00   \n",
       "Hazardous                         22.0  414.318182  159.628553  305.0  326.25   \n",
       "Moderate                        3604.0   71.649001   13.631861   51.0   60.00   \n",
       "Unhealthy                        422.0  167.421801   12.317930  151.0  157.00   \n",
       "Unhealthy for Sensitive Groups   926.0  121.480562   14.618875  101.0  108.00   \n",
       "Very Unhealthy                    50.0  242.060000   25.616011  204.0  220.00   \n",
       "\n",
       "                                  50%     75%    max  \n",
       "Status                                                \n",
       "Good                             28.0   38.00   50.0  \n",
       "Hazardous                       365.5  405.00  868.0  \n",
       "Moderate                         70.0   83.00  100.0  \n",
       "Unhealthy                       163.0  180.00  200.0  \n",
       "Unhealthy for Sensitive Groups  118.0  134.00  150.0  \n",
       "Very Unhealthy                  238.0  258.75  289.0  "
      ]
     },
     "execution_count": 58,
     "metadata": {},
     "output_type": "execute_result"
    }
   ],
   "source": [
    "# using groupby to categorize the countries by their air quality status in 2022\n",
    "aqi_by_status = good_air_quality_2022.groupby('Status')['AQI Value'].describe()\n",
    "aqi_by_status"
   ]
  },
  {
   "cell_type": "code",
   "execution_count": 59,
   "id": "d54315be-55d9-4045-8af3-6b5e682132f5",
   "metadata": {},
   "outputs": [
    {
     "data": {
      "text/plain": [
       "142"
      ]
     },
     "execution_count": 59,
     "metadata": {},
     "output_type": "execute_result"
    }
   ],
   "source": [
    "len(good_air_quality_2022[\"Country\"].unique())"
   ]
  },
  {
   "cell_type": "code",
   "execution_count": 60,
   "id": "6c1aba20-3b52-4514-a44e-2556cf2b0f77",
   "metadata": {},
   "outputs": [
    {
     "data": {
      "text/html": [
       "<div>\n",
       "<style scoped>\n",
       "    .dataframe tbody tr th:only-of-type {\n",
       "        vertical-align: middle;\n",
       "    }\n",
       "\n",
       "    .dataframe tbody tr th {\n",
       "        vertical-align: top;\n",
       "    }\n",
       "\n",
       "    .dataframe thead th {\n",
       "        text-align: right;\n",
       "    }\n",
       "</style>\n",
       "<table border=\"1\" class=\"dataframe\">\n",
       "  <thead>\n",
       "    <tr style=\"text-align: right;\">\n",
       "      <th></th>\n",
       "      <th>Date</th>\n",
       "      <th>AQI Value</th>\n",
       "    </tr>\n",
       "  </thead>\n",
       "  <tbody>\n",
       "    <tr>\n",
       "      <th>count</th>\n",
       "      <td>9827</td>\n",
       "      <td>9827.000000</td>\n",
       "    </tr>\n",
       "    <tr>\n",
       "      <th>mean</th>\n",
       "      <td>2022-08-20 00:39:51.452121600</td>\n",
       "      <td>60.665615</td>\n",
       "    </tr>\n",
       "    <tr>\n",
       "      <th>min</th>\n",
       "      <td>2022-07-21 00:00:00</td>\n",
       "      <td>1.000000</td>\n",
       "    </tr>\n",
       "    <tr>\n",
       "      <th>25%</th>\n",
       "      <td>2022-08-03 00:00:00</td>\n",
       "      <td>28.500000</td>\n",
       "    </tr>\n",
       "    <tr>\n",
       "      <th>50%</th>\n",
       "      <td>2022-08-20 00:00:00</td>\n",
       "      <td>52.000000</td>\n",
       "    </tr>\n",
       "    <tr>\n",
       "      <th>75%</th>\n",
       "      <td>2022-09-06 00:00:00</td>\n",
       "      <td>82.000000</td>\n",
       "    </tr>\n",
       "    <tr>\n",
       "      <th>max</th>\n",
       "      <td>2022-09-22 00:00:00</td>\n",
       "      <td>868.000000</td>\n",
       "    </tr>\n",
       "    <tr>\n",
       "      <th>std</th>\n",
       "      <td>NaN</td>\n",
       "      <td>45.727379</td>\n",
       "    </tr>\n",
       "  </tbody>\n",
       "</table>\n",
       "</div>"
      ],
      "text/plain": [
       "                                Date    AQI Value\n",
       "count                           9827  9827.000000\n",
       "mean   2022-08-20 00:39:51.452121600    60.665615\n",
       "min              2022-07-21 00:00:00     1.000000\n",
       "25%              2022-08-03 00:00:00    28.500000\n",
       "50%              2022-08-20 00:00:00    52.000000\n",
       "75%              2022-09-06 00:00:00    82.000000\n",
       "max              2022-09-22 00:00:00   868.000000\n",
       "std                              NaN    45.727379"
      ]
     },
     "execution_count": 60,
     "metadata": {},
     "output_type": "execute_result"
    }
   ],
   "source": [
    "good_air_quality_2022.describe()"
   ]
  },
  {
   "cell_type": "markdown",
   "id": "2f53b607-2cde-4f50-b3cb-0e3ae684136a",
   "metadata": {},
   "source": [
    "**SPREAD OF DATA**"
   ]
  },
  {
   "cell_type": "code",
   "execution_count": 61,
   "id": "faac8c81-ab37-4b23-908d-25095d74b251",
   "metadata": {},
   "outputs": [
    {
     "data": {
      "image/png": "[encoded data removed]",
      "text/plain": [
       "<Figure size 640x480 with 1 Axes>"
      ]
     },
     "metadata": {},
     "output_type": "display_data"
    }
   ],
   "source": [
    "# Checking for outliers in the air quality data\n",
    "# Drawing a box plot\n",
    "plt.figure()\n",
    "sns.boxplot(good_air_quality_2022[\"AQI Value\"])\n",
    "plt.show()"
   ]
  },
  {
   "cell_type": "raw",
   "id": "72c270a3-c6f9-4fbe-9d69-51c0fc7a18c2",
   "metadata": {},
   "source": [
    "From the data above, there are outliers. \n",
    "There are two data points that are above the rest."
   ]
  },
  {
   "cell_type": "markdown",
   "id": "9b5860d2-f2e9-41f4-abdb-4fdf29192074",
   "metadata": {},
   "source": [
    "**DISTRIBUTION OF MAJOR VARIABLES**"
   ]
  },
  {
   "cell_type": "code",
   "execution_count": 63,
   "id": "ac361ecb-2025-4dbc-b738-aef704d3e005",
   "metadata": {},
   "outputs": [],
   "source": [
    "# Creating a variable called monthly_aqi-trend_2022 \n",
    "# set_index makes the date as the main column in the dataframe called monthly_aqi_trend_2022\n",
    "# .mean() takes the average of the dataframe column\n",
    "monthly_aqi_trend_2022 = good_air_quality_2022.set_index('Date')['AQI Value'].mean()"
   ]
  },
  {
   "cell_type": "code",
   "execution_count": 70,
   "id": "57f16955-7967-4e65-a664-336b417b607b",
   "metadata": {},
   "outputs": [
    {
     "data": {
      "image/png": "[encoded data removed]",
      "text/plain": [
       "<Figure size 800x900 with 1 Axes>"
      ]
     },
     "metadata": {},
     "output_type": "display_data"
    }
   ],
   "source": [
    "# A visualization of the trends in AQI per month over the years\n",
    "# A plot of the monthly AQI trend\n",
    "plt.figure(figsize=(8,9))\n",
    "monthly_aqi_trend_2022.plot(title=\"Monthly Average AQI\", color=\"b\", marker='o')\n",
    "plt.xlabel(\"Month\")\n",
    "plt.ylabel(\"Average AQI Value\")\n",
    "plt.grid(True)\n",
    "plt.show()\n"
   ]
  },
  {
   "cell_type": "code",
   "execution_count": null,
   "id": "60d5feb0-a869-476c-9428-f671b355c893",
   "metadata": {},
   "outputs": [],
   "source": [
    "In August 2022, there was a spike in air quality index.\n",
    "This may be attributed to various factors that were happening during 2022 August"
   ]
  },
  {
   "cell_type": "code",
   "execution_count": 92,
   "id": "148ab409-d714-41c2-b87c-fc675ab880a7",
   "metadata": {},
   "outputs": [
    {
     "name": "stderr",
     "output_type": "stream",
     "text": [
      "C:\\Users\\Lenovo\\anaconda3\\ANACONDA30\\Lib\\site-packages\\seaborn\\_oldcore.py:1119: FutureWarning: use_inf_as_na option is deprecated and will be removed in a future version. Convert inf values to NaN before operating instead.\n",
      "  with pd.option_context('mode.use_inf_as_na', True):\n"
     ]
    },
    {
     "data": {
      "image/png": "[encoded data removed]",
      "text/plain": [
       "<Figure size 1700x800 with 1 Axes>"
      ]
     },
     "metadata": {},
     "output_type": "display_data"
    }
   ],
   "source": [
    "# A plot of 2022 data according to status\n",
    "plt.figure(figsize=(17, 8))\n",
    "palette = sns.color_palette(\"Set2\")\n",
    "sns.histplot(good_air_quality_2022['Status'],color=palette[0],bins=30,alpha=0.5)               \n",
    "plt.title('Air Quality Status in 2022', fontsize=27, fontweight='bold', color='darkblue')\n",
    "plt.xlabel('Air Quality Status', fontsize=16, fontweight='bold')\n",
    "plt.ylabel('Frequency', fontsize=16, fontweight='bold')\n",
    "plt.grid(axis='y', linestyle='--', alpha=0.7)\n",
    "plt.show()\n"
   ]
  },
  {
   "cell_type": "code",
   "execution_count": 102,
   "id": "a4c705c4-6dd5-43df-90da-21ebf06bd2a1",
   "metadata": {},
   "outputs": [
    {
     "data": {
      "text/plain": [
       "array(['China', 'United Arab Emirates', 'Iraq', 'India', 'Uzbekistan',\n",
       "       'Germany'], dtype=object)"
      ]
     },
     "execution_count": 102,
     "metadata": {},
     "output_type": "execute_result"
    }
   ],
   "source": [
    "top_10_countries = good_air_quality.sort_values(by='AQI Value', ascending=False).head(10)\n",
    "top_10_countries[\"Country\"].unique()"
   ]
  },
  {
   "cell_type": "code",
   "execution_count": 99,
   "id": "ecea7d53-a6dc-4329-8066-36fa88cd8dcd",
   "metadata": {},
   "outputs": [
    {
     "data": {
      "text/html": [
       "<div>\n",
       "<style scoped>\n",
       "    .dataframe tbody tr th:only-of-type {\n",
       "        vertical-align: middle;\n",
       "    }\n",
       "\n",
       "    .dataframe tbody tr th {\n",
       "        vertical-align: top;\n",
       "    }\n",
       "\n",
       "    .dataframe thead th {\n",
       "        text-align: right;\n",
       "    }\n",
       "</style>\n",
       "<table border=\"1\" class=\"dataframe\">\n",
       "  <thead>\n",
       "    <tr style=\"text-align: right;\">\n",
       "      <th></th>\n",
       "      <th>Date</th>\n",
       "      <th>Country</th>\n",
       "      <th>Status</th>\n",
       "      <th>AQI Value</th>\n",
       "    </tr>\n",
       "  </thead>\n",
       "  <tbody>\n",
       "    <tr>\n",
       "      <th>6126</th>\n",
       "      <td>2022-08-28</td>\n",
       "      <td>Grenada</td>\n",
       "      <td>Good</td>\n",
       "      <td>1</td>\n",
       "    </tr>\n",
       "    <tr>\n",
       "      <th>4877</th>\n",
       "      <td>2022-08-20</td>\n",
       "      <td>Guam</td>\n",
       "      <td>Good</td>\n",
       "      <td>1</td>\n",
       "    </tr>\n",
       "    <tr>\n",
       "      <th>949</th>\n",
       "      <td>2022-07-24</td>\n",
       "      <td>Guam</td>\n",
       "      <td>Good</td>\n",
       "      <td>1</td>\n",
       "    </tr>\n",
       "    <tr>\n",
       "      <th>7503</th>\n",
       "      <td>2022-09-07</td>\n",
       "      <td>Cayman Islands</td>\n",
       "      <td>Good</td>\n",
       "      <td>1</td>\n",
       "    </tr>\n",
       "    <tr>\n",
       "      <th>7524</th>\n",
       "      <td>2022-09-07</td>\n",
       "      <td>Gambia</td>\n",
       "      <td>Good</td>\n",
       "      <td>1</td>\n",
       "    </tr>\n",
       "    <tr>\n",
       "      <th>7642</th>\n",
       "      <td>2022-09-08</td>\n",
       "      <td>Cayman Islands</td>\n",
       "      <td>Good</td>\n",
       "      <td>1</td>\n",
       "    </tr>\n",
       "    <tr>\n",
       "      <th>687</th>\n",
       "      <td>2022-07-23</td>\n",
       "      <td>Guam</td>\n",
       "      <td>Good</td>\n",
       "      <td>1</td>\n",
       "    </tr>\n",
       "    <tr>\n",
       "      <th>7671</th>\n",
       "      <td>2022-09-08</td>\n",
       "      <td>Guam</td>\n",
       "      <td>Good</td>\n",
       "      <td>1</td>\n",
       "    </tr>\n",
       "    <tr>\n",
       "      <th>4425</th>\n",
       "      <td>2022-08-17</td>\n",
       "      <td>Cayman Islands</td>\n",
       "      <td>Good</td>\n",
       "      <td>1</td>\n",
       "    </tr>\n",
       "    <tr>\n",
       "      <th>7810</th>\n",
       "      <td>2022-09-09</td>\n",
       "      <td>Guam</td>\n",
       "      <td>Good</td>\n",
       "      <td>1</td>\n",
       "    </tr>\n",
       "  </tbody>\n",
       "</table>\n",
       "</div>"
      ],
      "text/plain": [
       "           Date         Country Status  AQI Value\n",
       "6126 2022-08-28         Grenada   Good          1\n",
       "4877 2022-08-20            Guam   Good          1\n",
       "949  2022-07-24            Guam   Good          1\n",
       "7503 2022-09-07  Cayman Islands   Good          1\n",
       "7524 2022-09-07          Gambia   Good          1\n",
       "7642 2022-09-08  Cayman Islands   Good          1\n",
       "687  2022-07-23            Guam   Good          1\n",
       "7671 2022-09-08            Guam   Good          1\n",
       "4425 2022-08-17  Cayman Islands   Good          1\n",
       "7810 2022-09-09            Guam   Good          1"
      ]
     },
     "execution_count": 99,
     "metadata": {},
     "output_type": "execute_result"
    }
   ],
   "source": [
    "bottom_10_countries = good_air_quality.sort_values(by='AQI Value', ascending=True).head(10)\n",
    "bottom_10_countries"
   ]
  },
  {
   "cell_type": "markdown",
   "id": "b049e0b2-4684-47d5-8f07-27a035ac7177",
   "metadata": {},
   "source": [
    "## CONCLUSION"
   ]
  },
  {
   "cell_type": "code",
   "execution_count": null,
   "id": "c6ec28c6-599b-48c4-a1c3-685e16a5817a",
   "metadata": {},
   "outputs": [],
   "source": [
    "The countries with the worst air quality in 2022 are: \n",
    "        China\n",
    "        United Arab Emirates\n",
    "        Iraq\n",
    "        India\n",
    "        Uzbekistan\n",
    "        Germany\n",
    "In August 2022, there was a spike in air quality index.\n",
    "This may be attributed to various factors that were happening during 2022 August\n",
    "\n",
    "The air quality became better in 2022 September after a reduction in the spike. "
   ]
  }
 ],
 "metadata": {
  "kernelspec": {
   "display_name": "Python 3 (ipykernel)",
   "language": "python",
   "name": "python3"
  },
  "language_info": {
   "codemirror_mode": {
    "name": "ipython",
    "version": 3
   },
   "file_extension": ".py",
   "mimetype": "text/x-python",
   "name": "python",
   "nbconvert_exporter": "python",
   "pygments_lexer": "ipython3",
   "version": "3.11.7"
  }
 },
 "nbformat": 4,
 "nbformat_minor": 5
}
