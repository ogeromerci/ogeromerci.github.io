{
 "cells": [
  {
   "cell_type": "code",
   "execution_count": 1,
   "id": "3b50a572-f955-4452-836b-08ac65a22ce1",
   "metadata": {},
   "outputs": [],
   "source": [
    "### PYTHON ANALYSIS"
   ]
  },
  {
   "cell_type": "code",
   "execution_count": 6,
   "id": "c08b1836-2ad5-4163-838a-6f6b05b962a5",
   "metadata": {},
   "outputs": [],
   "source": [
    "### Write a Python Function to find the maximum of three numbers\n",
    "\n",
    "def find_max_three_num(a,b,c):\n",
    "    return max(a,b,c)\n",
    "\n",
    "    "
   ]
  },
  {
   "cell_type": "code",
   "execution_count": 7,
   "id": "e95b9d64-211e-440d-baa3-40fc408794da",
   "metadata": {},
   "outputs": [
    {
     "data": {
      "text/plain": [
       "3"
      ]
     },
     "execution_count": 7,
     "metadata": {},
     "output_type": "execute_result"
    }
   ],
   "source": [
    "find_max_three_num(1,2,3)"
   ]
  },
  {
   "cell_type": "code",
   "execution_count": 8,
   "id": "40120bef-9762-4681-b4d0-8bec93fae93b",
   "metadata": {},
   "outputs": [],
   "source": [
    "# Write a function to sum all the numbers in the line\n",
    "# option 1\n",
    "def sum_of_numbers(a,b,c,d,e):\n",
    "    total_sum = a + b + c + d + e\n",
    "    return total_sum"
   ]
  },
  {
   "cell_type": "code",
   "execution_count": 9,
   "id": "c230d220-2b4f-4dbe-9398-ddb123e20ce1",
   "metadata": {},
   "outputs": [
    {
     "data": {
      "text/plain": [
       "20"
      ]
     },
     "execution_count": 9,
     "metadata": {},
     "output_type": "execute_result"
    }
   ],
   "source": [
    "sum_of_numbers(8,2,3,0,7)"
   ]
  },
  {
   "cell_type": "code",
   "execution_count": 10,
   "id": "d850deeb-ae37-4171-b429-70b3c724841f",
   "metadata": {},
   "outputs": [],
   "source": [
    "#option 2\n",
    "def find_sum_of_num(list):\n",
    "    total = 0\n",
    "    for num in list:\n",
    "        total += num\n",
    "    return total"
   ]
  },
  {
   "cell_type": "code",
   "execution_count": 11,
   "id": "1e79b141-f2ae-4d63-a288-612a159ab8bc",
   "metadata": {},
   "outputs": [
    {
     "data": {
      "text/plain": [
       "17"
      ]
     },
     "execution_count": 11,
     "metadata": {},
     "output_type": "execute_result"
    }
   ],
   "source": [
    "find_sum_of_num([8,2,7])"
   ]
  },
  {
   "cell_type": "code",
   "execution_count": 12,
   "id": "18d2c6b5-0c45-4318-a097-f2e5739e3ed5",
   "metadata": {},
   "outputs": [],
   "source": [
    "#option 3\n",
    "def number_sum(a,b):\n",
    "    return sum([a,b])"
   ]
  },
  {
   "cell_type": "code",
   "execution_count": 13,
   "id": "be3cb458-d050-4c7e-af2c-a976fe37c4c4",
   "metadata": {},
   "outputs": [
    {
     "data": {
      "text/plain": [
       "4"
      ]
     },
     "execution_count": 13,
     "metadata": {},
     "output_type": "execute_result"
    }
   ],
   "source": [
    "number_sum(1,3)"
   ]
  },
  {
   "cell_type": "code",
   "execution_count": 14,
   "id": "974cedcd-a9d4-4933-8d36-4d503db638a3",
   "metadata": {},
   "outputs": [],
   "source": [
    "# Question 3\n",
    "# option 2\n",
    "def multiply_numbers(a,b,c,d,e):\n",
    "    multiplication_total = a * b * c * d * e\n",
    "    return multiplication_total\n"
   ]
  },
  {
   "cell_type": "code",
   "execution_count": 15,
   "id": "5b6ff64f-519a-442b-a1ce-d492881ef0cc",
   "metadata": {},
   "outputs": [
    {
     "data": {
      "text/plain": [
       "-336"
      ]
     },
     "execution_count": 15,
     "metadata": {},
     "output_type": "execute_result"
    }
   ],
   "source": [
    "multiply_numbers(8,2,3,-1,7)"
   ]
  },
  {
   "cell_type": "code",
   "execution_count": 16,
   "id": "d0d8703e-b2ad-4a94-887e-70d0b682a743",
   "metadata": {},
   "outputs": [
    {
     "data": {
      "text/plain": [
       "8"
      ]
     },
     "execution_count": 16,
     "metadata": {},
     "output_type": "execute_result"
    }
   ],
   "source": [
    "multiply_numbers(8,1,1,1,1)"
   ]
  },
  {
   "cell_type": "code",
   "execution_count": 17,
   "id": "44b48560-e1cf-4661-a2da-dd62d8c432fb",
   "metadata": {},
   "outputs": [],
   "source": [
    "# option 2 \n",
    "# using functions\n",
    "def multiply_numbers(my_multiples):\n",
    "    product = 1\n",
    "    for num in my_multiples:\n",
    "        product*= num\n",
    "    return product"
   ]
  },
  {
   "cell_type": "code",
   "execution_count": 18,
   "id": "ac97d801-e6da-462f-84fe-3c4062f62c5f",
   "metadata": {},
   "outputs": [
    {
     "data": {
      "text/plain": [
       "225"
      ]
     },
     "execution_count": 18,
     "metadata": {},
     "output_type": "execute_result"
    }
   ],
   "source": [
    "multiply_numbers([3,3,5,5,1])"
   ]
  },
  {
   "cell_type": "code",
   "execution_count": null,
   "id": "c63fd39b-498e-4e69-b6ed-6c1c900715d4",
   "metadata": {},
   "outputs": [],
   "source": []
  },
  {
   "cell_type": "code",
   "execution_count": null,
   "id": "effe9755-2af8-410a-ba32-3e25749612b8",
   "metadata": {},
   "outputs": [],
   "source": []
  },
  {
   "cell_type": "code",
   "execution_count": 19,
   "id": "c8f3e37b-0f7c-4f82-8fda-5effd3239f0a",
   "metadata": {},
   "outputs": [],
   "source": [
    "# Question 4\n",
    "# Write a Python program to reverse a string \n",
    "def reverse_string(string):\n",
    "    return string"
   ]
  },
  {
   "cell_type": "code",
   "execution_count": 20,
   "id": "a0d7e51e-fdae-4e00-82d6-517c5b61b652",
   "metadata": {},
   "outputs": [
    {
     "data": {
      "text/plain": [
       "'1234abcd'"
      ]
     },
     "execution_count": 20,
     "metadata": {},
     "output_type": "execute_result"
    }
   ],
   "source": [
    "reverse_string(\"1234abcd\")\n"
   ]
  },
  {
   "cell_type": "code",
   "execution_count": 21,
   "id": "04fad39f-04f4-433b-869e-c86a2b168b5c",
   "metadata": {},
   "outputs": [],
   "source": [
    "#Question 6\n",
    "# write a Python program to check whether the number falls within the given range\n",
    "def within_range(number):\n",
    "    if number in range(10,100):\n",
    "        print(f'{number} is in range')\n",
    "    else: \n",
    "         print(f'{number} not in range')\n",
    "  "
   ]
  },
  {
   "cell_type": "code",
   "execution_count": 22,
   "id": "f159b6ee-6f23-4b0c-81ac-2285e2614917",
   "metadata": {},
   "outputs": [
    {
     "name": "stdout",
     "output_type": "stream",
     "text": [
      "105 not in range\n"
     ]
    }
   ],
   "source": [
    "  within_range(105)"
   ]
  },
  {
   "cell_type": "code",
   "execution_count": 23,
   "id": "dd73eb68-e204-4818-a6c7-52737a1f225f",
   "metadata": {},
   "outputs": [],
   "source": [
    "#Question 7\n",
    "# write a Python function that accepts a string and counts the number of upper case and the lower case letters\n",
    "# Sample String: The quick brown fox\n",
    "# Expected Output :\n",
    "# No of upper case characters: 3\n",
    "# No of lower case characters: 12\n",
    "def check_string(str):\n",
    "    lower_case = 0\n",
    "    upper_case = 0\n",
    "    for char in str:\n",
    "        if char.islower():\n",
    "            lower_case =+ 1\n",
    "        elif char.isupper():\n",
    "            upper_case =+ 1\n",
    "        return lower_case, upper_case\n",
    "   \n",
    "    "
   ]
  },
  {
   "cell_type": "code",
   "execution_count": 24,
   "id": "a7caf8eb-cb66-46b3-a764-14ee115953cb",
   "metadata": {},
   "outputs": [
    {
     "data": {
      "text/plain": [
       "(0, 1)"
      ]
     },
     "execution_count": 24,
     "metadata": {},
     "output_type": "execute_result"
    }
   ],
   "source": [
    " check_string('The quick brown fox')"
   ]
  },
  {
   "cell_type": "code",
   "execution_count": 25,
   "id": "b73585fe-42e0-4cd2-81a9-647274f56772",
   "metadata": {},
   "outputs": [],
   "source": [
    "# Question 8\n",
    "# Write a python function that takes a list and returns a new list with distinct elements from the list\n",
    "def unique_elements(sample_list):\n",
    "    return list(set(sample_list))\n"
   ]
  },
  {
   "cell_type": "code",
   "execution_count": 26,
   "id": "bd9fede4-2f10-487e-a4c0-60bcd092d291",
   "metadata": {},
   "outputs": [
    {
     "data": {
      "text/plain": [
       "[1, 2, 3, 4, 5]"
      ]
     },
     "execution_count": 26,
     "metadata": {},
     "output_type": "execute_result"
    }
   ],
   "source": [
    "new_list = unique_elements([1,2,3,3,3,3,4,5])\n",
    "new_list"
   ]
  },
  {
   "cell_type": "code",
   "execution_count": 27,
   "id": "d854d30f-ddfa-4902-8bae-5c0de25e3342",
   "metadata": {},
   "outputs": [
    {
     "ename": "SyntaxError",
     "evalue": "invalid syntax (23061395.py, line 1)",
     "output_type": "error",
     "traceback": [
      "\u001b[1;36m  Cell \u001b[1;32mIn[27], line 1\u001b[1;36m\u001b[0m\n\u001b[1;33m    Question 9\u001b[0m\n\u001b[1;37m             ^\u001b[0m\n\u001b[1;31mSyntaxError\u001b[0m\u001b[1;31m:\u001b[0m invalid syntax\n"
     ]
    }
   ],
   "source": [
    "Question 9\n",
    "# write a python program to print specified list after removing the 0th, 4th and 5th elements\n",
    "# sample list : [\"red\", \"green\", \"white\", \"black\", \"pink\", \"yellow\"]\n",
    "# Expected output : [\"Green\", \"White\", Black\"]\n",
    "sample_list = [\"red\", \"green\", \"white\", \"black\", \"pink\", \"yellow\"]\n",
    "def specified_list(sample_list):\n",
    "    return sample_list[1:4]"
   ]
  },
  {
   "cell_type": "code",
   "execution_count": 28,
   "id": "6882147d-d657-4593-b0c8-64712d55fbf7",
   "metadata": {},
   "outputs": [],
   "source": [
    "sample_list = [\"red\", \"green\", \"white\", \"black\", \"pink\", \"yellow\"]"
   ]
  },
  {
   "cell_type": "code",
   "execution_count": 29,
   "id": "5061cbde-4917-45ac-b475-a67ebdc4d0fc",
   "metadata": {},
   "outputs": [],
   "source": [
    "sample_list.remove(\"pink\")\n",
    "sample_list.remove(\"yellow\")"
   ]
  },
  {
   "cell_type": "code",
   "execution_count": 30,
   "id": "5fcdc739-a66c-4aa4-b020-ecf7b2f8b2e8",
   "metadata": {},
   "outputs": [
    {
     "data": {
      "text/plain": [
       "['red', 'green', 'white', 'black']"
      ]
     },
     "execution_count": 30,
     "metadata": {},
     "output_type": "execute_result"
    }
   ],
   "source": [
    "sample_list"
   ]
  },
  {
   "cell_type": "code",
   "execution_count": 31,
   "id": "a7149332-df10-49ff-accc-9bc1cdcf8f1f",
   "metadata": {},
   "outputs": [
    {
     "data": {
      "text/plain": [
       "{3: 30, 2: 20, 1: 10}"
      ]
     },
     "execution_count": 31,
     "metadata": {},
     "output_type": "execute_result"
    }
   ],
   "source": [
    "## Question 9\n",
    "# Write a python script to sort (ascending and descending) a dictionary by key\n",
    "#dictionary = {1:10, 2:20, 3;30}\n",
    "my_dict = {1:10, 2:20, 3:30}\n",
    "my_sorted_dict = sorted(my_dict.items(),key = lambda x:x[1], reverse = True)\n",
    "my_sorted_dict1 = dict(my_sorted_dict)\n",
    "my_sorted_dict1"
   ]
  },
  {
   "cell_type": "code",
   "execution_count": null,
   "id": "81f6ae6a-469e-430f-9968-b0d1368e5eb8",
   "metadata": {},
   "outputs": [],
   "source": []
  },
  {
   "cell_type": "code",
   "execution_count": 32,
   "id": "08340e59-f128-413f-886e-25ffdb2f8d11",
   "metadata": {},
   "outputs": [
    {
     "data": {
      "text/plain": [
       "{1: 10, 2: 20, 3: 30, 4: 40, 5: 50, 6: 60}"
      ]
     },
     "execution_count": 32,
     "metadata": {},
     "output_type": "execute_result"
    }
   ],
   "source": [
    "## Question 10\n",
    "#write a code to concatenate a dictionary\n",
    "\n",
    "dict1 = {1:10, 2:20}\n",
    "dict2 = {3:30, 4:40}\n",
    "dict3 = {5:50, 6:60}\n",
    "\n",
    "new_dict = {}\n",
    "new_dict.update(dict1)\n",
    "new_dict.update(dict2)\n",
    "new_dict.update(dict3)\n",
    "new_dict"
   ]
  },
  {
   "cell_type": "code",
   "execution_count": null,
   "id": "007bd0d7-e236-4dc3-bc09-a89754ec13c0",
   "metadata": {},
   "outputs": [],
   "source": []
  },
  {
   "cell_type": "code",
   "execution_count": null,
   "id": "a88e903a-64b4-4172-b5ab-222d0dda1a4a",
   "metadata": {},
   "outputs": [],
   "source": []
  }
 ],
 "metadata": {
  "kernelspec": {
   "display_name": "Python 3 (ipykernel)",
   "language": "python",
   "name": "python3"
  },
  "language_info": {
   "codemirror_mode": {
    "name": "ipython",
    "version": 3
   },
   "file_extension": ".py",
   "mimetype": "text/x-python",
   "name": "python",
   "nbconvert_exporter": "python",
   "pygments_lexer": "ipython3",
   "version": "3.11.7"
  }
 },
 "nbformat": 4,
 "nbformat_minor": 5
}
