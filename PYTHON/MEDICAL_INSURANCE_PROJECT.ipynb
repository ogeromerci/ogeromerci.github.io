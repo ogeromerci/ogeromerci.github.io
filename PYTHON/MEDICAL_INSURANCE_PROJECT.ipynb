{
 "cells": [
  {
   "cell_type": "markdown",
   "id": "23b7cd2a-4ee5-4442-acaf-b076d16633e9",
   "metadata": {},
   "source": [
    "# MEDICAL INSURANCE PROJECT"
   ]
  },
  {
   "cell_type": "code",
   "execution_count": 1,
   "id": "8354c28f-ca56-4913-bdf2-6c2b78c86ea7",
   "metadata": {},
   "outputs": [],
   "source": [
    "#Python Syntax: Medical Insurance Project\n",
    "# The analysis involves factors contributing to medical insurance costs. Using a formula that estimates a person's yearly insurance costs, one will investigate how different factors such as age, sex, BMI, etc. affect the prediction."
   ]
  },
  {
   "cell_type": "code",
   "execution_count": 2,
   "id": "c30f9bb8-fc33-4e0d-8cf7-39d3b241c4a6",
   "metadata": {},
   "outputs": [
    {
     "data": {
      "text/plain": [
       "'\\n    age: age of the individual in years\\n    sex: 0 for female, 1 for male*\\n    bmi: individual’s body mass index\\n    num_of_children: number of children the individual has\\n    smoker: 0 for a non-smoker, 1 for a smoker\\n    \\n'"
      ]
     },
     "execution_count": 2,
     "metadata": {},
     "output_type": "execute_result"
    }
   ],
   "source": [
    "# The initial step is setting up the variables of the medical insurance costs\n",
    "'''\n",
    "    age: age of the individual in years\n",
    "    sex: 0 for female, 1 for male*\n",
    "    bmi: individual’s body mass index\n",
    "    num_of_children: number of children the individual has\n",
    "    smoker: 0 for a non-smoker, 1 for a smoker\n",
    "    \n",
    "'''"
   ]
  },
  {
   "cell_type": "code",
   "execution_count": 168,
   "id": "315dfb18-6f6f-4bfb-b236-79ab016e8f76",
   "metadata": {},
   "outputs": [],
   "source": [
    "# creating the initial variables below\n",
    "age = 22\n",
    "sex = 0 ##female\n",
    "num_of_children = 0\n",
    "bmi = 24.2\n",
    "smoker = 0 ## non-smoker"
   ]
  },
  {
   "cell_type": "code",
   "execution_count": 169,
   "id": "f205f0c4-dec5-48b5-8340-479bbcf89be8",
   "metadata": {},
   "outputs": [
    {
     "data": {
      "text/plain": [
       "-12500"
      ]
     },
     "execution_count": 169,
     "metadata": {},
     "output_type": "execute_result"
    }
   ],
   "source": [
    "# Add insurance estimate formula below\n",
    "insuarance_cost = 250 * age - 128 * sex\n",
    "+ 370 * bmi + 425 * num_of_children\n",
    "+ 24000 * smoker - 12500"
   ]
  },
  {
   "cell_type": "code",
   "execution_count": 170,
   "id": "468108b4-db89-4961-8566-f7b37ef33ec6",
   "metadata": {},
   "outputs": [
    {
     "name": "stdout",
     "output_type": "stream",
     "text": [
      "This person's insurance cost is 5500 dollars\n"
     ]
    }
   ],
   "source": [
    "print(\"This person's insurance cost is \" + str(insuarance_cost) + \" dollars\")"
   ]
  },
  {
   "cell_type": "code",
   "execution_count": 171,
   "id": "a031890c-fbf4-487e-8a33-355610c3f9e6",
   "metadata": {},
   "outputs": [
    {
     "name": "stdout",
     "output_type": "stream",
     "text": [
      "26\n"
     ]
    }
   ],
   "source": [
    "# Age Factor\n",
    "age += 4\n",
    "print (age)"
   ]
  },
  {
   "cell_type": "code",
   "execution_count": 172,
   "id": "1486f949-a4cf-42c3-9474-7fac0ae59458",
   "metadata": {},
   "outputs": [],
   "source": [
    "new_insuarance_cost = 250 * age - 126 * sex + 370 * bmi + 425 * num_of_children + 24000 * smoker - 12500"
   ]
  },
  {
   "cell_type": "code",
   "execution_count": 173,
   "id": "9d9f9c97-c9cf-4468-a1ac-50e49a3aa2cc",
   "metadata": {},
   "outputs": [
    {
     "name": "stdout",
     "output_type": "stream",
     "text": [
      "2954.0\n"
     ]
    }
   ],
   "source": [
    "print (new_insuarance_cost)\n",
    "change_in_insuarance_cost = new_insuarance_cost - insuarance_cost"
   ]
  },
  {
   "cell_type": "code",
   "execution_count": 174,
   "id": "ebde020a-602e-4ea9-868b-7491c6ff192f",
   "metadata": {},
   "outputs": [
    {
     "data": {
      "text/plain": [
       "-2546.0"
      ]
     },
     "execution_count": 174,
     "metadata": {},
     "output_type": "execute_result"
    }
   ],
   "source": [
    "change_in_insuarance_cost"
   ]
  },
  {
   "cell_type": "code",
   "execution_count": 175,
   "id": "710faeff-8bc1-4fc1-818c-793606e8b3e0",
   "metadata": {},
   "outputs": [
    {
     "name": "stdout",
     "output_type": "stream",
     "text": [
      "The change in estimated insuarance cost after increasing the age by 4 years is-2546.0dollars\n"
     ]
    }
   ],
   "source": [
    "print(\"The change in estimated insuarance cost after increasing the age by 4 years is\" + str(change_in_insuarance_cost) + \"dollars\")"
   ]
  },
  {
   "cell_type": "code",
   "execution_count": 176,
   "id": "4a3d2063-2302-4afa-81bc-e06a2a4cdb52",
   "metadata": {},
   "outputs": [
    {
     "name": "stdout",
     "output_type": "stream",
     "text": [
      "27.3\n"
     ]
    }
   ],
   "source": [
    "# BMI Factor\n",
    "age = 28\n",
    "bmi += 3.1\n",
    "print (bmi)"
   ]
  },
  {
   "cell_type": "code",
   "execution_count": 177,
   "id": "6f52fd36-1d3d-4b56-b967-d1c2a838a2c1",
   "metadata": {},
   "outputs": [],
   "source": [
    "# Male vs. Female Factor\n",
    "age = 28\n",
    "sex = 1 ##male\n",
    "num_of_children = 3\n",
    "bmi = 26.2\n",
    "smoker = 0"
   ]
  },
  {
   "cell_type": "code",
   "execution_count": 178,
   "id": "26361ffb-c993-43b4-a1fd-5729fb97ba23",
   "metadata": {},
   "outputs": [
    {
     "data": {
      "text/plain": [
       "-12500"
      ]
     },
     "execution_count": 178,
     "metadata": {},
     "output_type": "execute_result"
    }
   ],
   "source": [
    "insuarance_cost = 250 * age - 128 * sex\n",
    "+ 370 * bmi + 425 * num_of_children\n",
    "+ 24000 * smoker - 12500"
   ]
  },
  {
   "cell_type": "code",
   "execution_count": 179,
   "id": "cea7bd92-daa8-42b9-ac8b-05c7cafadddc",
   "metadata": {},
   "outputs": [],
   "source": [
    "insuarance_cost\n",
    "new_insuarance_cost = 250 * age - 126 * sex + 370 * bmi + 425 * num_of_children + 24000 * smoker - 12500"
   ]
  },
  {
   "cell_type": "code",
   "execution_count": 180,
   "id": "c4bd2709-ca99-42b7-b3af-ab7e5a684eef",
   "metadata": {},
   "outputs": [],
   "source": [
    "new_insuarance_cost\n",
    "change_in_insuarance_cost = insuarance_cost - new_insuarance_cost"
   ]
  },
  {
   "cell_type": "code",
   "execution_count": 181,
   "id": "cdbf11a6-9853-418c-9861-565bbddb73a7",
   "metadata": {},
   "outputs": [
    {
     "data": {
      "text/plain": [
       "1529.0"
      ]
     },
     "execution_count": 181,
     "metadata": {},
     "output_type": "execute_result"
    }
   ],
   "source": [
    "change_in_insuarance_cost"
   ]
  },
  {
   "cell_type": "markdown",
   "id": "2e723b55-2b53-438f-8afc-a6d70c6431f0",
   "metadata": {},
   "source": [
    "## WORKING WITH PYTHON LISTS"
   ]
  },
  {
   "cell_type": "code",
   "execution_count": 182,
   "id": "5a9fcc82-3901-4218-a04b-dedde514a31b",
   "metadata": {},
   "outputs": [],
   "source": [
    "# Creating a list called names_of_people and assigning names it \n",
    "names_of_people = [\"Brian\", \"Mark\", \"Justine\", \"Kemto\", \"Tash\", \"Racheal\"]"
   ]
  },
  {
   "cell_type": "code",
   "execution_count": 183,
   "id": "51d86eca-ab83-44da-80f7-f1973761e779",
   "metadata": {},
   "outputs": [],
   "source": [
    "names_of_people.append(\"Priscilla\")"
   ]
  },
  {
   "cell_type": "markdown",
   "id": "ca385b96-335b-49a9-b50a-d4d19b77cacb",
   "metadata": {},
   "source": []
  },
  {
   "cell_type": "code",
   "execution_count": 184,
   "id": "8b6b8315-9406-48c3-8d02-1e988c3624c4",
   "metadata": {},
   "outputs": [
    {
     "data": {
      "text/plain": [
       "['Brian', 'Mark', 'Justine', 'Kemto', 'Tash', 'Racheal', 'Priscilla']"
      ]
     },
     "execution_count": 184,
     "metadata": {},
     "output_type": "execute_result"
    }
   ],
   "source": [
    "names_of_people"
   ]
  },
  {
   "cell_type": "code",
   "execution_count": 185,
   "id": "9e1ec093-9066-4c73-a92f-425d6eaea89b",
   "metadata": {},
   "outputs": [],
   "source": [
    "# Creating a list called insurance_costs \n",
    "insurance_cost = [2456, 5756, 7968, 675, 9568, 4613]"
   ]
  },
  {
   "cell_type": "code",
   "execution_count": 186,
   "id": "e2befa49-1420-4934-a1b1-64d5cc7d0ec6",
   "metadata": {},
   "outputs": [],
   "source": [
    "# appending the new_insurance_cost to the original_insurance_cost\n",
    "insurance_cost.append(8320)"
   ]
  },
  {
   "cell_type": "raw",
   "id": "1d2536a2-0da4-4e28-b3f8-06ed49d2e546",
   "metadata": {},
   "source": [
    "insurance_cost"
   ]
  },
  {
   "cell_type": "code",
   "execution_count": 187,
   "id": "a84b48ee-8d38-41ef-9bd2-68a8da2b0adf",
   "metadata": {},
   "outputs": [
    {
     "data": {
      "text/plain": [
       "[2456, 5756, 7968, 675, 9568, 4613, 8320]"
      ]
     },
     "execution_count": 187,
     "metadata": {},
     "output_type": "execute_result"
    }
   ],
   "source": [
    "insurance_cost"
   ]
  },
  {
   "cell_type": "code",
   "execution_count": 188,
   "id": "17205acf-e891-4a6a-ac70-7bb9a660e446",
   "metadata": {},
   "outputs": [],
   "source": [
    "# combining the list names and insurance_cost to one variable using the zip function. therefore, I am creating a new variable called medical records\n",
    "medical_records = list(zip(names, insurance_cost))"
   ]
  },
  {
   "cell_type": "code",
   "execution_count": 189,
   "id": "3ec5fc30-4841-4c9e-a059-f0d6fc4bef99",
   "metadata": {},
   "outputs": [
    {
     "data": {
      "text/plain": [
       "[('mercy', 2456), ('nyamoita', 5756), ('ogero', 7968)]"
      ]
     },
     "execution_count": 189,
     "metadata": {},
     "output_type": "execute_result"
    }
   ],
   "source": [
    "medical_records"
   ]
  },
  {
   "cell_type": "code",
   "execution_count": 190,
   "id": "ad021b4b-ce7c-43b8-9e57-936c42a74210",
   "metadata": {},
   "outputs": [],
   "source": [
    "# creating a variable called num_medical_records that stores the length of the medical_records\n",
    "num_medical_records = len(medical_records)"
   ]
  },
  {
   "cell_type": "code",
   "execution_count": 191,
   "id": "d28c4505-de60-4bc3-a310-b8a20f7f35fc",
   "metadata": {},
   "outputs": [
    {
     "data": {
      "text/plain": [
       "3"
      ]
     },
     "execution_count": 191,
     "metadata": {},
     "output_type": "execute_result"
    }
   ],
   "source": [
    "num_medical_records"
   ]
  },
  {
   "cell_type": "code",
   "execution_count": 192,
   "id": "f547494e-d05e-4aa8-a735-f3d09398e342",
   "metadata": {},
   "outputs": [
    {
     "name": "stdout",
     "output_type": "stream",
     "text": [
      "There are 3 medical records\n"
     ]
    }
   ],
   "source": [
    "print(\"There are\" + \" \" + str(num_medical_records) + \" \" + \"medical records\")"
   ]
  },
  {
   "cell_type": "code",
   "execution_count": 193,
   "id": "d2223869-e3d3-4bbe-a6b1-4314faf26521",
   "metadata": {},
   "outputs": [
    {
     "data": {
      "text/plain": [
       "[('mercy', 2456)]"
      ]
     },
     "execution_count": 193,
     "metadata": {},
     "output_type": "execute_result"
    }
   ],
   "source": [
    "# Selecting the first medical record in medical_records and saving it to a variable called the first_medical_record\n",
    "first_medical_record = medical_records[:1]\n",
    "first_medical_record"
   ]
  },
  {
   "cell_type": "code",
   "execution_count": 194,
   "id": "f79d5f89-d5a8-4515-a344-ccd53ba246c6",
   "metadata": {},
   "outputs": [
    {
     "name": "stdout",
     "output_type": "stream",
     "text": [
      "Here is the first medical record[('mercy', 2456)]\n"
     ]
    }
   ],
   "source": [
    "# printing the first_medical_record \n",
    "print(\"Here is the first medical record\" + str(first_medical_record))"
   ]
  },
  {
   "cell_type": "code",
   "execution_count": 195,
   "id": "bb1492a2-5cc4-4ae5-b25c-b444d2f708df",
   "metadata": {},
   "outputs": [],
   "source": [
    "# sorting the medical_records so that the individuals with the lowest insurance cost appear at the start of the list \n",
    "medical_records.sort()"
   ]
  },
  {
   "cell_type": "code",
   "execution_count": 196,
   "id": "0e1d8018-9864-4cb1-99fd-b11e2fec7916",
   "metadata": {},
   "outputs": [
    {
     "data": {
      "text/plain": [
       "[('mercy', 2456), ('nyamoita', 5756), ('ogero', 7968)]"
      ]
     },
     "execution_count": 196,
     "metadata": {},
     "output_type": "execute_result"
    }
   ],
   "source": [
    "medical_records"
   ]
  },
  {
   "cell_type": "code",
   "execution_count": 197,
   "id": "900090bf-db74-44b1-a720-15ac6aaa5925",
   "metadata": {},
   "outputs": [
    {
     "data": {
      "text/plain": [
       "[('mercy', 2456), ('nyamoita', 5756), ('ogero', 7968)]"
      ]
     },
     "execution_count": 197,
     "metadata": {},
     "output_type": "execute_result"
    }
   ],
   "source": [
    "# I am now looking at the three cheapest insurance costs in the medical records \n",
    "cheapest_three = medical_records[:3]\n",
    "cheapest_three"
   ]
  },
  {
   "cell_type": "code",
   "execution_count": 198,
   "id": "3416024d-3f49-487e-b9ec-a5a1dc97cd03",
   "metadata": {},
   "outputs": [
    {
     "name": "stdout",
     "output_type": "stream",
     "text": [
      "here are the three cheapest insurance costs in our medical records[('mercy', 2456), ('nyamoita', 5756), ('ogero', 7968)]\n"
     ]
    }
   ],
   "source": [
    "print(\"here are the three cheapest insurance costs in our medical records\" + str(cheapest_three))"
   ]
  },
  {
   "cell_type": "code",
   "execution_count": 199,
   "id": "4b3a7aa4-4196-44b1-89b7-91c8914a9706",
   "metadata": {},
   "outputs": [
    {
     "data": {
      "text/plain": [
       "0"
      ]
     },
     "execution_count": 199,
     "metadata": {},
     "output_type": "execute_result"
    }
   ],
   "source": [
    "# Counting the occurences of a name in a list\n",
    "cheapest_three.count(\"mercy\")"
   ]
  },
  {
   "cell_type": "markdown",
   "id": "5f915298-d450-4a51-8eb9-fb3dd370cd2b",
   "metadata": {},
   "source": [
    "# MEDICAL INSURANCE ESTIMATES vs. COSTS PROJECT"
   ]
  },
  {
   "cell_type": "code",
   "execution_count": 200,
   "id": "d893078a-2095-4532-9b17-dd9ab0902140",
   "metadata": {},
   "outputs": [],
   "source": [
    "# Creating a varoable called total_cost and initializing the variable to 0 \n",
    "total_cost = 0"
   ]
  },
  {
   "cell_type": "code",
   "execution_count": 201,
   "id": "6701fa3e-9d46-4381-82ec-e13182e5b44f",
   "metadata": {},
   "outputs": [],
   "source": [
    "# creating a variable called names and assigning this names\n",
    "names = [\"mercy\", \"nyamoita\", \"ogero\"]"
   ]
  },
  {
   "cell_type": "code",
   "execution_count": 202,
   "id": "1ad2063f-a543-4cf6-a0dd-6afa70e908f1",
   "metadata": {},
   "outputs": [],
   "source": [
    "actual_insurance_costs = [5672, 57382, 271972]"
   ]
  },
  {
   "cell_type": "code",
   "execution_count": 203,
   "id": "05cd0dab-1716-46f6-b46f-78cbb7618359",
   "metadata": {},
   "outputs": [],
   "source": [
    "# using a for loop to iterate throuygh the actual_insurace-cost and adding each insurance_cost to the variable total_cost\n",
    "for insurance_cost in actual_insurance_costs:\n",
    "    total_cost+= insurance_cost"
   ]
  },
  {
   "cell_type": "code",
   "execution_count": 204,
   "id": "2ff4f1f6-a362-4854-9974-9bf1e0eeee39",
   "metadata": {},
   "outputs": [],
   "source": [
    "# creating a variable called average_cost that stoes total_cost divided by the length of the actual_insurance-costs list\n",
    "average_cost = total_cost/len(actual_insurance_costs)"
   ]
  },
  {
   "cell_type": "code",
   "execution_count": 205,
   "id": "9431996f-c09e-4596-aa34-935a70d686d4",
   "metadata": {},
   "outputs": [
    {
     "data": {
      "text/plain": [
       "111675.33333333333"
      ]
     },
     "execution_count": 205,
     "metadata": {},
     "output_type": "execute_result"
    }
   ],
   "source": [
    "average_cost"
   ]
  },
  {
   "cell_type": "code",
   "execution_count": 206,
   "id": "ce159703-c346-4c27-8f83-12338a91811d",
   "metadata": {},
   "outputs": [
    {
     "name": "stdout",
     "output_type": "stream",
     "text": [
      "Average Insurance_cost is 111675.33333333333\n"
     ]
    }
   ],
   "source": [
    "print(\"Average Insurance_cost is\" + \" \" + str(average_cost))"
   ]
  },
  {
   "cell_type": "code",
   "execution_count": 207,
   "id": "7b30cff1-c2ad-4399-b52d-aabee7aa7298",
   "metadata": {},
   "outputs": [
    {
     "name": "stdout",
     "output_type": "stream",
     "text": [
      "The insurance cost for mercy is 5672 dollars.\n",
      "The insurance cost for mercy is below average.\n",
      "The insurance cost for nyamoita is 57382 dollars.\n",
      "The insurance cost for nyamoita is below average.\n",
      "The insurance cost for ogero is 271972 dollars.\n",
      "The insurance cost for ogero is above average.\n"
     ]
    }
   ],
   "source": [
    "for i in range(len(names)):\n",
    "  name = names[i]\n",
    "  insurance_cost = actual_insurance_costs[i]\n",
    "  print(\"The insurance cost for \" + name + \" is \" + str(insurance_cost) + \" dollars.\")\n",
    "\n",
    "    # checks if insurance cost is above average\n",
    "  if insurance_cost > average_cost:\n",
    "    print(\"The insurance cost for \" + name + \" is above average.\")\n",
    "  \n",
    "  # checks if insurance cost is below average\n",
    "  elif insurance_cost < average_cost:\n",
    "    print(\"The insurance cost for \" + name + \" is below average.\")\n",
    "\n",
    "  # checks if insurance cost is equal to the average\n",
    "  else:\n",
    "    print(\"The insurance cost for \" + name + \" is equal to the average.\")"
   ]
  },
  {
   "cell_type": "code",
   "execution_count": 208,
   "id": "a4a1f2bd-b349-4dcd-ba44-a2bcac1f8f41",
   "metadata": {},
   "outputs": [
    {
     "name": "stdout",
     "output_type": "stream",
     "text": [
      "Loop is on the iteration number 1\n",
      "Loop is on the iteration number 2\n",
      "Loop is on the iteration number 3\n",
      "Loop is on the iteration number 4\n",
      "Loop is on the iteration number 5\n",
      "Loop is on the iteration number 6\n"
     ]
    }
   ],
   "source": [
    "for temp in range(1,7):\n",
    "    print(\"Loop is on the iteration number\", temp)"
   ]
  },
  {
   "cell_type": "code",
   "execution_count": null,
   "id": "6e65429a-2536-4bf2-9e82-0ea447d683aa",
   "metadata": {},
   "outputs": [],
   "source": []
  },
  {
   "cell_type": "code",
   "execution_count": null,
   "id": "051f4dcb-78fa-42f4-b206-17b59ce4114b",
   "metadata": {},
   "outputs": [],
   "source": []
  },
  {
   "cell_type": "code",
   "execution_count": null,
   "id": "f420e3ae-d93b-45cc-854c-bfe1e5da88ba",
   "metadata": {},
   "outputs": [],
   "source": []
  },
  {
   "cell_type": "code",
   "execution_count": null,
   "id": "94789624-9b92-4c76-b8b5-a8cd9ad74761",
   "metadata": {},
   "outputs": [],
   "source": []
  },
  {
   "cell_type": "markdown",
   "id": "91deb8f9-2942-42cc-80ac-b3b7499a85a7",
   "metadata": {},
   "source": [
    "# PYTHON FUNCTIONS"
   ]
  },
  {
   "cell_type": "code",
   "execution_count": 209,
   "id": "8fffecdb-6a48-4563-8edb-35c63c7d78da",
   "metadata": {},
   "outputs": [],
   "source": [
    "# I am estimating the medical insurance costs for two people namely Mercy and Blake.\n",
    "# Initial variables for Mercy\n",
    "age = 22\n",
    "sex = 0  \n",
    "bmi = 24.9\n",
    "num_of_children = 0\n",
    "smoker = 0  "
   ]
  },
  {
   "cell_type": "code",
   "execution_count": 210,
   "id": "dcfe1528-c8bd-4e41-9d4b-bcaa39e1b506",
   "metadata": {},
   "outputs": [],
   "source": [
    "# Inistial variables for Blake\n",
    "age = 25\n",
    "sex = 1   # ! represents male  \n",
    "bmi = 24\n",
    "num_of_children = 2\n",
    "smoker = 1"
   ]
  },
  {
   "cell_type": "code",
   "execution_count": 211,
   "id": "ff782063-241b-49d9-947e-08e3bad27bc2",
   "metadata": {},
   "outputs": [],
   "source": [
    "# Estimate Mercy's insurance cost\n",
    "insurance_cost = 250*age - 128*sex + 370*bmi + 425*num_of_children + 24000*smoker - 12500"
   ]
  },
  {
   "cell_type": "code",
   "execution_count": 212,
   "id": "b7ed644e-7461-4923-87f4-6795b6f0cf7d",
   "metadata": {},
   "outputs": [
    {
     "data": {
      "text/plain": [
       "27352"
      ]
     },
     "execution_count": 212,
     "metadata": {},
     "output_type": "execute_result"
    }
   ],
   "source": [
    "insurance_cost"
   ]
  },
  {
   "cell_type": "code",
   "execution_count": 213,
   "id": "eb2c3b88-71c6-4424-8d57-227dbc1eac56",
   "metadata": {},
   "outputs": [
    {
     "name": "stdout",
     "output_type": "stream",
     "text": [
      "The estimated insurance cost for Mercy is 27352 dollars.\n"
     ]
    }
   ],
   "source": [
    "print(\"The estimated insurance cost for Mercy is \" + str(insurance_cost) + \" dollars.\")"
   ]
  },
  {
   "cell_type": "code",
   "execution_count": 214,
   "id": "4c49e162-9718-4a36-a40a-82eca283e887",
   "metadata": {},
   "outputs": [
    {
     "name": "stdout",
     "output_type": "stream",
     "text": [
      "The estimated insurance cost for Blake is 27352 dollars.\n"
     ]
    }
   ],
   "source": [
    "print(f\"The estimated insurance cost for Blake is \" + str(insurance_cost) + \" dollars.\")"
   ]
  },
  {
   "cell_type": "code",
   "execution_count": 215,
   "id": "59cfeaec-dc9d-49cc-8bd9-a1aee7a9343e",
   "metadata": {},
   "outputs": [],
   "source": [
    "#defining the function called calculate_insurance_cost()\n",
    "# initializing the variable estimated_cost being equal to 0\n",
    "# I printed the statement to trge console and later returned the estimated cost \n",
    "def calculate_insurance_cost(age, sex, bmi, num_of_children, smoker):\n",
    "  estimated_cost = 1000\n",
    "  print (\"The estimated insurance cost for this person is + mercy_insurance_cost + dollars.\")\n",
    "  return estimated_cost"
   ]
  },
  {
   "cell_type": "code",
   "execution_count": 216,
   "id": "19716c02-9127-472c-a5e9-9001e3f3addb",
   "metadata": {},
   "outputs": [
    {
     "name": "stdout",
     "output_type": "stream",
     "text": [
      "The estimated insurance cost for this person is + mercy_insurance_cost + dollars.\n"
     ]
    }
   ],
   "source": [
    "# Renaming the insurance_cost to mercy_insurance_cost and set it equal to calculate_insurance_cost\n",
    "mercy_insurance_cost = calculate_insurance_cost(age = 28, sex = 0, bmi = 26.2, num_of_children = 3, smoker = 0)"
   ]
  },
  {
   "cell_type": "code",
   "execution_count": 217,
   "id": "ef3ec652-4341-44db-8e8b-d4003fc01fa7",
   "metadata": {},
   "outputs": [
    {
     "name": "stdout",
     "output_type": "stream",
     "text": [
      "The estimated insurance cost for this person is + mercy_insurance_cost + dollars.\n"
     ]
    },
    {
     "data": {
      "text/plain": [
       "1000"
      ]
     },
     "execution_count": 217,
     "metadata": {},
     "output_type": "execute_result"
    }
   ],
   "source": [
    "calculate_insurance_cost(22, 0, 24.47, 0, 0)"
   ]
  },
  {
   "cell_type": "markdown",
   "id": "7edc502d-e1eb-49ec-89f0-baa2266eb7aa",
   "metadata": {},
   "source": [
    "# PYTHON CONTROL FLOW "
   ]
  },
  {
   "cell_type": "code",
   "execution_count": 219,
   "id": "3dc9b481-b433-4fa7-b3ea-3500ce8b0817",
   "metadata": {},
   "outputs": [],
   "source": [
    "# Defining a function called analze smoker\n",
    "def analyze_smoker(smoker_status):\n",
    "    if smoker_status == 1:\n",
    "        print(\"To lower your cost, you should consider quitting smoking\")\n",
    "    else:\n",
    "        print(\"Smoking is not an issue for you\")\n"
   ]
  },
  {
   "cell_type": "code",
   "execution_count": 220,
   "id": "1a580243-62e5-42b8-8292-3eaa641e6478",
   "metadata": {},
   "outputs": [
    {
     "data": {
      "text/plain": [
       "<function __main__.analyze_smoker(smoker_status)>"
      ]
     },
     "execution_count": 220,
     "metadata": {},
     "output_type": "execute_result"
    }
   ],
   "source": [
    "analyze_smoker"
   ]
  },
  {
   "cell_type": "code",
   "execution_count": 221,
   "id": "17e3cf1d-cc2a-4620-bf63-634fafde97c8",
   "metadata": {},
   "outputs": [],
   "source": [
    "# Function to estimate insurance cost for Keanu\n",
    "def estimate_insurance_cost(name, age, sex, num_of_children, smoker):\n",
    "  estimated_cost = 400*age - 128*sex + 425*num_of_children + 10000*smoker - 2500\n",
    "  print(name + \"'s Estimated Insurance Cost: \" + str(estimated_cost) + \" dollars.\")\n",
    "  analyze_smoker(smoker)\n",
    "  return estimated_cost"
   ]
  },
  {
   "cell_type": "code",
   "execution_count": 222,
   "id": "e1c00b55-b720-4758-8b01-2c593dd01bae",
   "metadata": {},
   "outputs": [
    {
     "name": "stdout",
     "output_type": "stream",
     "text": [
      "Keanu's Estimated Insurance Cost: 20247 dollars.\n",
      "To lower your cost, you should consider quitting smoking\n"
     ]
    }
   ],
   "source": [
    "# Estimate Keanu's insurance cost\n",
    "keanu_insurance_cost = estimate_insurance_cost(name = 'Keanu', age = 29, sex = 1, num_of_children = 3, smoker = 1)"
   ]
  },
  {
   "cell_type": "code",
   "execution_count": 223,
   "id": "53178288-cf11-43ba-9384-846a0ef18098",
   "metadata": {},
   "outputs": [],
   "source": [
    "# function to estimate the insurance cost for Mercy Ogero"
   ]
  },
  {
   "cell_type": "code",
   "execution_count": 224,
   "id": "006e0613-c8fd-411c-9444-0e044fad1be7",
   "metadata": {},
   "outputs": [],
   "source": [
    "def estimate_insurance_cost_mercy(name, age, sex, num_of_children, smoker):\n",
    "  estimated_cost = 400*age - 128*sex + 425*num_of_children + 10000*smoker - 2500\n",
    "  print(name + \"'s Estimated Insurance Cost: \" + str(estimated_cost) + \" dollars.\")\n",
    "  analyze_smoker(smoker)\n",
    "  return estimated_cost"
   ]
  },
  {
   "cell_type": "code",
   "execution_count": 225,
   "id": "a433cfb1-8e94-4af5-a737-4b42e23e60bc",
   "metadata": {},
   "outputs": [
    {
     "name": "stdout",
     "output_type": "stream",
     "text": [
      "mercy's Estimated Insurance Cost: 6300 dollars.\n",
      "Smoking is not an issue for you\n"
     ]
    }
   ],
   "source": [
    "# Estimate Keanu's insurance cost\n",
    "mercy_insurance_cost = estimate_insurance_cost_mercy(name = 'mercy', age = 22, sex = 0, num_of_children = 0, smoker = 0)"
   ]
  },
  {
   "cell_type": "markdown",
   "id": "95afb99b-d63f-4caf-9229-986013389d09",
   "metadata": {},
   "source": [
    "# PYTHON SYNTAX PROJECT "
   ]
  },
  {
   "cell_type": "code",
   "execution_count": 226,
   "id": "c76cf23a-6559-4802-bbd0-b195dc4ce01c",
   "metadata": {},
   "outputs": [],
   "source": [
    "insurance_cost = 250 * age - 128 * sex + 370 * bmi + 425 * num_of_children + 24000 * smoker - 12500"
   ]
  },
  {
   "cell_type": "code",
   "execution_count": 227,
   "id": "c2a1940a-374e-48d7-85d1-40788fefdd27",
   "metadata": {},
   "outputs": [],
   "source": [
    "# initializing the variables\n",
    "age = 30\n",
    "sex = 1 # for male\n",
    "bmi = 25\n",
    "num_of_children = 2\n",
    "smoker = 1"
   ]
  },
  {
   "cell_type": "code",
   "execution_count": 228,
   "id": "9004f62e-5558-4ae6-989a-1b1f6b0d887f",
   "metadata": {},
   "outputs": [
    {
     "name": "stdout",
     "output_type": "stream",
     "text": [
      "This person`s insurance cost is + str(insurance_cost) dollars\n"
     ]
    }
   ],
   "source": [
    "print(\"This person`s insurance cost is + str(insurance_cost) dollars\")"
   ]
  },
  {
   "cell_type": "code",
   "execution_count": 229,
   "id": "4bd2fef1-0008-4360-a855-a8a97c5ec73c",
   "metadata": {},
   "outputs": [],
   "source": [
    "age += 4"
   ]
  },
  {
   "cell_type": "code",
   "execution_count": 230,
   "id": "b9ef9317-8aea-4712-ad40-23ef0bca6a11",
   "metadata": {},
   "outputs": [],
   "source": [
    "# calculating the new insurance cost\n",
    "new_insurance_cost = 250 * age - 128 * sex + 370 * bmi + 425 * num_of_children + 24000 * smoker - 12500\n"
   ]
  },
  {
   "cell_type": "code",
   "execution_count": 231,
   "id": "be57e12d-7e19-44cf-a552-ab93fed3850a",
   "metadata": {},
   "outputs": [],
   "source": [
    "# we want to see the difference between the insurance_cost and the change in the insurance_cost\n",
    "change_in_insurance_cost = new_insurance_cost - insurance_cost"
   ]
  },
  {
   "cell_type": "code",
   "execution_count": 232,
   "id": "e494fe72-4f25-4ecb-b857-54ae5bdc36b9",
   "metadata": {},
   "outputs": [
    {
     "name": "stdout",
     "output_type": "stream",
     "text": [
      "The change in insurance after increasing the age by 4 years is 2620 dollars\n"
     ]
    }
   ],
   "source": [
    "print(\"The change in insurance after increasing the age by 4 years is\" + \" \" + str(change_in_insurance_cost) + \" \" + \"dollars\")"
   ]
  },
  {
   "cell_type": "markdown",
   "id": "8ae94894-3a3e-40ef-9c58-736ccf46fa9e",
   "metadata": {},
   "source": [
    "#### BMI FACTOR"
   ]
  },
  {
   "cell_type": "code",
   "execution_count": 233,
   "id": "0ab24b26-6d9e-48fb-b159-e3d69ebabef5",
   "metadata": {},
   "outputs": [],
   "source": [
    "age = 45"
   ]
  },
  {
   "cell_type": "code",
   "execution_count": 234,
   "id": "a2fb601a-4ae8-4768-8dc4-bc9e72f00a7f",
   "metadata": {},
   "outputs": [
    {
     "data": {
      "text/plain": [
       "45"
      ]
     },
     "execution_count": 234,
     "metadata": {},
     "output_type": "execute_result"
    }
   ],
   "source": [
    "age"
   ]
  },
  {
   "cell_type": "code",
   "execution_count": 235,
   "id": "29020512-a847-4934-ae70-0cc75270b3a7",
   "metadata": {},
   "outputs": [],
   "source": [
    "age += 3.1"
   ]
  },
  {
   "cell_type": "code",
   "execution_count": 236,
   "id": "033d5432-bedd-4e05-ace1-6f07879dfa69",
   "metadata": {},
   "outputs": [
    {
     "data": {
      "text/plain": [
       "48.1"
      ]
     },
     "execution_count": 236,
     "metadata": {},
     "output_type": "execute_result"
    }
   ],
   "source": [
    "age"
   ]
  },
  {
   "cell_type": "code",
   "execution_count": 237,
   "id": "b95afa5c-fd32-4a0e-82e2-89b8348c67cf",
   "metadata": {},
   "outputs": [],
   "source": [
    "# writing the insurance cost formulae and equating it to the variable name called new_insurance_cost\n",
    "new_insurance_cost = 250 * age - 128 * sex + 370 * bmi + 425 * num_of_children + 24000 * smoker - 12500"
   ]
  },
  {
   "cell_type": "code",
   "execution_count": 238,
   "id": "0de22e01-c92a-4e88-a95a-39a8c903f45c",
   "metadata": {},
   "outputs": [],
   "source": [
    "change_in_insurance_cost = new_insurance_cost - insurance_cost"
   ]
  },
  {
   "cell_type": "code",
   "execution_count": 239,
   "id": "8d9bc302-1523-4b48-9a6c-94205af2bb5a",
   "metadata": {},
   "outputs": [
    {
     "name": "stdout",
     "output_type": "stream",
     "text": [
      "The change in estimated insurance cost after increasing the BMI by 3.1 is 6145.0 dollars\n"
     ]
    }
   ],
   "source": [
    "print(\"The change in estimated insurance cost after increasing the BMI by 3.1 is\" + \" \" + str(change_in_insurance_cost) + \" \" + \"dollars\")"
   ]
  },
  {
   "cell_type": "code",
   "execution_count": 240,
   "id": "4bde68d8-accc-4a45-937b-0e1793621347",
   "metadata": {},
   "outputs": [],
   "source": [
    "# Assingning the bmi value back to its original value \n",
    "bmi = 26.2"
   ]
  },
  {
   "cell_type": "code",
   "execution_count": 241,
   "id": "cf3ae899-e7b8-4e8a-a3c3-b15eab56a803",
   "metadata": {},
   "outputs": [],
   "source": [
    "# Assigning the variable sex to its original value of 1 \n",
    "# 1 represents male while 0 represents female\n",
    "sex = 1"
   ]
  },
  {
   "cell_type": "code",
   "execution_count": 242,
   "id": "b011c8a7-f6d0-49c2-8681-25fbf783f084",
   "metadata": {},
   "outputs": [],
   "source": [
    "# writing the insurance cost formulae and equating it to the variable name called change_in_insurance_cost\n",
    "change_in_insurance_cost = 250 * age - 128 * sex + 370 * bmi + 425 * num_of_children + 24000 * smoker - 12500"
   ]
  },
  {
   "cell_type": "code",
   "execution_count": 243,
   "id": "8fff65f0-d2ab-46d3-81cb-04f97a96d757",
   "metadata": {},
   "outputs": [
    {
     "name": "stdout",
     "output_type": "stream",
     "text": [
      "The change in the estimated cost for being a male instead of being a female is 33941.0dollars\n"
     ]
    }
   ],
   "source": [
    "print(\"The change in the estimated cost for being a male instead of being a female is\" + \" \" + str(change_in_insurance_cost) + \"dollars\")"
   ]
  },
  {
   "cell_type": "code",
   "execution_count": null,
   "id": "aae7b57f-18b6-44b4-8623-88383ea99c27",
   "metadata": {},
   "outputs": [],
   "source": []
  },
  {
   "cell_type": "code",
   "execution_count": null,
   "id": "4ebbf3a1-a669-4802-8ff9-a879d6bcb0a4",
   "metadata": {},
   "outputs": [],
   "source": []
  },
  {
   "cell_type": "code",
   "execution_count": null,
   "id": "afa52144-8235-4764-b9ec-a9de0c7fafba",
   "metadata": {},
   "outputs": [],
   "source": []
  },
  {
   "cell_type": "code",
   "execution_count": null,
   "id": "dbff9693-94e7-4695-9cd1-14eff62f4a1b",
   "metadata": {},
   "outputs": [],
   "source": []
  },
  {
   "cell_type": "code",
   "execution_count": null,
   "id": "81dc62ef-a3b0-4d47-9ac0-b2e347f0f44f",
   "metadata": {},
   "outputs": [],
   "source": []
  }
 ],
 "metadata": {
  "kernelspec": {
   "display_name": "Python 3 (ipykernel)",
   "language": "python",
   "name": "python3"
  },
  "language_info": {
   "codemirror_mode": {
    "name": "ipython",
    "version": 3
   },
   "file_extension": ".py",
   "mimetype": "text/x-python",
   "name": "python",
   "nbconvert_exporter": "python",
   "pygments_lexer": "ipython3",
   "version": "3.11.7"
  }
 },
 "nbformat": 4,
 "nbformat_minor": 5
}
