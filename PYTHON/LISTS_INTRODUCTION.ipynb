{
 "cells": [
  {
   "cell_type": "markdown",
   "id": "fba3f016-d05a-4c5d-9930-acebe580fdaa",
   "metadata": {},
   "source": [
    "## INTRODUCTION TO LISTS"
   ]
  },
  {
   "cell_type": "code",
   "execution_count": 20,
   "id": "95fa3390-1a97-48fc-b6b1-c433d63537b0",
   "metadata": {},
   "outputs": [],
   "source": [
    "## Create an empty list object\n",
    "Shopping_basket = []"
   ]
  },
  {
   "cell_type": "code",
   "execution_count": 21,
   "id": "ea5a3e20-657c-4d49-a655-cf1e25799a1d",
   "metadata": {},
   "outputs": [
    {
     "data": {
      "text/plain": [
       "list"
      ]
     },
     "execution_count": 21,
     "metadata": {},
     "output_type": "execute_result"
    }
   ],
   "source": [
    "type(Shopping_basket)"
   ]
  },
  {
   "cell_type": "code",
   "execution_count": 32,
   "id": "212b472e-d3c7-4b0f-99c6-0bf8c9130f99",
   "metadata": {},
   "outputs": [],
   "source": [
    "Shopping_basket.append(\"Flour\")"
   ]
  },
  {
   "cell_type": "code",
   "execution_count": 33,
   "id": "1fd46cbf-61e1-40a0-9f1a-bc9b4690cf55",
   "metadata": {},
   "outputs": [
    {
     "data": {
      "text/plain": [
       "['Flour',\n",
       " 'Flour',\n",
       " 'Flour',\n",
       " ['Sugar', 'Cooking Oil', 'Bread'],\n",
       " ['Sugar', 'Cooking Oil', 'Bread'],\n",
       " ['Sugar', 'Cooking Oil', 'Bread'],\n",
       " 'Flour',\n",
       " 'Flour']"
      ]
     },
     "execution_count": 33,
     "metadata": {},
     "output_type": "execute_result"
    }
   ],
   "source": [
    "Shopping_basket"
   ]
  },
  {
   "cell_type": "code",
   "execution_count": 29,
   "id": "976978b2-c616-438a-a665-804564f44c68",
   "metadata": {
    "scrolled": true
   },
   "outputs": [],
   "source": [
    "# add more than one item to a list object\n",
    "Shopping_basket.append([\"Sugar\", \"Cooking Oil\", \"Bread\"])"
   ]
  },
  {
   "cell_type": "code",
   "execution_count": null,
   "id": "0120986b-bedf-46fe-868d-51a3a7c996d3",
   "metadata": {},
   "outputs": [],
   "source": [
    "Shopping_basket_2"
   ]
  },
  {
   "cell_type": "code",
   "execution_count": 30,
   "id": "e432f60f-83bb-438e-8982-83f3316bac06",
   "metadata": {},
   "outputs": [
    {
     "ename": "NameError",
     "evalue": "name 'Shopping_basket_2' is not defined",
     "output_type": "error",
     "traceback": [
      "\u001b[1;31m---------------------------------------------------------------------------\u001b[0m",
      "\u001b[1;31mNameError\u001b[0m                                 Traceback (most recent call last)",
      "Cell \u001b[1;32mIn[30], line 1\u001b[0m\n\u001b[1;32m----> 1\u001b[0m Shopping_basket_2\u001b[38;5;241m.\u001b[39mappend(\u001b[38;5;124m\"\u001b[39m\u001b[38;5;124mCooking Oil\u001b[39m\u001b[38;5;124m\"\u001b[39m)\n",
      "\u001b[1;31mNameError\u001b[0m: name 'Shopping_basket_2' is not defined"
     ]
    }
   ],
   "source": [
    "Shopping_basket_2.append(\"Cooking Oil\")"
   ]
  },
  {
   "cell_type": "code",
   "execution_count": 34,
   "id": "76658ade-42d1-435d-af33-3531d60484a9",
   "metadata": {},
   "outputs": [],
   "source": [
    "# empty the basket\n",
    "Shopping_basket.clear()"
   ]
  },
  {
   "cell_type": "code",
   "execution_count": 35,
   "id": "f9697ece-3a92-4455-b1c6-03d8c99dfe74",
   "metadata": {},
   "outputs": [
    {
     "data": {
      "text/plain": [
       "[]"
      ]
     },
     "execution_count": 35,
     "metadata": {},
     "output_type": "execute_result"
    }
   ],
   "source": [
    "Shopping_basket"
   ]
  },
  {
   "cell_type": "code",
   "execution_count": 36,
   "id": "b7dd9301-4fe9-4657-b71d-cad4058d9209",
   "metadata": {},
   "outputs": [],
   "source": [
    "Shopping_basket = []"
   ]
  },
  {
   "cell_type": "code",
   "execution_count": 37,
   "id": "b7c9b51e-1b56-4269-af6e-21eee734c05e",
   "metadata": {},
   "outputs": [
    {
     "data": {
      "text/plain": [
       "list"
      ]
     },
     "execution_count": 37,
     "metadata": {},
     "output_type": "execute_result"
    }
   ],
   "source": [
    "type(Shopping_basket)"
   ]
  },
  {
   "cell_type": "code",
   "execution_count": 38,
   "id": "344de30f-9e69-43b0-8fb7-2759378723a2",
   "metadata": {},
   "outputs": [
    {
     "data": {
      "text/plain": [
       "[]"
      ]
     },
     "execution_count": 38,
     "metadata": {},
     "output_type": "execute_result"
    }
   ],
   "source": [
    "Shopping_basket"
   ]
  },
  {
   "cell_type": "code",
   "execution_count": 43,
   "id": "bb9a9a73-2277-470b-b22e-910d9e9ce995",
   "metadata": {},
   "outputs": [],
   "source": [
    "Shopping_basket.append(\"Flour\")"
   ]
  },
  {
   "cell_type": "code",
   "execution_count": 44,
   "id": "a00fd4b3-8cad-4b2e-a252-7b94cd6c237f",
   "metadata": {},
   "outputs": [
    {
     "data": {
      "text/plain": [
       "['Flour', 'Flour', 'Flour']"
      ]
     },
     "execution_count": 44,
     "metadata": {},
     "output_type": "execute_result"
    }
   ],
   "source": [
    "Shopping_basket"
   ]
  },
  {
   "cell_type": "code",
   "execution_count": 45,
   "id": "a8541bf0-02e9-4627-a08e-b4862ba37900",
   "metadata": {},
   "outputs": [],
   "source": [
    "# empty the basket\n",
    "Shopping_basket.clear()"
   ]
  },
  {
   "cell_type": "code",
   "execution_count": 46,
   "id": "36115f8d-68eb-4f8c-986b-a30ea8d6791d",
   "metadata": {},
   "outputs": [
    {
     "data": {
      "text/plain": [
       "[]"
      ]
     },
     "execution_count": 46,
     "metadata": {},
     "output_type": "execute_result"
    }
   ],
   "source": [
    "Shopping_basket"
   ]
  },
  {
   "cell_type": "code",
   "execution_count": 47,
   "id": "f12e1d0b-40e0-49e0-bf62-add3d209187f",
   "metadata": {},
   "outputs": [
    {
     "data": {
      "text/plain": [
       "list"
      ]
     },
     "execution_count": 47,
     "metadata": {},
     "output_type": "execute_result"
    }
   ],
   "source": [
    "type(Shopping_basket)"
   ]
  },
  {
   "cell_type": "code",
   "execution_count": 48,
   "id": "2e34432b-39ab-4653-8fe8-e3f5ebf84455",
   "metadata": {},
   "outputs": [],
   "source": [
    "Shopping_basket.append(\"Flour\")"
   ]
  },
  {
   "cell_type": "code",
   "execution_count": 49,
   "id": "10161a7a-eda6-41aa-b4d0-4eda14061f4a",
   "metadata": {},
   "outputs": [
    {
     "data": {
      "text/plain": [
       "['Flour']"
      ]
     },
     "execution_count": 49,
     "metadata": {},
     "output_type": "execute_result"
    }
   ],
   "source": [
    "Shopping_basket"
   ]
  },
  {
   "cell_type": "code",
   "execution_count": 52,
   "id": "7361f0e3-f29b-4a06-a759-f7a3c9cec8dc",
   "metadata": {},
   "outputs": [],
   "source": [
    "Shopping_basket.append([\"Sugar\",\"Cooking Oil\",\"Bread\"])"
   ]
  },
  {
   "cell_type": "code",
   "execution_count": 53,
   "id": "20c163a3-80cd-4cee-85b1-8db67cec81a0",
   "metadata": {},
   "outputs": [
    {
     "data": {
      "text/plain": [
       "['Flour', ['Sugar', 'Cooking Oil', 'Bread']]"
      ]
     },
     "execution_count": 53,
     "metadata": {},
     "output_type": "execute_result"
    }
   ],
   "source": [
    "Shopping_basket"
   ]
  },
  {
   "cell_type": "code",
   "execution_count": 54,
   "id": "d982d097-177e-4fe1-af9c-2817bed5489a",
   "metadata": {},
   "outputs": [],
   "source": [
    "# let's remove an item from the list\n",
    "Shopping_basket.remove(\"Flour\")"
   ]
  },
  {
   "cell_type": "code",
   "execution_count": 55,
   "id": "66633138-ddf3-4e19-ac2c-8d2e8f62ce3b",
   "metadata": {},
   "outputs": [
    {
     "data": {
      "text/plain": [
       "[['Sugar', 'Cooking Oil', 'Bread']]"
      ]
     },
     "execution_count": 55,
     "metadata": {},
     "output_type": "execute_result"
    }
   ],
   "source": [
    "Shopping_basket"
   ]
  },
  {
   "cell_type": "code",
   "execution_count": null,
   "id": "c88bb3bd-122a-427f-8741-4441ef4b2058",
   "metadata": {},
   "outputs": [],
   "source": []
  }
 ],
 "metadata": {
  "kernelspec": {
   "display_name": "Python 3 (ipykernel)",
   "language": "python",
   "name": "python3"
  },
  "language_info": {
   "codemirror_mode": {
    "name": "ipython",
    "version": 3
   },
   "file_extension": ".py",
   "mimetype": "text/x-python",
   "name": "python",
   "nbconvert_exporter": "python",
   "pygments_lexer": "ipython3",
   "version": "3.11.7"
  }
 },
 "nbformat": 4,
 "nbformat_minor": 5
}
