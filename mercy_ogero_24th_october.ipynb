{
  "nbformat": 4,
  "nbformat_minor": 0,
  "metadata": {
    "colab": {
      "provenance": [],
      "authorship_tag": "ABX9TyOhNLfwJT/Fq00Xh5GKNizM",
      "include_colab_link": true
    },
    "kernelspec": {
      "name": "python3",
      "display_name": "Python 3"
    },
    "language_info": {
      "name": "python"
    }
  },
  "cells": [
    {
      "cell_type": "markdown",
      "metadata": {
        "id": "view-in-github",
        "colab_type": "text"
      },
      "source": [
        "<a href=\"https://colab.research.google.com/github/ogeromerci/ogeromerci.github.io/blob/master/mercy_ogero_24th_october.ipynb\" target=\"_parent\"><img src=\"https://colab.research.google.com/assets/colab-badge.svg\" alt=\"Open In Colab\"/></a>"
      ]
    },
    {
      "cell_type": "code",
      "execution_count": null,
      "metadata": {
        "colab": {
          "base_uri": "https://localhost:8080/"
        },
        "id": "O58dr74DGogR",
        "outputId": "a0de818f-62fa-400f-baac-d321d779725d"
      },
      "outputs": [
        {
          "output_type": "stream",
          "name": "stdout",
          "text": [
            "hello, world\n"
          ]
        }
      ],
      "source": [
        "# Write a python statement to display the sentence \"Hello, world \"\n",
        "print(\"hello, world\")"
      ]
    },
    {
      "cell_type": "code",
      "source": [
        "# write a list of 5 objects and display it in the screen\n",
        "objects = ['car','cup', 'plate', 'spoon','fork']\n",
        "objects"
      ],
      "metadata": {
        "colab": {
          "base_uri": "https://localhost:8080/"
        },
        "id": "ODi97_I4IA0e",
        "outputId": "cd9a9a5b-9bdc-496b-e025-56094624a4ea"
      },
      "execution_count": null,
      "outputs": [
        {
          "output_type": "execute_result",
          "data": {
            "text/plain": [
              "['car', 'cup', 'plate', 'spoon', 'fork']"
            ]
          },
          "metadata": {},
          "execution_count": 2
        }
      ]
    },
    {
      "cell_type": "code",
      "source": [
        "# Create two strings and concantenate them to a thir string\n",
        "first_string = \"mercy\"\n",
        "second_string = \"ogero\"\n",
        "combined_string = first_string + second_string\n",
        "combined_string"
      ],
      "metadata": {
        "colab": {
          "base_uri": "https://localhost:8080/"
        },
        "id": "xjeQtTByIhcX",
        "outputId": "381089d2-201e-4ea0-9427-3ceeb5b9eda5"
      },
      "execution_count": null,
      "outputs": [
        {
          "output_type": "execute_result",
          "data": {
            "text/plain": [
              "'mercyogero'"
            ],
            "application/vnd.google.colaboratory.intrinsic+json": {
              "type": "string"
            }
          },
          "metadata": {},
          "execution_count": 4
        }
      ]
    },
    {
      "cell_type": "code",
      "source": [
        "# Creating a tupple element\n",
        "tup = (1,2,2,3,4,4,5)\n",
        "# using the count function to find the number of times four appears\n",
        "counting = tup.count(4)\n",
        "counting"
      ],
      "metadata": {
        "id": "AUBqsCrOIvMr",
        "colab": {
          "base_uri": "https://localhost:8080/"
        },
        "outputId": "4831361b-ffd5-4b2e-c742-bd2167d835f8"
      },
      "execution_count": 2,
      "outputs": [
        {
          "output_type": "execute_result",
          "data": {
            "text/plain": [
              "2"
            ]
          },
          "metadata": {},
          "execution_count": 2
        }
      ]
    },
    {
      "cell_type": "code",
      "source": [
        "# Creating an empty dictionary and displaying it on the screen\n",
        "dict = []\n",
        "dict"
      ],
      "metadata": {
        "colab": {
          "base_uri": "https://localhost:8080/"
        },
        "id": "BU7lP217PlhJ",
        "outputId": "76fa7be8-6a93-4338-822c-7e1114f10cb6"
      },
      "execution_count": 3,
      "outputs": [
        {
          "output_type": "execute_result",
          "data": {
            "text/plain": [
              "[]"
            ]
          },
          "metadata": {},
          "execution_count": 3
        }
      ]
    },
    {
      "cell_type": "code",
      "source": [
        "# Creating a dictionary with 3 keys and 3 values\n",
        "my_dict = {\"name\":\"mercy\",\n",
        "           \"age\": 24,\n",
        "           \"colour\": \"pink\"}\n",
        "my_dict"
      ],
      "metadata": {
        "colab": {
          "base_uri": "https://localhost:8080/"
        },
        "id": "ULwWwhRwP8b9",
        "outputId": "d62672e4-68a7-435f-f170-8bac6a1dca2d"
      },
      "execution_count": 6,
      "outputs": [
        {
          "output_type": "execute_result",
          "data": {
            "text/plain": [
              "{'name': 'mercy', 'age': 24, 'colour': 'pink'}"
            ]
          },
          "metadata": {},
          "execution_count": 6
        }
      ]
    },
    {
      "cell_type": "code",
      "source": [
        "# Adding an additional element and displaying it on the screen\n",
        "my_dict[\"country\"] = \"Kenya\"\n",
        "my_dict"
      ],
      "metadata": {
        "colab": {
          "base_uri": "https://localhost:8080/"
        },
        "id": "P-lVmyGaQa-Y",
        "outputId": "082bab04-6982-4c39-9963-b334566a565c"
      },
      "execution_count": 7,
      "outputs": [
        {
          "output_type": "execute_result",
          "data": {
            "text/plain": [
              "{'name': 'mercy', 'age': 24, 'colour': 'pink', 'country': 'Kenya'}"
            ]
          },
          "metadata": {},
          "execution_count": 7
        }
      ]
    },
    {
      "cell_type": "code",
      "source": [
        "# Creating a dictionary with 3 keys and 3 values where one of the values in a list containing two numeric elements\n",
        "mercy = {\"name\":\"mercy\",\n",
        "           \"age\": 24,\n",
        "           \"scores\":[16,15],\n",
        "           \"colour\": \"pink\"}\n",
        "mercy"
      ],
      "metadata": {
        "colab": {
          "base_uri": "https://localhost:8080/"
        },
        "id": "p-smMK0uRB6l",
        "outputId": "b83552ae-b1b1-40dc-e13b-84116a6b5d71"
      },
      "execution_count": 9,
      "outputs": [
        {
          "output_type": "execute_result",
          "data": {
            "text/plain": [
              "{'name': 'mercy', 'age': 24, 'scores': [16, 15], 'colour': 'pink'}"
            ]
          },
          "metadata": {},
          "execution_count": 9
        }
      ]
    },
    {
      "cell_type": "code",
      "source": [
        "# Creating a list of 4 elements\n",
        "# first element should be a string\n",
        "# second element should be a tupple with two elements\n",
        "# third element should be a dictionary with two keys and two values\n",
        "# fourth value should be a float\n",
        "new_list = [\"Kenya\", (3,5), {\"name\": \"mercy\", \"age\":24}, 40.0]\n",
        "new_list"
      ],
      "metadata": {
        "colab": {
          "base_uri": "https://localhost:8080/"
        },
        "id": "NTJtTGTrRmNQ",
        "outputId": "9409ffba-3757-4bc5-aeaa-3ce3015e13a1"
      },
      "execution_count": 11,
      "outputs": [
        {
          "output_type": "execute_result",
          "data": {
            "text/plain": [
              "['Kenya', (3, 5), {'name': 'mercy', 'age': 24}, 40.0]"
            ]
          },
          "metadata": {},
          "execution_count": 11
        }
      ]
    },
    {
      "cell_type": "code",
      "source": [
        "## EXERCISE 2"
      ],
      "metadata": {
        "id": "6NeTBMFlSGo7"
      },
      "execution_count": 12,
      "outputs": []
    },
    {
      "cell_type": "code",
      "source": [
        "# Displaying the first 10 numbers using while loop\n",
        "i = 1\n",
        "while i <= 10:\n",
        "  print(i)\n",
        "  i += 1"
      ],
      "metadata": {
        "colab": {
          "base_uri": "https://localhost:8080/"
        },
        "id": "VT3i9pAAStfE",
        "outputId": "b7f2b334-68b6-4cc5-a942-1ae2f43ae90d"
      },
      "execution_count": 13,
      "outputs": [
        {
          "output_type": "stream",
          "name": "stdout",
          "text": [
            "1\n",
            "2\n",
            "3\n",
            "4\n",
            "5\n",
            "6\n",
            "7\n",
            "8\n",
            "9\n",
            "10\n"
          ]
        }
      ]
    },
    {
      "cell_type": "code",
      "source": [
        "k = 19\n",
        "addition = sum(range(1, k + 1))\n",
        "print(addition)\n"
      ],
      "metadata": {
        "colab": {
          "base_uri": "https://localhost:8080/",
          "height": 176
        },
        "id": "v8UxRDznTKLs",
        "outputId": "b11e77d2-a390-4326-e79a-eb4008ff671b"
      },
      "execution_count": 29,
      "outputs": [
        {
          "output_type": "error",
          "ename": "TypeError",
          "evalue": "'int' object is not callable",
          "traceback": [
            "\u001b[0;31m---------------------------------------------------------------------------\u001b[0m",
            "\u001b[0;31mTypeError\u001b[0m                                 Traceback (most recent call last)",
            "\u001b[0;32m<ipython-input-29-fdaada3411a3>\u001b[0m in \u001b[0;36m<cell line: 0>\u001b[0;34m()\u001b[0m\n\u001b[1;32m      1\u001b[0m \u001b[0mk\u001b[0m \u001b[0;34m=\u001b[0m \u001b[0;36m19\u001b[0m\u001b[0;34m\u001b[0m\u001b[0;34m\u001b[0m\u001b[0m\n\u001b[0;32m----> 2\u001b[0;31m \u001b[0maddition\u001b[0m \u001b[0;34m=\u001b[0m \u001b[0msum\u001b[0m\u001b[0;34m(\u001b[0m\u001b[0mrange\u001b[0m\u001b[0;34m(\u001b[0m\u001b[0;36m1\u001b[0m\u001b[0;34m,\u001b[0m \u001b[0mk\u001b[0m \u001b[0;34m+\u001b[0m \u001b[0;36m1\u001b[0m\u001b[0;34m)\u001b[0m\u001b[0;34m)\u001b[0m\u001b[0;34m\u001b[0m\u001b[0;34m\u001b[0m\u001b[0m\n\u001b[0m\u001b[1;32m      3\u001b[0m \u001b[0mprint\u001b[0m\u001b[0;34m(\u001b[0m\u001b[0maddition\u001b[0m\u001b[0;34m)\u001b[0m\u001b[0;34m\u001b[0m\u001b[0;34m\u001b[0m\u001b[0m\n",
            "\u001b[0;31mTypeError\u001b[0m: 'int' object is not callable"
          ]
        }
      ]
    },
    {
      "cell_type": "code",
      "source": [
        "# Displaying the multiplication of a given number (7)\n",
        "numbers = 7\n",
        "for i in range(1, 11):\n",
        "    print(f\"{numbers} x {i} = {numbers * i}\")"
      ],
      "metadata": {
        "colab": {
          "base_uri": "https://localhost:8080/"
        },
        "id": "eEYubISrTuzX",
        "outputId": "52925ef6-4eb0-476c-d35d-0c23c2cda513"
      },
      "execution_count": 31,
      "outputs": [
        {
          "output_type": "stream",
          "name": "stdout",
          "text": [
            "7 x 1 = 7\n",
            "7 x 2 = 14\n",
            "7 x 3 = 21\n",
            "7 x 4 = 28\n",
            "7 x 5 = 35\n",
            "7 x 6 = 42\n",
            "7 x 7 = 49\n",
            "7 x 8 = 56\n",
            "7 x 9 = 63\n",
            "7 x 10 = 70\n"
          ]
        }
      ]
    },
    {
      "cell_type": "code",
      "source": [
        "# Displaying a list of reverse order using a loop [1,2,3,9,17,-2]\n",
        "list = [1,2,3,9,17,-2]\n",
        "for i in range(len(list) - 1, -1, -1):\n",
        "    print(list[i])"
      ],
      "metadata": {
        "colab": {
          "base_uri": "https://localhost:8080/"
        },
        "id": "-02XM-DPVCx5",
        "outputId": "dd3891b2-9357-4629-e404-5756f2cf6475"
      },
      "execution_count": 34,
      "outputs": [
        {
          "output_type": "stream",
          "name": "stdout",
          "text": [
            "-2\n",
            "17\n",
            "9\n",
            "3\n",
            "2\n",
            "1\n"
          ]
        }
      ]
    },
    {
      "cell_type": "code",
      "source": [
        "# printing numbers from - 10 to -1 using a for loop\n",
        "for i in range(-10, 0):\n",
        "    print(i)"
      ],
      "metadata": {
        "colab": {
          "base_uri": "https://localhost:8080/"
        },
        "id": "T1lVl_xqWtMO",
        "outputId": "355dec4d-05b6-4bda-c1d3-fa4e7c264220"
      },
      "execution_count": 35,
      "outputs": [
        {
          "output_type": "stream",
          "name": "stdout",
          "text": [
            "-10\n",
            "-9\n",
            "-8\n",
            "-7\n",
            "-6\n",
            "-5\n",
            "-4\n",
            "-3\n",
            "-2\n",
            "-1\n"
          ]
        }
      ]
    },
    {
      "cell_type": "code",
      "source": [
        "# reversing a given number (5412)\n",
        "number = 5412\n",
        "reversed_number = int(str(number)[::-1])\n",
        "print(reversed_number)"
      ],
      "metadata": {
        "colab": {
          "base_uri": "https://localhost:8080/"
        },
        "id": "Aexie9eQXVPT",
        "outputId": "b66c6460-ed1a-4550-b7a7-2aeffd7a070a"
      },
      "execution_count": 38,
      "outputs": [
        {
          "output_type": "stream",
          "name": "stdout",
          "text": [
            "2145\n"
          ]
        }
      ]
    },
    {
      "cell_type": "code",
      "source": [
        "# Writing a program to Write a program using a for loop to display the following reverse number pattern\n",
        "for i in range(5, 2, -1):\n",
        "    for j in range(i, 0, -1):\n",
        "        print(j, end=\" \")\n",
        "    print()\n"
      ],
      "metadata": {
        "colab": {
          "base_uri": "https://localhost:8080/"
        },
        "id": "RrCnH3z7Y-MM",
        "outputId": "d88724ec-3593-403c-ee27-61b43eaf2b53"
      },
      "execution_count": 40,
      "outputs": [
        {
          "output_type": "stream",
          "name": "stdout",
          "text": [
            "5 4 3 2 1 \n",
            "4 3 2 1 \n",
            "3 2 1 \n"
          ]
        }
      ]
    },
    {
      "cell_type": "code",
      "source": [
        "# Exercise 3\n"
      ],
      "metadata": {
        "id": "YdMyVOqRZ2VR"
      },
      "execution_count": 41,
      "outputs": []
    },
    {
      "cell_type": "code",
      "source": [
        "# 1. Writing a python program to calculate the number of days required for the water level to drop below 1 metre\n",
        "# Initializing the height of a well\n",
        "height = 10\n",
        "decrease_rate = 0.2\n",
        "days = 0\n",
        "\n",
        "while height >=1:\n",
        "  height = height * 0.98\n",
        "  days += 1\n",
        "\n",
        "print(f\"It will take {days} days for the water level to drop\")"
      ],
      "metadata": {
        "colab": {
          "base_uri": "https://localhost:8080/"
        },
        "id": "nsdDN5dCaRKr",
        "outputId": "6af387f4-6697-4515-fd38-62239c688324"
      },
      "execution_count": 77,
      "outputs": [
        {
          "output_type": "stream",
          "name": "stdout",
          "text": [
            "It will take 114 days for the water level to drop\n"
          ]
        }
      ]
    },
    {
      "cell_type": "code",
      "source": [
        "# 2. In a game of chance, a player rolls a fair die. If the die lands on 5 or 6, the player wins; otherwise, they lose.\n",
        "# A. Writing a function that simulates the experiment n times and returns the  number of times the player won.\n",
        "import random\n",
        "\n",
        "def roll_die(n):\n",
        "    wins = 0\n",
        "    for _ in range(n):\n",
        "        roll = random.randint(1, 6)  # Roll the die (1 to 6)\n",
        "        if roll == 5 or roll == 6:\n",
        "            wins += 1  # Increase wins if 5 or 6 is rolled\n",
        "    return wins\n",
        "\n",
        "# Example: Simulate 100 rolls\n",
        "n = 100\n",
        "wins = roll_die(n)\n",
        "print(f\"Player won {wins} times out of {n} rolls.\")\n"
      ],
      "metadata": {
        "colab": {
          "base_uri": "https://localhost:8080/"
        },
        "id": "OmwKH0HkbCIJ",
        "outputId": "b090b003-1026-4c4b-e9e5-b1d4a7168fe1"
      },
      "execution_count": 74,
      "outputs": [
        {
          "output_type": "stream",
          "name": "stdout",
          "text": [
            "Player won 35 times out of 100 rolls.\n"
          ]
        }
      ]
    },
    {
      "cell_type": "code",
      "source": [
        "# Modify the first function so that it returns the frequency of cases where the  player won instead What happens as n increases?\n",
        "def roll_die_frequency(n):\n",
        "    wins = 0\n",
        "    for _ in range(n):\n",
        "        roll = random.randint(1, 6)\n",
        "        if roll == 5 or roll == 6:\n",
        "            wins += 1\n",
        "    return wins / n  # Return frequency of wins\n",
        "\n",
        "# Example: Simulate 100 rolls\n",
        "n = 100\n",
        "frequency = roll_die_frequency(n)\n",
        "print(f\"The frequency of wins after {n} rolls is: {frequency:.2f}\")\n"
      ],
      "metadata": {
        "colab": {
          "base_uri": "https://localhost:8080/"
        },
        "id": "4ZkXPfbqcHgE",
        "outputId": "207eaf8b-79ef-45bd-9d30-ef8010c7c28b"
      },
      "execution_count": 47,
      "outputs": [
        {
          "output_type": "stream",
          "name": "stdout",
          "text": [
            "The frequency of wins after 100 rolls is: 0.27\n"
          ]
        }
      ]
    },
    {
      "cell_type": "code",
      "source": [
        "# Exercise 4\n",
        "# Sample database (list of dictionaries)\n",
        "people_db = [\n",
        "    {\"name\": \"Alice\", \"height\": 145},\n",
        "    {\"name\": \"Bob\", \"height\": 160},\n",
        "    {\"name\": \"Charlie\", \"height\": 180},\n",
        "    {\"name\": \"David\", \"height\": 170}\n",
        "]\n",
        "\n",
        "# Function to classify based on height\n",
        "def classify_height(height):\n",
        "    if height < 150:\n",
        "        return \"Short\"\n",
        "    elif 150 <= height < 175:\n",
        "        return \"Medium\"\n",
        "    else:\n",
        "        return \"Tall\"\n",
        "\n",
        "# Add a new column with the height classification\n",
        "for person in people_db:\n",
        "    person[\"height_category\"] = classify_height(person[\"height\"])\n",
        "\n",
        "# Display the updated database\n",
        "for person in people_db:\n",
        "    print(person)\n",
        "\n"
      ],
      "metadata": {
        "colab": {
          "base_uri": "https://localhost:8080/"
        },
        "id": "AybFc5dHcaiB",
        "outputId": "1b59932e-802d-4e75-8aad-3e43237f1153"
      },
      "execution_count": 49,
      "outputs": [
        {
          "output_type": "stream",
          "name": "stdout",
          "text": [
            "{'name': 'Alice', 'height': 145, 'height_category': 'Short'}\n",
            "{'name': 'Bob', 'height': 160, 'height_category': 'Medium'}\n",
            "{'name': 'Charlie', 'height': 180, 'height_category': 'Tall'}\n",
            "{'name': 'David', 'height': 170, 'height_category': 'Medium'}\n"
          ]
        }
      ]
    },
    {
      "cell_type": "code",
      "source": [
        "# SECTION II\n"
      ],
      "metadata": {
        "id": "Rs7blKzCc9kk"
      },
      "execution_count": null,
      "outputs": []
    },
    {
      "cell_type": "code",
      "source": [
        "# PART 1\n",
        "# EXERCISE 1: VARIABLES AND TYPES\n",
        "# Declare two variables( intergers and float) and print their types\n",
        "integer = 7\n",
        "float = 7.4\n",
        "\n",
        "print(type(integer_variable))\n",
        "print(type(float_variable))\n"
      ],
      "metadata": {
        "colab": {
          "base_uri": "https://localhost:8080/"
        },
        "id": "NCpExx9jdItj",
        "outputId": "aff22852-b592-4c78-dfd2-5572f6a0437e"
      },
      "execution_count": 51,
      "outputs": [
        {
          "output_type": "stream",
          "name": "stdout",
          "text": [
            "<class 'int'>\n",
            "<class 'float'>\n"
          ]
        }
      ]
    },
    {
      "cell_type": "code",
      "source": [
        "# Convert a float to an interger and an interger to a float\n",
        "\n",
        "\n",
        "# converting the float to an interger\n",
        "decimal_number = int(7.4)\n",
        "# converting the interger to a float\n",
        "#interger_number = float(3)\n",
        "\n",
        "print(type(decimal_number))\n",
        "print(type(interger_number))"
      ],
      "metadata": {
        "colab": {
          "base_uri": "https://localhost:8080/",
          "height": 211
        },
        "id": "AIdJYQuVdz4q",
        "outputId": "7e0a6dce-ab32-4932-ced2-420912f52183"
      },
      "execution_count": 60,
      "outputs": [
        {
          "output_type": "error",
          "ename": "TypeError",
          "evalue": "'float' object is not callable",
          "traceback": [
            "\u001b[0;31m---------------------------------------------------------------------------\u001b[0m",
            "\u001b[0;31mTypeError\u001b[0m                                 Traceback (most recent call last)",
            "\u001b[0;32m<ipython-input-60-b05761e34892>\u001b[0m in \u001b[0;36m<cell line: 0>\u001b[0;34m()\u001b[0m\n\u001b[1;32m      5\u001b[0m \u001b[0mdecimal_number\u001b[0m \u001b[0;34m=\u001b[0m \u001b[0mint\u001b[0m\u001b[0;34m(\u001b[0m\u001b[0;36m7.4\u001b[0m\u001b[0;34m)\u001b[0m\u001b[0;34m\u001b[0m\u001b[0;34m\u001b[0m\u001b[0m\n\u001b[1;32m      6\u001b[0m \u001b[0;31m# converting the interger to a float\u001b[0m\u001b[0;34m\u001b[0m\u001b[0;34m\u001b[0m\u001b[0m\n\u001b[0;32m----> 7\u001b[0;31m \u001b[0minterger_number\u001b[0m \u001b[0;34m=\u001b[0m \u001b[0mfloat\u001b[0m\u001b[0;34m(\u001b[0m\u001b[0;36m3\u001b[0m\u001b[0;34m)\u001b[0m\u001b[0;34m\u001b[0m\u001b[0;34m\u001b[0m\u001b[0m\n\u001b[0m\u001b[1;32m      8\u001b[0m \u001b[0;34m\u001b[0m\u001b[0m\n\u001b[1;32m      9\u001b[0m \u001b[0mprint\u001b[0m\u001b[0;34m(\u001b[0m\u001b[0mtype\u001b[0m\u001b[0;34m(\u001b[0m\u001b[0mdecimal_number\u001b[0m\u001b[0;34m)\u001b[0m\u001b[0;34m)\u001b[0m\u001b[0;34m\u001b[0m\u001b[0;34m\u001b[0m\u001b[0m\n",
            "\u001b[0;31mTypeError\u001b[0m: 'float' object is not callable"
          ]
        }
      ]
    },
    {
      "cell_type": "code",
      "source": [
        "# Concatenating two strings entered by the user\n",
        "first_string = input(\"Enter the first string: \")\n",
        "second_string = input(\"Enter the second string: \")\n",
        "\n",
        "# Concatenate the strings\n",
        "concatenated_string = first_string + \" \" + second_string\n",
        "\n",
        "# Display the result\n",
        "print(\"Concatenated string:\"+ concatenated_string)\n"
      ],
      "metadata": {
        "colab": {
          "base_uri": "https://localhost:8080/"
        },
        "id": "KPyeJzXMgcjT",
        "outputId": "fcc91514-1f51-4fc8-968a-fe0bdfd17cd8"
      },
      "execution_count": 67,
      "outputs": [
        {
          "output_type": "stream",
          "name": "stdout",
          "text": [
            "Enter the first string: mercy\n",
            "Enter the second string: oger\n",
            "Concatenated string:mercy oger\n"
          ]
        }
      ]
    },
    {
      "cell_type": "code",
      "source": [
        "# Checking a variable type provided by the user\n",
        "user_input = input(\"Enter a value: \")\n",
        "print(f\"This is the variable type: {type(user_input)}\")\n"
      ],
      "metadata": {
        "colab": {
          "base_uri": "https://localhost:8080/"
        },
        "id": "bLpSyLoUhY1Q",
        "outputId": "392a86bb-585f-44ed-c880-52808e61dab2"
      },
      "execution_count": 72,
      "outputs": [
        {
          "output_type": "stream",
          "name": "stdout",
          "text": [
            "Enter a value: 6\n",
            "This is the variable type: <class 'str'>\n"
          ]
        }
      ]
    },
    {
      "cell_type": "code",
      "source": [],
      "metadata": {
        "id": "E4gl_hM3iNs-"
      },
      "execution_count": null,
      "outputs": []
    }
  ]
}